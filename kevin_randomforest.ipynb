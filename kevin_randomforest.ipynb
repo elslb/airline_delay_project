{
 "cells": [
  {
   "cell_type": "markdown",
   "metadata": {},
   "source": [
    "## Midterm Project: Predicting Arrival Delay for Airlines\n",
    "    by Elie Saliba and Kevin Ting"
   ]
  },
  {
   "cell_type": "markdown",
   "metadata": {},
   "source": [
    "### Task: \n",
    "\n",
    "Build a ML model to predict delays on flights (**ARR_DELAY**) from first 7 days of 2020."
   ]
  },
  {
   "cell_type": "markdown",
   "metadata": {},
   "source": [
    "### Approach: \n",
    "    1) Load data\n",
    "    2) Wrangle data: Check for sparse features to remove them\n",
    "    3) Wrangle data: Remove columns that will not be available for evaluation\n",
    "    4) Wrangle data: Check for columns with a few missing values to impute with zero, mean or median\n",
    "    5) Wrangle data: Encode categorical values to numerical values\n",
    "    6) Exploratory analyss: Visualize data distribution with histograms\n",
    "    7) Exploratory analyss: Use measures of central tendency and IQR to understand data at various positions\n",
    "    \n",
    "    8) Variable interdependence: Infer multicollinearity of data through correlation matrix\n",
    "    9) Feature selection: Remove redundant variables (i.e. columns that refer to the same thing e.g. ID)\n",
    "    10) Feature engineering: Remove highly collinear variables (i.e. correlation > 0.8)\n",
    "    11) Feature engineering: Reduce data dimension to the variables that most explain variation in target variable\n",
    "    12) Modeling building: Random forest is chosen for machine learning modeling\n",
    "    13) Model comparison: Random forest modeling with original raw data (PART 2) and PCA transformed data (PART 3)\n",
    "    14) Machine learning process:\n",
    "        (a) Train/test data: Split data for training and testing\n",
    "        (b) Model creation: Create models in a grid search for a combination of parameters\n",
    "        (c) Model selection: Use 10-fold cross validation to evaluate model performance and select the best one\n",
    "        (c) Final Model training: Use parameters of the best model from above to train on entire train set\n",
    "        (d) Final Model evaluation: Use 10-fold cross validation for average error on 10 folds of training data\n",
    "        (e) Final Model performance evaluation: Use confusion matrix, Precision, Recall, ROC to evaluate performance"
   ]
  },
  {
   "cell_type": "markdown",
   "metadata": {},
   "source": [
    "### Environment Setup"
   ]
  },
  {
   "cell_type": "code",
   "execution_count": 22,
   "metadata": {},
   "outputs": [],
   "source": [
    "import pandas as pd\n",
    "import numpy as np\n",
    "import datetime\n",
    "import matplotlib.pyplot as plt\n",
    "from sklearn.preprocessing import LabelEncoder\n",
    "from sklearn.model_selection import train_test_split, GridSearchCV\n",
    "from sklearn.ensemble import RandomForestClassifier\n",
    "from sklearn.linear_model import LinearRegression, Ridge, Lasso\n",
    "# from sklearn.decomposition import PCA\n",
    "from sklearn.ensemble import RandomForestRegressor\n",
    "from sklearn import metrics"
   ]
  },
  {
   "cell_type": "markdown",
   "metadata": {},
   "source": [
    "### 1. Load Data"
   ]
  },
  {
   "cell_type": "code",
   "execution_count": 2,
   "metadata": {},
   "outputs": [
    {
     "data": {
      "text/html": [
       "<div>\n",
       "<style scoped>\n",
       "    .dataframe tbody tr th:only-of-type {\n",
       "        vertical-align: middle;\n",
       "    }\n",
       "\n",
       "    .dataframe tbody tr th {\n",
       "        vertical-align: top;\n",
       "    }\n",
       "\n",
       "    .dataframe thead th {\n",
       "        text-align: right;\n",
       "    }\n",
       "</style>\n",
       "<table border=\"1\" class=\"dataframe\">\n",
       "  <thead>\n",
       "    <tr style=\"text-align: right;\">\n",
       "      <th></th>\n",
       "      <th>fl_date</th>\n",
       "      <th>mkt_unique_carrier</th>\n",
       "      <th>branded_code_share</th>\n",
       "      <th>mkt_carrier</th>\n",
       "      <th>mkt_carrier_fl_num</th>\n",
       "      <th>op_unique_carrier</th>\n",
       "      <th>tail_num</th>\n",
       "      <th>op_carrier_fl_num</th>\n",
       "      <th>origin_airport_id</th>\n",
       "      <th>origin</th>\n",
       "      <th>...</th>\n",
       "      <th>distance</th>\n",
       "      <th>carrier_delay</th>\n",
       "      <th>weather_delay</th>\n",
       "      <th>nas_delay</th>\n",
       "      <th>security_delay</th>\n",
       "      <th>late_aircraft_delay</th>\n",
       "      <th>first_dep_time</th>\n",
       "      <th>total_add_gtime</th>\n",
       "      <th>longest_add_gtime</th>\n",
       "      <th>no_name</th>\n",
       "    </tr>\n",
       "  </thead>\n",
       "  <tbody>\n",
       "    <tr>\n",
       "      <th>0</th>\n",
       "      <td>2019-01-01</td>\n",
       "      <td>AA</td>\n",
       "      <td>AA_CODESHARE</td>\n",
       "      <td>AA</td>\n",
       "      <td>5241</td>\n",
       "      <td>OH</td>\n",
       "      <td>N703PS</td>\n",
       "      <td>5241</td>\n",
       "      <td>11057</td>\n",
       "      <td>CLT</td>\n",
       "      <td>...</td>\n",
       "      <td>562</td>\n",
       "      <td>25.0</td>\n",
       "      <td>0.0</td>\n",
       "      <td>4.0</td>\n",
       "      <td>0.0</td>\n",
       "      <td>0.0</td>\n",
       "      <td>NaN</td>\n",
       "      <td>NaN</td>\n",
       "      <td>NaN</td>\n",
       "      <td>NaN</td>\n",
       "    </tr>\n",
       "    <tr>\n",
       "      <th>1</th>\n",
       "      <td>2019-01-01</td>\n",
       "      <td>NK</td>\n",
       "      <td>NK</td>\n",
       "      <td>NK</td>\n",
       "      <td>115</td>\n",
       "      <td>NK</td>\n",
       "      <td>N525NK</td>\n",
       "      <td>115</td>\n",
       "      <td>10821</td>\n",
       "      <td>BWI</td>\n",
       "      <td>...</td>\n",
       "      <td>1491</td>\n",
       "      <td>0.0</td>\n",
       "      <td>0.0</td>\n",
       "      <td>15.0</td>\n",
       "      <td>0.0</td>\n",
       "      <td>0.0</td>\n",
       "      <td>NaN</td>\n",
       "      <td>NaN</td>\n",
       "      <td>NaN</td>\n",
       "      <td>NaN</td>\n",
       "    </tr>\n",
       "  </tbody>\n",
       "</table>\n",
       "<p>2 rows × 42 columns</p>\n",
       "</div>"
      ],
      "text/plain": [
       "      fl_date mkt_unique_carrier branded_code_share mkt_carrier  \\\n",
       "0  2019-01-01                 AA       AA_CODESHARE          AA   \n",
       "1  2019-01-01                 NK                 NK          NK   \n",
       "\n",
       "   mkt_carrier_fl_num op_unique_carrier tail_num  op_carrier_fl_num  \\\n",
       "0                5241                OH   N703PS               5241   \n",
       "1                 115                NK   N525NK                115   \n",
       "\n",
       "   origin_airport_id origin  ... distance  carrier_delay weather_delay  \\\n",
       "0              11057    CLT  ...      562           25.0           0.0   \n",
       "1              10821    BWI  ...     1491            0.0           0.0   \n",
       "\n",
       "  nas_delay  security_delay  late_aircraft_delay  first_dep_time  \\\n",
       "0       4.0             0.0                  0.0             NaN   \n",
       "1      15.0             0.0                  0.0             NaN   \n",
       "\n",
       "   total_add_gtime  longest_add_gtime  no_name  \n",
       "0              NaN                NaN      NaN  \n",
       "1              NaN                NaN      NaN  \n",
       "\n",
       "[2 rows x 42 columns]"
      ]
     },
     "execution_count": 2,
     "metadata": {},
     "output_type": "execute_result"
    }
   ],
   "source": [
    "startTime = datetime.datetime.now()\n",
    "df = pd.read_csv(\"data/airline_sample_150k.csv\")\n",
    "df.head(2)"
   ]
  },
  {
   "cell_type": "markdown",
   "metadata": {},
   "source": [
    "### 2. Wrangle data"
   ]
  },
  {
   "cell_type": "code",
   "execution_count": 3,
   "metadata": {},
   "outputs": [
    {
     "name": "stdout",
     "output_type": "stream",
     "text": [
      "Dimension: 42\n",
      "Sparsity per variable:\n",
      "fl_date                  0.000000\n",
      "mkt_unique_carrier       0.000000\n",
      "branded_code_share       0.000000\n",
      "mkt_carrier              0.000000\n",
      "mkt_carrier_fl_num       0.000000\n",
      "op_unique_carrier        0.000000\n",
      "tail_num                 0.302857\n",
      "op_carrier_fl_num        0.000000\n",
      "origin_airport_id        0.000000\n",
      "origin                   0.000000\n",
      "origin_city_name         0.000000\n",
      "dest_airport_id          0.000000\n",
      "dest                     0.000000\n",
      "dest_city_name           0.000000\n",
      "crs_dep_time             0.000000\n",
      "dep_time                 1.595507\n",
      "dep_delay                1.623211\n",
      "taxi_out                 1.681138\n",
      "wheels_off               1.681138\n",
      "wheels_on                1.739694\n",
      "taxi_in                  1.739694\n",
      "crs_arr_time             0.000000\n",
      "arr_time                 1.701916\n",
      "arr_delay                1.929216\n",
      "cancelled                0.000000\n",
      "cancellation_code       98.344677\n",
      "diverted                 0.000000\n",
      "dup                      0.000000\n",
      "crs_elapsed_time         0.000000\n",
      "actual_elapsed_time      1.907808\n",
      "air_time                 1.944957\n",
      "flights                  0.000000\n",
      "distance                 0.000000\n",
      "carrier_delay           81.192034\n",
      "weather_delay           81.192034\n",
      "nas_delay               81.192034\n",
      "security_delay          81.192034\n",
      "late_aircraft_delay     81.192034\n",
      "first_dep_time          99.335101\n",
      "total_add_gtime         99.335101\n",
      "longest_add_gtime       99.335101\n",
      "no_name                100.000000\n",
      "dtype: float64\n"
     ]
    }
   ],
   "source": [
    "print(f'Dimension: {len(df.columns)}')\n",
    "print(f'Sparsity per variable:\\n{(len(df.index) - df.count()) / len(df.index) * 100}')"
   ]
  },
  {
   "cell_type": "code",
   "execution_count": 4,
   "metadata": {},
   "outputs": [
    {
     "data": {
      "text/html": [
       "<div>\n",
       "<style scoped>\n",
       "    .dataframe tbody tr th:only-of-type {\n",
       "        vertical-align: middle;\n",
       "    }\n",
       "\n",
       "    .dataframe tbody tr th {\n",
       "        vertical-align: top;\n",
       "    }\n",
       "\n",
       "    .dataframe thead th {\n",
       "        text-align: right;\n",
       "    }\n",
       "</style>\n",
       "<table border=\"1\" class=\"dataframe\">\n",
       "  <thead>\n",
       "    <tr style=\"text-align: right;\">\n",
       "      <th></th>\n",
       "      <th>mkt_carrier_fl_num</th>\n",
       "      <th>op_carrier_fl_num</th>\n",
       "      <th>origin_airport_id</th>\n",
       "      <th>dest_airport_id</th>\n",
       "      <th>crs_dep_time</th>\n",
       "      <th>dep_time</th>\n",
       "      <th>dep_delay</th>\n",
       "      <th>taxi_out</th>\n",
       "      <th>wheels_off</th>\n",
       "      <th>wheels_on</th>\n",
       "      <th>...</th>\n",
       "      <th>distance</th>\n",
       "      <th>carrier_delay</th>\n",
       "      <th>weather_delay</th>\n",
       "      <th>nas_delay</th>\n",
       "      <th>security_delay</th>\n",
       "      <th>late_aircraft_delay</th>\n",
       "      <th>first_dep_time</th>\n",
       "      <th>total_add_gtime</th>\n",
       "      <th>longest_add_gtime</th>\n",
       "      <th>no_name</th>\n",
       "    </tr>\n",
       "  </thead>\n",
       "  <tbody>\n",
       "    <tr>\n",
       "      <th>count</th>\n",
       "      <td>158821.000000</td>\n",
       "      <td>158821.000000</td>\n",
       "      <td>158821.000000</td>\n",
       "      <td>158821.000000</td>\n",
       "      <td>158821.000000</td>\n",
       "      <td>156287.000000</td>\n",
       "      <td>156243.000000</td>\n",
       "      <td>156151.000000</td>\n",
       "      <td>156151.000000</td>\n",
       "      <td>156058.000000</td>\n",
       "      <td>...</td>\n",
       "      <td>158821.000000</td>\n",
       "      <td>29871.000000</td>\n",
       "      <td>29871.000000</td>\n",
       "      <td>29871.00000</td>\n",
       "      <td>29871.000000</td>\n",
       "      <td>29871.000000</td>\n",
       "      <td>1056.000000</td>\n",
       "      <td>1056.000000</td>\n",
       "      <td>1056.000000</td>\n",
       "      <td>0.0</td>\n",
       "    </tr>\n",
       "    <tr>\n",
       "      <th>mean</th>\n",
       "      <td>2731.550922</td>\n",
       "      <td>2731.520435</td>\n",
       "      <td>12676.521115</td>\n",
       "      <td>12684.492076</td>\n",
       "      <td>1330.071294</td>\n",
       "      <td>1334.219654</td>\n",
       "      <td>10.678347</td>\n",
       "      <td>17.514707</td>\n",
       "      <td>1358.303623</td>\n",
       "      <td>1459.832485</td>\n",
       "      <td>...</td>\n",
       "      <td>768.048816</td>\n",
       "      <td>20.236115</td>\n",
       "      <td>3.766663</td>\n",
       "      <td>16.34110</td>\n",
       "      <td>0.062603</td>\n",
       "      <td>28.061866</td>\n",
       "      <td>1349.138258</td>\n",
       "      <td>37.618371</td>\n",
       "      <td>36.997159</td>\n",
       "      <td>NaN</td>\n",
       "    </tr>\n",
       "    <tr>\n",
       "      <th>std</th>\n",
       "      <td>1861.710239</td>\n",
       "      <td>1861.786465</td>\n",
       "      <td>1523.258647</td>\n",
       "      <td>1522.042773</td>\n",
       "      <td>489.098651</td>\n",
       "      <td>502.999576</td>\n",
       "      <td>48.842558</td>\n",
       "      <td>10.052736</td>\n",
       "      <td>504.539066</td>\n",
       "      <td>531.746813</td>\n",
       "      <td>...</td>\n",
       "      <td>585.328421</td>\n",
       "      <td>63.790109</td>\n",
       "      <td>31.296086</td>\n",
       "      <td>39.87713</td>\n",
       "      <td>1.749522</td>\n",
       "      <td>54.505342</td>\n",
       "      <td>495.648285</td>\n",
       "      <td>33.418773</td>\n",
       "      <td>32.638897</td>\n",
       "      <td>NaN</td>\n",
       "    </tr>\n",
       "    <tr>\n",
       "      <th>min</th>\n",
       "      <td>1.000000</td>\n",
       "      <td>1.000000</td>\n",
       "      <td>10135.000000</td>\n",
       "      <td>10135.000000</td>\n",
       "      <td>2.000000</td>\n",
       "      <td>1.000000</td>\n",
       "      <td>-62.000000</td>\n",
       "      <td>0.000000</td>\n",
       "      <td>1.000000</td>\n",
       "      <td>1.000000</td>\n",
       "      <td>...</td>\n",
       "      <td>31.000000</td>\n",
       "      <td>0.000000</td>\n",
       "      <td>0.000000</td>\n",
       "      <td>0.00000</td>\n",
       "      <td>0.000000</td>\n",
       "      <td>0.000000</td>\n",
       "      <td>6.000000</td>\n",
       "      <td>1.000000</td>\n",
       "      <td>1.000000</td>\n",
       "      <td>NaN</td>\n",
       "    </tr>\n",
       "    <tr>\n",
       "      <th>25%</th>\n",
       "      <td>1127.000000</td>\n",
       "      <td>1127.000000</td>\n",
       "      <td>11292.000000</td>\n",
       "      <td>11292.000000</td>\n",
       "      <td>916.000000</td>\n",
       "      <td>919.000000</td>\n",
       "      <td>-6.000000</td>\n",
       "      <td>11.000000</td>\n",
       "      <td>934.000000</td>\n",
       "      <td>1045.000000</td>\n",
       "      <td>...</td>\n",
       "      <td>341.000000</td>\n",
       "      <td>0.000000</td>\n",
       "      <td>0.000000</td>\n",
       "      <td>0.00000</td>\n",
       "      <td>0.000000</td>\n",
       "      <td>0.000000</td>\n",
       "      <td>915.500000</td>\n",
       "      <td>16.000000</td>\n",
       "      <td>16.000000</td>\n",
       "      <td>NaN</td>\n",
       "    </tr>\n",
       "    <tr>\n",
       "      <th>50%</th>\n",
       "      <td>2311.000000</td>\n",
       "      <td>2311.000000</td>\n",
       "      <td>12889.000000</td>\n",
       "      <td>12889.000000</td>\n",
       "      <td>1321.000000</td>\n",
       "      <td>1327.000000</td>\n",
       "      <td>-2.000000</td>\n",
       "      <td>15.000000</td>\n",
       "      <td>1340.000000</td>\n",
       "      <td>1500.000000</td>\n",
       "      <td>...</td>\n",
       "      <td>604.000000</td>\n",
       "      <td>0.000000</td>\n",
       "      <td>0.000000</td>\n",
       "      <td>3.00000</td>\n",
       "      <td>0.000000</td>\n",
       "      <td>4.000000</td>\n",
       "      <td>1408.500000</td>\n",
       "      <td>27.000000</td>\n",
       "      <td>27.000000</td>\n",
       "      <td>NaN</td>\n",
       "    </tr>\n",
       "    <tr>\n",
       "      <th>75%</th>\n",
       "      <td>4321.000000</td>\n",
       "      <td>4321.000000</td>\n",
       "      <td>14057.000000</td>\n",
       "      <td>14057.000000</td>\n",
       "      <td>1735.000000</td>\n",
       "      <td>1743.000000</td>\n",
       "      <td>7.000000</td>\n",
       "      <td>20.000000</td>\n",
       "      <td>1759.000000</td>\n",
       "      <td>1908.000000</td>\n",
       "      <td>...</td>\n",
       "      <td>1005.000000</td>\n",
       "      <td>17.000000</td>\n",
       "      <td>0.000000</td>\n",
       "      <td>20.00000</td>\n",
       "      <td>0.000000</td>\n",
       "      <td>34.000000</td>\n",
       "      <td>1743.250000</td>\n",
       "      <td>47.000000</td>\n",
       "      <td>45.000000</td>\n",
       "      <td>NaN</td>\n",
       "    </tr>\n",
       "    <tr>\n",
       "      <th>max</th>\n",
       "      <td>9391.000000</td>\n",
       "      <td>9391.000000</td>\n",
       "      <td>16869.000000</td>\n",
       "      <td>16869.000000</td>\n",
       "      <td>2359.000000</td>\n",
       "      <td>2400.000000</td>\n",
       "      <td>1433.000000</td>\n",
       "      <td>175.000000</td>\n",
       "      <td>2400.000000</td>\n",
       "      <td>2400.000000</td>\n",
       "      <td>...</td>\n",
       "      <td>5095.000000</td>\n",
       "      <td>1433.000000</td>\n",
       "      <td>1203.000000</td>\n",
       "      <td>1218.00000</td>\n",
       "      <td>140.000000</td>\n",
       "      <td>1050.000000</td>\n",
       "      <td>2347.000000</td>\n",
       "      <td>225.000000</td>\n",
       "      <td>211.000000</td>\n",
       "      <td>NaN</td>\n",
       "    </tr>\n",
       "  </tbody>\n",
       "</table>\n",
       "<p>8 rows × 30 columns</p>\n",
       "</div>"
      ],
      "text/plain": [
       "       mkt_carrier_fl_num  op_carrier_fl_num  origin_airport_id  \\\n",
       "count       158821.000000      158821.000000      158821.000000   \n",
       "mean          2731.550922        2731.520435       12676.521115   \n",
       "std           1861.710239        1861.786465        1523.258647   \n",
       "min              1.000000           1.000000       10135.000000   \n",
       "25%           1127.000000        1127.000000       11292.000000   \n",
       "50%           2311.000000        2311.000000       12889.000000   \n",
       "75%           4321.000000        4321.000000       14057.000000   \n",
       "max           9391.000000        9391.000000       16869.000000   \n",
       "\n",
       "       dest_airport_id   crs_dep_time       dep_time      dep_delay  \\\n",
       "count    158821.000000  158821.000000  156287.000000  156243.000000   \n",
       "mean      12684.492076    1330.071294    1334.219654      10.678347   \n",
       "std        1522.042773     489.098651     502.999576      48.842558   \n",
       "min       10135.000000       2.000000       1.000000     -62.000000   \n",
       "25%       11292.000000     916.000000     919.000000      -6.000000   \n",
       "50%       12889.000000    1321.000000    1327.000000      -2.000000   \n",
       "75%       14057.000000    1735.000000    1743.000000       7.000000   \n",
       "max       16869.000000    2359.000000    2400.000000    1433.000000   \n",
       "\n",
       "            taxi_out     wheels_off      wheels_on  ...       distance  \\\n",
       "count  156151.000000  156151.000000  156058.000000  ...  158821.000000   \n",
       "mean       17.514707    1358.303623    1459.832485  ...     768.048816   \n",
       "std        10.052736     504.539066     531.746813  ...     585.328421   \n",
       "min         0.000000       1.000000       1.000000  ...      31.000000   \n",
       "25%        11.000000     934.000000    1045.000000  ...     341.000000   \n",
       "50%        15.000000    1340.000000    1500.000000  ...     604.000000   \n",
       "75%        20.000000    1759.000000    1908.000000  ...    1005.000000   \n",
       "max       175.000000    2400.000000    2400.000000  ...    5095.000000   \n",
       "\n",
       "       carrier_delay  weather_delay    nas_delay  security_delay  \\\n",
       "count   29871.000000   29871.000000  29871.00000    29871.000000   \n",
       "mean       20.236115       3.766663     16.34110        0.062603   \n",
       "std        63.790109      31.296086     39.87713        1.749522   \n",
       "min         0.000000       0.000000      0.00000        0.000000   \n",
       "25%         0.000000       0.000000      0.00000        0.000000   \n",
       "50%         0.000000       0.000000      3.00000        0.000000   \n",
       "75%        17.000000       0.000000     20.00000        0.000000   \n",
       "max      1433.000000    1203.000000   1218.00000      140.000000   \n",
       "\n",
       "       late_aircraft_delay  first_dep_time  total_add_gtime  \\\n",
       "count         29871.000000     1056.000000      1056.000000   \n",
       "mean             28.061866     1349.138258        37.618371   \n",
       "std              54.505342      495.648285        33.418773   \n",
       "min               0.000000        6.000000         1.000000   \n",
       "25%               0.000000      915.500000        16.000000   \n",
       "50%               4.000000     1408.500000        27.000000   \n",
       "75%              34.000000     1743.250000        47.000000   \n",
       "max            1050.000000     2347.000000       225.000000   \n",
       "\n",
       "       longest_add_gtime  no_name  \n",
       "count        1056.000000      0.0  \n",
       "mean           36.997159      NaN  \n",
       "std            32.638897      NaN  \n",
       "min             1.000000      NaN  \n",
       "25%            16.000000      NaN  \n",
       "50%            27.000000      NaN  \n",
       "75%            45.000000      NaN  \n",
       "max           211.000000      NaN  \n",
       "\n",
       "[8 rows x 30 columns]"
      ]
     },
     "execution_count": 4,
     "metadata": {},
     "output_type": "execute_result"
    }
   ],
   "source": [
    "df.describe()"
   ]
  },
  {
   "cell_type": "code",
   "execution_count": 5,
   "metadata": {},
   "outputs": [
    {
     "data": {
      "image/png": "[encoded data removed]",
      "text/plain": [
       "<Figure size 432x288 with 1 Axes>"
      ]
     },
     "metadata": {
      "needs_background": "light"
     },
     "output_type": "display_data"
    }
   ],
   "source": [
    "plt.hist(df['arr_delay'], bins=300)\n",
    "plt.title('Histogram of Arrival Delays')\n",
    "plt.xlabel('Delay (min)')\n",
    "plt.ylabel('Flights')\n",
    "plt.show()"
   ]
  },
  {
   "cell_type": "code",
   "execution_count": 6,
   "metadata": {},
   "outputs": [],
   "source": [
    "# remove outlier from ARR_DELAY\n",
    "df['arr_delay'] = df['arr_delay'].apply(lambda x: x if x < 300 else np.nan)\n",
    "df['arr_delay'] = df['arr_delay'].apply(lambda x: x if x > -100 else np.nan)"
   ]
  },
  {
   "cell_type": "code",
   "execution_count": 7,
   "metadata": {},
   "outputs": [
    {
     "name": "stdout",
     "output_type": "stream",
     "text": [
      "Dimension reduces to: 21\n"
     ]
    }
   ],
   "source": [
    "# drop features that have >80% sparsity\n",
    "df = df.iloc[:, :-9]\n",
    "df = df.drop('cancellation_code', axis=1)\n",
    "\n",
    "# drop features that won't be available for evaluation\n",
    "df = df.drop([\n",
    "    'dep_time', 'dep_delay', 'taxi_out', 'wheels_off', 'wheels_on', 'taxi_in', \n",
    "    'arr_time', 'cancelled', 'diverted', 'actual_elapsed_time','air_time'], \n",
    "    axis=1\n",
    ")\n",
    "\n",
    "# drop ARR_DELAY rows with NaN\n",
    "df = df.drop(df[df['arr_delay'].isna()].index).reset_index(drop=True)\n",
    "\n",
    "print(f'Dimension reduces to: {len(df.columns)}')"
   ]
  },
  {
   "cell_type": "code",
   "execution_count": 8,
   "metadata": {},
   "outputs": [
    {
     "name": "stdout",
     "output_type": "stream",
     "text": [
      "Dimension increase to: 23\n"
     ]
    }
   ],
   "source": [
    "# converting FL_DATE to datetime type for easy wrangling\n",
    "df['fl_date'] = pd.to_datetime(df['fl_date'], format='%Y-%m-%d')\n",
    "\n",
    "# creating MONTH from FL_DATE\n",
    "months = [df['fl_date'][i].month for i in range(len(df['fl_date']))]\n",
    "df.insert(1, 'month', value=months)\n",
    "\n",
    "# creating WEEKDAY from FL_DATE\n",
    "weekdays = [df['fl_date'][i].weekday() for i in range(len(df['fl_date']))]\n",
    "df.insert(2, 'weekday', value=weekdays)\n",
    "\n",
    "print(f'Dimension increase to: {len(df.columns)}')"
   ]
  },
  {
   "cell_type": "code",
   "execution_count": 9,
   "metadata": {},
   "outputs": [
    {
     "data": {
      "text/plain": [
       "Index(['fl_date', 'month', 'weekday', 'mkt_unique_carrier',\n",
       "       'branded_code_share', 'mkt_carrier', 'mkt_carrier_fl_num',\n",
       "       'op_unique_carrier', 'tail_num', 'op_carrier_fl_num',\n",
       "       'origin_airport_id', 'origin', 'origin_city_name', 'dest_airport_id',\n",
       "       'dest', 'dest_city_name', 'crs_dep_time', 'crs_arr_time', 'arr_delay',\n",
       "       'dup', 'crs_elapsed_time', 'flights', 'distance'],\n",
       "      dtype='object')"
      ]
     },
     "execution_count": 9,
     "metadata": {},
     "output_type": "execute_result"
    }
   ],
   "source": [
    "df.columns"
   ]
  },
  {
   "cell_type": "code",
   "execution_count": 10,
   "metadata": {
    "tags": []
   },
   "outputs": [],
   "source": [
    "# encoding categorical features with LabelEncoder\n",
    "le = LabelEncoder()\n",
    "\n",
    "df['mkt_unique_carrier'] = le.fit_transform(df['mkt_unique_carrier'])\n",
    "mktUniqueCarrier = list(le.classes_)\n",
    "df['branded_code_share'] = le.fit_transform(df['branded_code_share'])\n",
    "brandedCodeShare = list(le.classes_)\n",
    "df['mkt_carrier'] = le.fit_transform(df['mkt_carrier'])\n",
    "mktCarrier = list(le.classes_)\n",
    "df['mkt_carrier_fl_num'] = le.fit_transform(df['mkt_carrier_fl_num'])\n",
    "mktCarrierFlNum = list(le.classes_)\n",
    "df['op_unique_carrier'] = le.fit_transform(df['op_unique_carrier'])\n",
    "opUniqueCarrier = list(le.classes_)\n",
    "df['tail_num'] = le.fit_transform(df['tail_num'])\n",
    "tailNum = list(le.classes_)\n",
    "df['op_carrier_fl_num'] = le.fit_transform(df['op_carrier_fl_num'])\n",
    "opCarrierFlNum = list(le.classes_)\n",
    "\n",
    "df['origin_airport_id'] = le.fit_transform(df['origin_airport_id'])\n",
    "originAirportId = list(le.classes_)\n",
    "df['origin'] = le.fit_transform(df['origin'])\n",
    "origin = list(le.classes_)\n",
    "df['origin_city_name'] = le.fit_transform(df['origin_city_name'])\n",
    "originCityName = list(le.classes_)\n",
    "\n",
    "df['dest_airport_id'] = le.fit_transform(df['dest_airport_id'])\n",
    "destAirportId = list(le.classes_)\n",
    "df['dest'] = le.fit_transform(df['dest'])\n",
    "dest = list(le.classes_)\n",
    "df['dest_city_name'] = le.fit_transform(df['dest_city_name'])\n",
    "destCityName = list(le.classes_)\n",
    "df['dup'] = le.fit_transform(df['dup'])\n",
    "dup = list(le.classes_)"
   ]
  },
  {
   "cell_type": "markdown",
   "metadata": {},
   "source": [
    "### Exploratory Analysis"
   ]
  },
  {
   "cell_type": "code",
   "execution_count": 11,
   "metadata": {},
   "outputs": [
    {
     "data": {
      "text/plain": [
       "<Figure size 1080x360 with 0 Axes>"
      ]
     },
     "metadata": {},
     "output_type": "display_data"
    },
    {
     "data": {
      "image/png": "[encoded data removed]",
      "text/plain": [
       "<Figure size 432x288 with 1 Axes>"
      ]
     },
     "metadata": {
      "needs_background": "light"
     },
     "output_type": "display_data"
    },
    {
     "data": {
      "image/png": "[encoded data removed]",
      "text/plain": [
       "<Figure size 432x288 with 1 Axes>"
      ]
     },
     "metadata": {
      "needs_background": "light"
     },
     "output_type": "display_data"
    },
    {
     "data": {
      "image/png": "[encoded data removed]",
      "text/plain": [
       "<Figure size 432x288 with 1 Axes>"
      ]
     },
     "metadata": {
      "needs_background": "light"
     },
     "output_type": "display_data"
    }
   ],
   "source": [
    "# average delay of flights per catergory compare to overall delay from all records\n",
    "avg_delay = df.arr_delay.mean()\n",
    "categories = ['month', 'weekday', 'mkt_carrier']\n",
    "\n",
    "for i, pred in enumerate(categories):\n",
    "    plt.figure(i, figsize=(15, 5))\n",
    "    group = df.groupby(pred, as_index=False).mean()[[pred, 'arr_delay']]\n",
    "    group.sort_values(by=pred, inplace=True)\n",
    "    group.plot.bar(x=pred, y='arr_delay')\n",
    "    plt.axhline(y=avg_delay)\n",
    "    plt.ylabel('Minutes Delayed')\n",
    "    plt.title(pred)"
   ]
  },
  {
   "cell_type": "markdown",
   "metadata": {},
   "source": [
    "# transform categorical features into dummies\n",
    "cols_dummies = pd.get_dummies(df['mkt_carrier'])\n",
    "\n",
    "# extract numerical features\n",
    "cols_num = df[['month', 'weekday', 'distance', 'arr_delay']]\n",
    "\n",
    "# combine numerical and categorical (dummies) features into final dataframe\n",
    "df = pd.concat([cols_num, cols_dummies], axis=1)\n",
    "\n",
    "print(f'Final Dimension: {len(df.columns)}')"
   ]
  },
  {
   "cell_type": "markdown",
   "metadata": {},
   "source": [
    "### Make Training and Testing Group"
   ]
  },
  {
   "cell_type": "code",
   "execution_count": 12,
   "metadata": {},
   "outputs": [],
   "source": [
    "X = df.drop(['fl_date', 'arr_delay'], axis=1)\n",
    "y = df['arr_delay']\n",
    "\n",
    "X_train, X_test, y_train, y_test = train_test_split(X, y, test_size=0.2)"
   ]
  },
  {
   "cell_type": "markdown",
   "metadata": {},
   "source": [
    "### Random Forest"
   ]
  },
  {
   "cell_type": "code",
   "execution_count": 24,
   "metadata": {},
   "outputs": [
    {
     "name": "stdout",
     "output_type": "stream",
     "text": [
      "Mean Absolute Error: 21.613060122043535\n",
      "Mean Square Error: 1271.7141328116184\n",
      "Root Mean Square Error: 4.648984848549577\n",
      "R2 Error: 0.02422732566029473\n"
     ]
    },
    {
     "data": {
      "text/plain": [
       "Text(0, 0.5, 'Prediction')"
      ]
     },
     "execution_count": 24,
     "metadata": {},
     "output_type": "execute_result"
    },
    {
     "data": {
      "image/png": "[encoded data removed]",
      "text/plain": [
       "<Figure size 432x288 with 1 Axes>"
      ]
     },
     "metadata": {
      "needs_background": "light"
     },
     "output_type": "display_data"
    }
   ],
   "source": [
    "startTimeRF = datetime.datetime.now()\n",
    "\n",
    "model_to_fit = RandomForestRegressor(n_estimators=100, max_depth=4)\n",
    "\n",
    "model = model_to_fit.fit(X_train, y_train)\n",
    "y_pred = model.predict(X_test)\n",
    "\n",
    "print(f'Mean Absolute Error: {metrics.mean_absolute_error(y_test, y_pred)}')\n",
    "print(f'Mean Square Error: {metrics.mean_squared_error(y_test, y_pred)}')\n",
    "print(f'Root Mean Square Error: {np.sqrt(metrics.mean_absolute_error(y_test, y_pred))}')\n",
    "print(f'R2 Error: {metrics.r2_score(y_test, y_pred)}')\n",
    "\n",
    "\n",
    "plt.scatter(x=y_test, y=y_pred)\n",
    "plt.title('Model: Linear Regression')\n",
    "plt.xlabel('True')\n",
    "plt.ylabel('Prediction')\n",
    "\n",
    "print(f'RandomForest run time: [{datetime.datetime.now() - startTimeRF}].')"
   ]
  },
  {
   "cell_type": "code",
   "execution_count": 29,
   "metadata": {},
   "outputs": [
    {
     "name": "stdout",
     "output_type": "stream",
     "text": [
      "RF Score: 0.026092357421197976\n"
     ]
    }
   ],
   "source": [
    "print(f'RF Score: {model.score(X_train, y_train)}')"
   ]
  },
  {
   "cell_type": "code",
   "execution_count": 19,
   "metadata": {},
   "outputs": [
    {
     "name": "stdout",
     "output_type": "stream",
     "text": [
      "Total run time: [0:03:33.192200].\n"
     ]
    }
   ],
   "source": [
    "print(f'Total run time: [{datetime.datetime.now() - startTime}].')"
   ]
  }
 ],
 "metadata": {
  "kernelspec": {
   "display_name": "Python 3",
   "language": "python",
   "name": "python3"
  },
  "language_info": {
   "codemirror_mode": {
    "name": "ipython",
    "version": 3
   },
   "file_extension": ".py",
   "mimetype": "text/x-python",
   "name": "python",
   "nbconvert_exporter": "python",
   "pygments_lexer": "ipython3",
   "version": "3.8.5"
  },
  "toc": {
   "base_numbering": 1,
   "nav_menu": {},
   "number_sections": true,
   "sideBar": true,
   "skip_h1_title": false,
   "title_cell": "Table of Contents",
   "title_sidebar": "Contents",
   "toc_cell": false,
   "toc_position": {},
   "toc_section_display": true,
   "toc_window_display": false
  },
  "varInspector": {
   "cols": {
    "lenName": 16,
    "lenType": 16,
    "lenVar": 40
   },
   "kernels_config": {
    "python": {
     "delete_cmd_postfix": "",
     "delete_cmd_prefix": "del ",
     "library": "var_list.py",
     "varRefreshCmd": "print(var_dic_list())"
    },
    "r": {
     "delete_cmd_postfix": ") ",
     "delete_cmd_prefix": "rm(",
     "library": "var_list.r",
     "varRefreshCmd": "cat(var_dic_list()) "
    }
   },
   "types_to_exclude": [
    "module",
    "function",
    "builtin_function_or_method",
    "instance",
    "_Feature"
   ],
   "window_display": false
  }
 },
 "nbformat": 4,
 "nbformat_minor": 4
}
