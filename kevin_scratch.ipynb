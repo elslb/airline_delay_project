{
 "cells": [
  {
   "cell_type": "markdown",
   "metadata": {},
   "source": [
    "## Midterm Project: Predicting Arrival Delay for Airlines\n",
    "    by Elie Saliba and Kevin Ting"
   ]
  },
  {
   "cell_type": "markdown",
   "metadata": {},
   "source": [
    "### Task: \n",
    "\n",
    "Build a ML model to predict delays on flights (**ARR_DELAY**) from first 7 days of 2020."
   ]
  },
  {
   "cell_type": "markdown",
   "metadata": {},
   "source": [
    "### Approach: \n",
    "    1) Load data\n",
    "    2) Wrangle data: Check for sparse features to remove them\n",
    "    3) Wrangle data: Remove columns that will not be available for evaluation\n",
    "    4) Wrangle data: Check for columns with a few missing values to impute with zero, mean or median\n",
    "    5) Wrangle data: Encode categorical values to numerical values\n",
    "    6) Exploratory analyss: Visualize data distribution with histograms\n",
    "    7) Exploratory analyss: Use measures of central tendency and IQR to understand data at various positions\n",
    "    \n",
    "    8) Variable interdependence: Infer multicollinearity of data through correlation matrix\n",
    "    9) Feature selection: Remove redundant variables (i.e. columns that refer to the same thing e.g. ID)\n",
    "    10) Feature engineering: Remove highly collinear variables (i.e. correlation > 0.8)\n",
    "    11) Feature engineering: Reduce data dimension to the variables that most explain variation in target variable\n",
    "    12) Modeling building: Random forest is chosen for machine learning modeling\n",
    "    13) Model comparison: Random forest modeling with original raw data (PART 2) and PCA transformed data (PART 3)\n",
    "    14) Machine learning process:\n",
    "        (a) Train/test data: Split data for training and testing\n",
    "        (b) Model creation: Create models in a grid search for a combination of parameters\n",
    "        (c) Model selection: Use 10-fold cross validation to evaluate model performance and select the best one\n",
    "        (c) Final Model training: Use parameters of the best model from above to train on entire train set\n",
    "        (d) Final Model evaluation: Use 10-fold cross validation for average error on 10 folds of training data\n",
    "        (e) Final Model performance evaluation: Use confusion matrix, Precision, Recall, ROC to evaluate performance"
   ]
  },
  {
   "cell_type": "markdown",
   "metadata": {},
   "source": [
    "### Environment Setup"
   ]
  },
  {
   "cell_type": "code",
   "execution_count": 1,
   "metadata": {},
   "outputs": [],
   "source": [
    "import pandas as pd\n",
    "import numpy as np\n",
    "import datetime\n",
    "import matplotlib.pyplot as plt\n",
    "from sklearn.preprocessing import LabelEncoder"
   ]
  },
  {
   "cell_type": "markdown",
   "metadata": {},
   "source": [
    "### 1. Load Data"
   ]
  },
  {
   "cell_type": "code",
   "execution_count": 2,
   "metadata": {},
   "outputs": [
    {
     "data": {
      "text/html": [
       "<div>\n",
       "<style scoped>\n",
       "    .dataframe tbody tr th:only-of-type {\n",
       "        vertical-align: middle;\n",
       "    }\n",
       "\n",
       "    .dataframe tbody tr th {\n",
       "        vertical-align: top;\n",
       "    }\n",
       "\n",
       "    .dataframe thead th {\n",
       "        text-align: right;\n",
       "    }\n",
       "</style>\n",
       "<table border=\"1\" class=\"dataframe\">\n",
       "  <thead>\n",
       "    <tr style=\"text-align: right;\">\n",
       "      <th></th>\n",
       "      <th>fl_date</th>\n",
       "      <th>mkt_unique_carrier</th>\n",
       "      <th>branded_code_share</th>\n",
       "      <th>mkt_carrier</th>\n",
       "      <th>mkt_carrier_fl_num</th>\n",
       "      <th>op_unique_carrier</th>\n",
       "      <th>tail_num</th>\n",
       "      <th>op_carrier_fl_num</th>\n",
       "      <th>origin_airport_id</th>\n",
       "      <th>origin</th>\n",
       "      <th>...</th>\n",
       "      <th>distance</th>\n",
       "      <th>carrier_delay</th>\n",
       "      <th>weather_delay</th>\n",
       "      <th>nas_delay</th>\n",
       "      <th>security_delay</th>\n",
       "      <th>late_aircraft_delay</th>\n",
       "      <th>first_dep_time</th>\n",
       "      <th>total_add_gtime</th>\n",
       "      <th>longest_add_gtime</th>\n",
       "      <th>no_name</th>\n",
       "    </tr>\n",
       "  </thead>\n",
       "  <tbody>\n",
       "    <tr>\n",
       "      <th>0</th>\n",
       "      <td>2019-01-01</td>\n",
       "      <td>AA</td>\n",
       "      <td>AA_CODESHARE</td>\n",
       "      <td>AA</td>\n",
       "      <td>5241</td>\n",
       "      <td>OH</td>\n",
       "      <td>N703PS</td>\n",
       "      <td>5241</td>\n",
       "      <td>11057</td>\n",
       "      <td>CLT</td>\n",
       "      <td>...</td>\n",
       "      <td>562</td>\n",
       "      <td>25.0</td>\n",
       "      <td>0.0</td>\n",
       "      <td>4.0</td>\n",
       "      <td>0.0</td>\n",
       "      <td>0.0</td>\n",
       "      <td>NaN</td>\n",
       "      <td>NaN</td>\n",
       "      <td>NaN</td>\n",
       "      <td>NaN</td>\n",
       "    </tr>\n",
       "    <tr>\n",
       "      <th>1</th>\n",
       "      <td>2019-01-01</td>\n",
       "      <td>NK</td>\n",
       "      <td>NK</td>\n",
       "      <td>NK</td>\n",
       "      <td>115</td>\n",
       "      <td>NK</td>\n",
       "      <td>N525NK</td>\n",
       "      <td>115</td>\n",
       "      <td>10821</td>\n",
       "      <td>BWI</td>\n",
       "      <td>...</td>\n",
       "      <td>1491</td>\n",
       "      <td>0.0</td>\n",
       "      <td>0.0</td>\n",
       "      <td>15.0</td>\n",
       "      <td>0.0</td>\n",
       "      <td>0.0</td>\n",
       "      <td>NaN</td>\n",
       "      <td>NaN</td>\n",
       "      <td>NaN</td>\n",
       "      <td>NaN</td>\n",
       "    </tr>\n",
       "  </tbody>\n",
       "</table>\n",
       "<p>2 rows × 42 columns</p>\n",
       "</div>"
      ],
      "text/plain": [
       "      fl_date mkt_unique_carrier branded_code_share mkt_carrier  \\\n",
       "0  2019-01-01                 AA       AA_CODESHARE          AA   \n",
       "1  2019-01-01                 NK                 NK          NK   \n",
       "\n",
       "   mkt_carrier_fl_num op_unique_carrier tail_num  op_carrier_fl_num  \\\n",
       "0                5241                OH   N703PS               5241   \n",
       "1                 115                NK   N525NK                115   \n",
       "\n",
       "   origin_airport_id origin  ... distance  carrier_delay weather_delay  \\\n",
       "0              11057    CLT  ...      562           25.0           0.0   \n",
       "1              10821    BWI  ...     1491            0.0           0.0   \n",
       "\n",
       "  nas_delay  security_delay  late_aircraft_delay  first_dep_time  \\\n",
       "0       4.0             0.0                  0.0             NaN   \n",
       "1      15.0             0.0                  0.0             NaN   \n",
       "\n",
       "   total_add_gtime  longest_add_gtime  no_name  \n",
       "0              NaN                NaN      NaN  \n",
       "1              NaN                NaN      NaN  \n",
       "\n",
       "[2 rows x 42 columns]"
      ]
     },
     "execution_count": 2,
     "metadata": {},
     "output_type": "execute_result"
    }
   ],
   "source": [
    "df = pd.read_csv(\"data/airline_sample_150k.csv\")\n",
    "df.head(2)"
   ]
  },
  {
   "cell_type": "markdown",
   "metadata": {},
   "source": [
    "### 2. Wrangle data: Check for sparse features to remove them"
   ]
  },
  {
   "cell_type": "code",
   "execution_count": 3,
   "metadata": {},
   "outputs": [
    {
     "name": "stdout",
     "output_type": "stream",
     "text": [
      "Dimension: 42\n",
      "Sparsity per variable:\n",
      "fl_date                  0.000000\n",
      "mkt_unique_carrier       0.000000\n",
      "branded_code_share       0.000000\n",
      "mkt_carrier              0.000000\n",
      "mkt_carrier_fl_num       0.000000\n",
      "op_unique_carrier        0.000000\n",
      "tail_num                 0.302857\n",
      "op_carrier_fl_num        0.000000\n",
      "origin_airport_id        0.000000\n",
      "origin                   0.000000\n",
      "origin_city_name         0.000000\n",
      "dest_airport_id          0.000000\n",
      "dest                     0.000000\n",
      "dest_city_name           0.000000\n",
      "crs_dep_time             0.000000\n",
      "dep_time                 1.595507\n",
      "dep_delay                1.623211\n",
      "taxi_out                 1.681138\n",
      "wheels_off               1.681138\n",
      "wheels_on                1.739694\n",
      "taxi_in                  1.739694\n",
      "crs_arr_time             0.000000\n",
      "arr_time                 1.701916\n",
      "arr_delay                1.929216\n",
      "cancelled                0.000000\n",
      "cancellation_code       98.344677\n",
      "diverted                 0.000000\n",
      "dup                      0.000000\n",
      "crs_elapsed_time         0.000000\n",
      "actual_elapsed_time      1.907808\n",
      "air_time                 1.944957\n",
      "flights                  0.000000\n",
      "distance                 0.000000\n",
      "carrier_delay           81.192034\n",
      "weather_delay           81.192034\n",
      "nas_delay               81.192034\n",
      "security_delay          81.192034\n",
      "late_aircraft_delay     81.192034\n",
      "first_dep_time          99.335101\n",
      "total_add_gtime         99.335101\n",
      "longest_add_gtime       99.335101\n",
      "no_name                100.000000\n",
      "dtype: float64\n"
     ]
    }
   ],
   "source": [
    "print(f'Dimension: {len(df.columns)}')\n",
    "print(f'Sparsity per variable:\\n{(len(df.index) - df.count()) / len(df.index) * 100}')"
   ]
  },
  {
   "cell_type": "code",
   "execution_count": 4,
   "metadata": {},
   "outputs": [
    {
     "name": "stdout",
     "output_type": "stream",
     "text": [
      "Dimension reduces to: 21\n"
     ]
    }
   ],
   "source": [
    "# drop features that have >80% sparsity\n",
    "df = df.iloc[:, :-9]\n",
    "df = df.drop('cancellation_code', axis=1)\n",
    "\n",
    "# drop features that won't be available for evaluation\n",
    "df = df.drop([\n",
    "    'dep_time', 'dep_delay', 'taxi_out', 'wheels_off', 'wheels_on', 'taxi_in', \n",
    "    'arr_time', 'cancelled', 'diverted', 'actual_elapsed_time','air_time'], \n",
    "    axis=1\n",
    ")\n",
    "\n",
    "# drop ARR_DELAY rows with NaN\n",
    "df = df.drop(df[df['arr_delay'].isna()].index).reset_index(drop=True)\n",
    "\n",
    "print(f'Dimension reduces to: {len(df.columns)}')"
   ]
  },
  {
   "cell_type": "code",
   "execution_count": 5,
   "metadata": {},
   "outputs": [
    {
     "name": "stdout",
     "output_type": "stream",
     "text": [
      "Dimension increase to: 23\n"
     ]
    }
   ],
   "source": [
    "# converting FL_DATE to datetime type for easy wrangling\n",
    "df['fl_date'] = pd.to_datetime(df['fl_date'], format='%Y-%m-%d')\n",
    "\n",
    "# creating MONTH from FL_DATE\n",
    "months = [df['fl_date'][i].month for i in range(len(df['fl_date']))]\n",
    "df.insert(1, 'month', value=months)\n",
    "\n",
    "# creating WEEKDAY from FL_DATE\n",
    "weekdays = [df['fl_date'][i].weekday() for i in range(len(df['fl_date']))]\n",
    "df.insert(2, 'weekday', value=weekdays)\n",
    "\n",
    "print(f'Dimension increase to: {len(df.columns)}')"
   ]
  },
  {
   "cell_type": "markdown",
   "metadata": {},
   "source": [
    "### Exploratory Analysis"
   ]
  },
  {
   "cell_type": "code",
   "execution_count": 6,
   "metadata": {},
   "outputs": [
    {
     "data": {
      "text/plain": [
       "<Figure size 1080x360 with 0 Axes>"
      ]
     },
     "metadata": {},
     "output_type": "display_data"
    },
    {
     "data": {
      "image/png": "[encoded data removed]",
      "text/plain": [
       "<Figure size 432x288 with 1 Axes>"
      ]
     },
     "metadata": {
      "needs_background": "light"
     },
     "output_type": "display_data"
    },
    {
     "data": {
      "image/png": "[encoded data removed]",
      "text/plain": [
       "<Figure size 432x288 with 1 Axes>"
      ]
     },
     "metadata": {
      "needs_background": "light"
     },
     "output_type": "display_data"
    },
    {
     "data": {
      "image/png": "[encoded data removed]",
      "text/plain": [
       "<Figure size 432x288 with 1 Axes>"
      ]
     },
     "metadata": {
      "needs_background": "light"
     },
     "output_type": "display_data"
    }
   ],
   "source": [
    "# average delay of flights per catergory compare to overall delay from all records\n",
    "avg_delay = df.arr_delay.mean()\n",
    "categories = ['month', 'weekday', 'mkt_carrier']\n",
    "\n",
    "for i, pred in enumerate(categories):\n",
    "    plt.figure(i, figsize=(15, 5))\n",
    "    group = df.groupby(pred, as_index=False).mean()[[pred, 'arr_delay']]\n",
    "    group.sort_values(by=pred, inplace=True)\n",
    "    group.plot.bar(x=pred, y='arr_delay')\n",
    "    plt.axhline(y=avg_delay)\n",
    "    plt.ylabel('Minutes Delayed')\n",
    "    plt.title(pred)"
   ]
  },
  {
   "cell_type": "code",
   "execution_count": 7,
   "metadata": {},
   "outputs": [],
   "source": [
    "# transform categorical features into dummies\n",
    "cols_dummies = pd.get_dummies(df['mkt_carrier'])"
   ]
  },
  {
   "cell_type": "code",
   "execution_count": 8,
   "metadata": {},
   "outputs": [
    {
     "name": "stdout",
     "output_type": "stream",
     "text": [
      "Final Dimension: 15\n"
     ]
    }
   ],
   "source": [
    "# extract numerical features\n",
    "cols_num = df[['month', 'weekday', 'arr_delay', 'distance']]\n",
    "\n",
    "# combine numerical and categorical (dummies) features into final dataframe\n",
    "df = pd.concat([cols_num, cols_dummies], axis=1)\n",
    "\n",
    "print(f'Final Dimension: {len(df.columns)}')"
   ]
  },
  {
   "cell_type": "code",
   "execution_count": 9,
   "metadata": {},
   "outputs": [
    {
     "data": {
      "text/html": [
       "<div>\n",
       "<style scoped>\n",
       "    .dataframe tbody tr th:only-of-type {\n",
       "        vertical-align: middle;\n",
       "    }\n",
       "\n",
       "    .dataframe tbody tr th {\n",
       "        vertical-align: top;\n",
       "    }\n",
       "\n",
       "    .dataframe thead th {\n",
       "        text-align: right;\n",
       "    }\n",
       "</style>\n",
       "<table border=\"1\" class=\"dataframe\">\n",
       "  <thead>\n",
       "    <tr style=\"text-align: right;\">\n",
       "      <th></th>\n",
       "      <th>month</th>\n",
       "      <th>weekday</th>\n",
       "      <th>arr_delay</th>\n",
       "      <th>distance</th>\n",
       "      <th>AA</th>\n",
       "      <th>AS</th>\n",
       "      <th>B6</th>\n",
       "      <th>DL</th>\n",
       "      <th>F9</th>\n",
       "      <th>G4</th>\n",
       "      <th>HA</th>\n",
       "      <th>NK</th>\n",
       "      <th>UA</th>\n",
       "      <th>VX</th>\n",
       "      <th>WN</th>\n",
       "    </tr>\n",
       "  </thead>\n",
       "  <tbody>\n",
       "    <tr>\n",
       "      <th>0</th>\n",
       "      <td>1</td>\n",
       "      <td>1</td>\n",
       "      <td>29.0</td>\n",
       "      <td>562</td>\n",
       "      <td>1</td>\n",
       "      <td>0</td>\n",
       "      <td>0</td>\n",
       "      <td>0</td>\n",
       "      <td>0</td>\n",
       "      <td>0</td>\n",
       "      <td>0</td>\n",
       "      <td>0</td>\n",
       "      <td>0</td>\n",
       "      <td>0</td>\n",
       "      <td>0</td>\n",
       "    </tr>\n",
       "    <tr>\n",
       "      <th>1</th>\n",
       "      <td>1</td>\n",
       "      <td>1</td>\n",
       "      <td>15.0</td>\n",
       "      <td>1491</td>\n",
       "      <td>0</td>\n",
       "      <td>0</td>\n",
       "      <td>0</td>\n",
       "      <td>0</td>\n",
       "      <td>0</td>\n",
       "      <td>0</td>\n",
       "      <td>0</td>\n",
       "      <td>1</td>\n",
       "      <td>0</td>\n",
       "      <td>0</td>\n",
       "      <td>0</td>\n",
       "    </tr>\n",
       "  </tbody>\n",
       "</table>\n",
       "</div>"
      ],
      "text/plain": [
       "   month  weekday  arr_delay  distance  AA  AS  B6  DL  F9  G4  HA  NK  UA  \\\n",
       "0      1        1       29.0       562   1   0   0   0   0   0   0   0   0   \n",
       "1      1        1       15.0      1491   0   0   0   0   0   0   0   1   0   \n",
       "\n",
       "   VX  WN  \n",
       "0   0   0  \n",
       "1   0   0  "
      ]
     },
     "execution_count": 9,
     "metadata": {},
     "output_type": "execute_result"
    }
   ],
   "source": [
    "df.head(2)"
   ]
  },
  {
   "cell_type": "markdown",
   "metadata": {},
   "source": [
    "### (future step reference) LinearSVR\n",
    "[guide](https://scikit-learn.org/stable/modules/generated/sklearn.svm.LinearSVR.html#sklearn.svm.LinearSVR)"
   ]
  },
  {
   "cell_type": "markdown",
   "metadata": {},
   "source": [
    "from sklearn.datasets import make_friedman1\n",
    "\n",
    "from sklearn.feature_selection import RFE\n",
    "\n",
    "from sklearn.svm import SVR\n",
    "\n",
    "X, y = make_friedman1(n_samples=50, n_features=10, random_state=0)\n",
    "\n",
    "estimator = SVR(kernel=\"linear\")\n",
    "\n",
    "selector = RFE(estimator, n_features_to_select=5, step=1)\n",
    "\n",
    "selector = selector.fit(X, y)\n",
    "\n",
    "selector.support_\n",
    "> array([ True,  True,  True,  True,  True, False, False, False, False,\n",
    "       False])\n",
    "       \n",
    "selector.ranking_\n",
    "\n",
    "> array([1, 1, 1, 1, 1, 6, 4, 3, 2, 5])"
   ]
  },
  {
   "cell_type": "code",
   "execution_count": null,
   "metadata": {},
   "outputs": [],
   "source": []
  },
  {
   "cell_type": "code",
   "execution_count": null,
   "metadata": {},
   "outputs": [],
   "source": []
  },
  {
   "cell_type": "code",
   "execution_count": null,
   "metadata": {},
   "outputs": [],
   "source": []
  },
  {
   "cell_type": "code",
   "execution_count": null,
   "metadata": {},
   "outputs": [],
   "source": []
  },
  {
   "cell_type": "code",
   "execution_count": 10,
   "metadata": {},
   "outputs": [
    {
     "ename": "KeyError",
     "evalue": "'cancelled'",
     "output_type": "error",
     "traceback": [
      "\u001b[1;31m---------------------------------------------------------------------------\u001b[0m",
      "\u001b[1;31mKeyError\u001b[0m                                  Traceback (most recent call last)",
      "\u001b[1;32mD:\\anaconda3\\lib\\site-packages\\pandas\\core\\indexes\\base.py\u001b[0m in \u001b[0;36mget_loc\u001b[1;34m(self, key, method, tolerance)\u001b[0m\n\u001b[0;32m   3079\u001b[0m             \u001b[1;32mtry\u001b[0m\u001b[1;33m:\u001b[0m\u001b[1;33m\u001b[0m\u001b[1;33m\u001b[0m\u001b[0m\n\u001b[1;32m-> 3080\u001b[1;33m                 \u001b[1;32mreturn\u001b[0m \u001b[0mself\u001b[0m\u001b[1;33m.\u001b[0m\u001b[0m_engine\u001b[0m\u001b[1;33m.\u001b[0m\u001b[0mget_loc\u001b[0m\u001b[1;33m(\u001b[0m\u001b[0mcasted_key\u001b[0m\u001b[1;33m)\u001b[0m\u001b[1;33m\u001b[0m\u001b[1;33m\u001b[0m\u001b[0m\n\u001b[0m\u001b[0;32m   3081\u001b[0m             \u001b[1;32mexcept\u001b[0m \u001b[0mKeyError\u001b[0m \u001b[1;32mas\u001b[0m \u001b[0merr\u001b[0m\u001b[1;33m:\u001b[0m\u001b[1;33m\u001b[0m\u001b[1;33m\u001b[0m\u001b[0m\n",
      "\u001b[1;32mpandas\\_libs\\index.pyx\u001b[0m in \u001b[0;36mpandas._libs.index.IndexEngine.get_loc\u001b[1;34m()\u001b[0m\n",
      "\u001b[1;32mpandas\\_libs\\index.pyx\u001b[0m in \u001b[0;36mpandas._libs.index.IndexEngine.get_loc\u001b[1;34m()\u001b[0m\n",
      "\u001b[1;32mpandas\\_libs\\hashtable_class_helper.pxi\u001b[0m in \u001b[0;36mpandas._libs.hashtable.PyObjectHashTable.get_item\u001b[1;34m()\u001b[0m\n",
      "\u001b[1;32mpandas\\_libs\\hashtable_class_helper.pxi\u001b[0m in \u001b[0;36mpandas._libs.hashtable.PyObjectHashTable.get_item\u001b[1;34m()\u001b[0m\n",
      "\u001b[1;31mKeyError\u001b[0m: 'cancelled'",
      "\nThe above exception was the direct cause of the following exception:\n",
      "\u001b[1;31mKeyError\u001b[0m                                  Traceback (most recent call last)",
      "\u001b[1;32m<ipython-input-10-c82320720ba1>\u001b[0m in \u001b[0;36m<module>\u001b[1;34m\u001b[0m\n\u001b[0;32m      1\u001b[0m \u001b[1;31m# dropping all cancelled flights since they will skew the model\u001b[0m\u001b[1;33m\u001b[0m\u001b[1;33m\u001b[0m\u001b[1;33m\u001b[0m\u001b[0m\n\u001b[1;32m----> 2\u001b[1;33m \u001b[0mdf\u001b[0m \u001b[1;33m=\u001b[0m \u001b[0mdf\u001b[0m\u001b[1;33m[\u001b[0m\u001b[0mdf\u001b[0m\u001b[1;33m[\u001b[0m\u001b[1;34m'cancelled'\u001b[0m\u001b[1;33m]\u001b[0m \u001b[1;33m!=\u001b[0m \u001b[1;36m1\u001b[0m\u001b[1;33m]\u001b[0m\u001b[1;33m\u001b[0m\u001b[1;33m\u001b[0m\u001b[0m\n\u001b[0m\u001b[0;32m      3\u001b[0m \u001b[1;33m\u001b[0m\u001b[0m\n\u001b[0;32m      4\u001b[0m \u001b[1;31m# same reasoning for dropping diverted flights\u001b[0m\u001b[1;33m\u001b[0m\u001b[1;33m\u001b[0m\u001b[1;33m\u001b[0m\u001b[0m\n\u001b[0;32m      5\u001b[0m \u001b[0mdf\u001b[0m \u001b[1;33m=\u001b[0m \u001b[0mdf\u001b[0m\u001b[1;33m[\u001b[0m\u001b[0mdf\u001b[0m\u001b[1;33m[\u001b[0m\u001b[1;34m'diverted'\u001b[0m\u001b[1;33m]\u001b[0m \u001b[1;33m!=\u001b[0m \u001b[1;36m1\u001b[0m\u001b[1;33m]\u001b[0m\u001b[1;33m\u001b[0m\u001b[1;33m\u001b[0m\u001b[0m\n",
      "\u001b[1;32mD:\\anaconda3\\lib\\site-packages\\pandas\\core\\frame.py\u001b[0m in \u001b[0;36m__getitem__\u001b[1;34m(self, key)\u001b[0m\n\u001b[0;32m   3022\u001b[0m             \u001b[1;32mif\u001b[0m \u001b[0mself\u001b[0m\u001b[1;33m.\u001b[0m\u001b[0mcolumns\u001b[0m\u001b[1;33m.\u001b[0m\u001b[0mnlevels\u001b[0m \u001b[1;33m>\u001b[0m \u001b[1;36m1\u001b[0m\u001b[1;33m:\u001b[0m\u001b[1;33m\u001b[0m\u001b[1;33m\u001b[0m\u001b[0m\n\u001b[0;32m   3023\u001b[0m                 \u001b[1;32mreturn\u001b[0m \u001b[0mself\u001b[0m\u001b[1;33m.\u001b[0m\u001b[0m_getitem_multilevel\u001b[0m\u001b[1;33m(\u001b[0m\u001b[0mkey\u001b[0m\u001b[1;33m)\u001b[0m\u001b[1;33m\u001b[0m\u001b[1;33m\u001b[0m\u001b[0m\n\u001b[1;32m-> 3024\u001b[1;33m             \u001b[0mindexer\u001b[0m \u001b[1;33m=\u001b[0m \u001b[0mself\u001b[0m\u001b[1;33m.\u001b[0m\u001b[0mcolumns\u001b[0m\u001b[1;33m.\u001b[0m\u001b[0mget_loc\u001b[0m\u001b[1;33m(\u001b[0m\u001b[0mkey\u001b[0m\u001b[1;33m)\u001b[0m\u001b[1;33m\u001b[0m\u001b[1;33m\u001b[0m\u001b[0m\n\u001b[0m\u001b[0;32m   3025\u001b[0m             \u001b[1;32mif\u001b[0m \u001b[0mis_integer\u001b[0m\u001b[1;33m(\u001b[0m\u001b[0mindexer\u001b[0m\u001b[1;33m)\u001b[0m\u001b[1;33m:\u001b[0m\u001b[1;33m\u001b[0m\u001b[1;33m\u001b[0m\u001b[0m\n\u001b[0;32m   3026\u001b[0m                 \u001b[0mindexer\u001b[0m \u001b[1;33m=\u001b[0m \u001b[1;33m[\u001b[0m\u001b[0mindexer\u001b[0m\u001b[1;33m]\u001b[0m\u001b[1;33m\u001b[0m\u001b[1;33m\u001b[0m\u001b[0m\n",
      "\u001b[1;32mD:\\anaconda3\\lib\\site-packages\\pandas\\core\\indexes\\base.py\u001b[0m in \u001b[0;36mget_loc\u001b[1;34m(self, key, method, tolerance)\u001b[0m\n\u001b[0;32m   3080\u001b[0m                 \u001b[1;32mreturn\u001b[0m \u001b[0mself\u001b[0m\u001b[1;33m.\u001b[0m\u001b[0m_engine\u001b[0m\u001b[1;33m.\u001b[0m\u001b[0mget_loc\u001b[0m\u001b[1;33m(\u001b[0m\u001b[0mcasted_key\u001b[0m\u001b[1;33m)\u001b[0m\u001b[1;33m\u001b[0m\u001b[1;33m\u001b[0m\u001b[0m\n\u001b[0;32m   3081\u001b[0m             \u001b[1;32mexcept\u001b[0m \u001b[0mKeyError\u001b[0m \u001b[1;32mas\u001b[0m \u001b[0merr\u001b[0m\u001b[1;33m:\u001b[0m\u001b[1;33m\u001b[0m\u001b[1;33m\u001b[0m\u001b[0m\n\u001b[1;32m-> 3082\u001b[1;33m                 \u001b[1;32mraise\u001b[0m \u001b[0mKeyError\u001b[0m\u001b[1;33m(\u001b[0m\u001b[0mkey\u001b[0m\u001b[1;33m)\u001b[0m \u001b[1;32mfrom\u001b[0m \u001b[0merr\u001b[0m\u001b[1;33m\u001b[0m\u001b[1;33m\u001b[0m\u001b[0m\n\u001b[0m\u001b[0;32m   3083\u001b[0m \u001b[1;33m\u001b[0m\u001b[0m\n\u001b[0;32m   3084\u001b[0m         \u001b[1;32mif\u001b[0m \u001b[0mtolerance\u001b[0m \u001b[1;32mis\u001b[0m \u001b[1;32mnot\u001b[0m \u001b[1;32mNone\u001b[0m\u001b[1;33m:\u001b[0m\u001b[1;33m\u001b[0m\u001b[1;33m\u001b[0m\u001b[0m\n",
      "\u001b[1;31mKeyError\u001b[0m: 'cancelled'"
     ]
    }
   ],
   "source": [
    "# dropping all cancelled flights since they will skew the model\n",
    "df = df[df['cancelled'] != 1]\n",
    "\n",
    "# same reasoning for dropping diverted flights\n",
    "df = df[df['diverted'] != 1]"
   ]
  },
  {
   "cell_type": "code",
   "execution_count": null,
   "metadata": {},
   "outputs": [],
   "source": [
    "# dropping the no_name column comprised of commas since this is a csv\n",
    "df = df.drop('no_name', axis = 1)"
   ]
  },
  {
   "cell_type": "code",
   "execution_count": null,
   "metadata": {},
   "outputs": [],
   "source": [
    "# getting rid of unimportant columns\n",
    "\n",
    "df = df.drop(axis = 1, labels = ['branded_code_share', 'mkt_carrier_fl_num', 'tail_num', 'op_carrier_fl_num', 'cancelled', 'cancellation_code', 'diverted', 'flights', 'first_dep_time', 'total_add_gtime', 'longest_add_gtime'])"
   ]
  },
  {
   "cell_type": "code",
   "execution_count": null,
   "metadata": {},
   "outputs": [],
   "source": [
    "df.head(2)"
   ]
  },
  {
   "cell_type": "code",
   "execution_count": null,
   "metadata": {},
   "outputs": [],
   "source": [
    "plt.figure(figsize=(10,10))\n",
    "plt.scatter(df['dep_delay'], df['arr_delay'], alpha = 0.4)\n",
    "plt.title('Departure Delay VS Arrival Delay')\n",
    "plt.xlabel('Departure Delay')\n",
    "plt.ylabel('Arrival Delay')\n",
    "\n",
    "plt.show()\n",
    "# this shows a strong correlation between dep_delay and arr_delay as expected"
   ]
  },
  {
   "cell_type": "markdown",
   "metadata": {},
   "source": [
    "#### **Task 1**: Test the hypothesis that the delay is from Normal distribution. and that **mean** of the delay is 0. Be careful about the outliers."
   ]
  },
  {
   "cell_type": "code",
   "execution_count": null,
   "metadata": {},
   "outputs": [],
   "source": [
    "# checking for and dropping null values in arr_delay\n",
    "df[\"arr_delay\"].isnull().sum()\n",
    "df.dropna(subset = [\"arr_delay\"], inplace = True)"
   ]
  },
  {
   "cell_type": "code",
   "execution_count": null,
   "metadata": {},
   "outputs": [],
   "source": [
    "arr_delay_zs = stats.zscore(df[\"arr_delay\"], nan_policy = 'omit')\n",
    "arr_delay_zs3 = arr_delay_zs < 3\n",
    "\n",
    "df['arr_delay_zs'] = df['arr_delay'][arr_delay_zs3]"
   ]
  },
  {
   "cell_type": "code",
   "execution_count": null,
   "metadata": {},
   "outputs": [],
   "source": [
    "df['arr_delay_zs'].head(2)"
   ]
  },
  {
   "cell_type": "code",
   "execution_count": null,
   "metadata": {},
   "outputs": [],
   "source": [
    "df[\"arr_delay_zs\"].describe()"
   ]
  },
  {
   "cell_type": "code",
   "execution_count": null,
   "metadata": {},
   "outputs": [],
   "source": [
    "histplot = sns.histplot(data = df[\"arr_delay_zs\"])"
   ]
  },
  {
   "cell_type": "code",
   "execution_count": null,
   "metadata": {},
   "outputs": [],
   "source": [
    "delay_arr = df['arr_delay_zs'].fillna(0).to_numpy()\n",
    "\n",
    "# reshaping the data into an array to pass into Shapiro Test\n",
    "delay_arr.reshape(-1, 1)"
   ]
  },
  {
   "cell_type": "code",
   "execution_count": null,
   "metadata": {},
   "outputs": [],
   "source": [
    "shapiro_test = stats.shapiro(delay_arr)\n",
    "shapiro_test"
   ]
  },
  {
   "cell_type": "code",
   "execution_count": null,
   "metadata": {},
   "outputs": [],
   "source": [
    "# This was an attempt to remove 0's before log transformation by adding a constant slightly larger than the min value\n",
    "# in arr_delay\n",
    "\n",
    "#df[\"arr_delay\"].min()\n",
    "#df[\"arr_delay_const\"] = df[\"arr_delay\"] + 64.001"
   ]
  },
  {
   "cell_type": "code",
   "execution_count": null,
   "metadata": {},
   "outputs": [],
   "source": [
    "# df[\"arr_delay_log\"] = df[\"arr_delay_zs\"].apply(np.log1p).fillna(0)"
   ]
  },
  {
   "cell_type": "code",
   "execution_count": null,
   "metadata": {},
   "outputs": [],
   "source": [
    "# df[\"arr_delay_log\"].head()"
   ]
  },
  {
   "cell_type": "code",
   "execution_count": null,
   "metadata": {},
   "outputs": [],
   "source": [
    "# Somehow getting Nan values in statistic here\n",
    "\n",
    "# shapiro_test = stats.shapiro(df['arr_delay_log'])\n",
    "# shapiro_test"
   ]
  },
  {
   "cell_type": "code",
   "execution_count": null,
   "metadata": {},
   "outputs": [],
   "source": [
    "# histplot = sns.histplot(data = df[\"arr_delay_log\"])"
   ]
  },
  {
   "cell_type": "code",
   "execution_count": null,
   "metadata": {},
   "outputs": [],
   "source": [
    "df.head(2)"
   ]
  },
  {
   "cell_type": "markdown",
   "metadata": {},
   "source": [
    "#### **Task 2**: Is average/median monthly delay different during the year? If yes, which are months with the biggest delays and what could be the reason?"
   ]
  },
  {
   "cell_type": "code",
   "execution_count": null,
   "metadata": {},
   "outputs": [],
   "source": [
    "# splitting the date on the hyphen to easily access the month\n",
    "spl_date = [date.split('-')[1] for date in df['fl_date']]"
   ]
  },
  {
   "cell_type": "code",
   "execution_count": null,
   "metadata": {},
   "outputs": [],
   "source": [
    "df['months'] = spl_date\n",
    "df.head(2)"
   ]
  },
  {
   "cell_type": "code",
   "execution_count": null,
   "metadata": {},
   "outputs": [],
   "source": [
    "# Reordering the DF by saving the columns and then adding them after the months column\n",
    "\n",
    "cols = list(df.columns)\n",
    "cols.pop(cols.index('fl_date'))\n",
    "cols.pop(cols.index('months'))\n",
    "df = df[['fl_date','months'] + cols]\n",
    "df.head(2)"
   ]
  },
  {
   "cell_type": "code",
   "execution_count": null,
   "metadata": {},
   "outputs": [],
   "source": [
    "# Changing months dtype to int so that we can perform numerical operations on the values\n",
    "df['months'] = df['months'].astype(int)"
   ]
  },
  {
   "cell_type": "code",
   "execution_count": null,
   "metadata": {},
   "outputs": [],
   "source": [
    "df.groupby(by = 'months').mean()[['arr_delay']]"
   ]
  },
  {
   "cell_type": "code",
   "execution_count": null,
   "metadata": {},
   "outputs": [],
   "source": [
    "month_vs_delay = sns.barplot(x = df['months'], y = df['arr_delay'], ci = None)"
   ]
  },
  {
   "cell_type": "markdown",
   "metadata": {},
   "source": [
    "#### **Task 3**: Does the weather affect the delay? \n",
    "Use the API to pull the weather information for flights. There is no need to get weather for ALL flights. We can choose the right representative sample. Let's focus on four weather types:\n",
    "- sunny\n",
    "- cloudy\n",
    "- rainy\n",
    "- snow.\n",
    "Test the hypothesis that these 4 delays are from the same distribution. If they are not, which ones are significantly different?"
   ]
  },
  {
   "cell_type": "code",
   "execution_count": null,
   "metadata": {},
   "outputs": [],
   "source": []
  },
  {
   "cell_type": "code",
   "execution_count": null,
   "metadata": {},
   "outputs": [],
   "source": []
  },
  {
   "cell_type": "markdown",
   "metadata": {},
   "source": [
    "#### **Task 4**: How taxi times changing during the day? Does higher traffic lead to bigger taxi times?"
   ]
  },
  {
   "cell_type": "code",
   "execution_count": null,
   "metadata": {},
   "outputs": [],
   "source": [
    "# getting zscore for taxi times to use for outlier omission\n",
    "taxi_zs = stats.zscore(df[\"taxi_out\"], nan_policy = 'omit')"
   ]
  },
  {
   "cell_type": "code",
   "execution_count": null,
   "metadata": {},
   "outputs": [],
   "source": [
    "# assigning a variable to booleans where taxi_zs is less than 3\n",
    "taxi_zs_3 = taxi_zs < 3"
   ]
  },
  {
   "cell_type": "code",
   "execution_count": null,
   "metadata": {},
   "outputs": [],
   "source": [
    "df['taxi_out_zs'] = df['taxi_out'][taxi_zs_3]\n",
    "df.shape"
   ]
  },
  {
   "cell_type": "code",
   "execution_count": null,
   "metadata": {},
   "outputs": [],
   "source": [
    "taxi_graph = sns.scatterplot(x = df['dep_time'], y = df['taxi_out_zs'])\n",
    "\n",
    "#consider binning times here\n",
    "#consider 2d distribution maps"
   ]
  },
  {
   "cell_type": "code",
   "execution_count": null,
   "metadata": {},
   "outputs": [],
   "source": []
  },
  {
   "cell_type": "markdown",
   "metadata": {},
   "source": [
    "#### **Task 5**: What is the average percentage of delays that is already created before departure? (aka are arrival delays caused by departure delays?) Are airlines able to lower the delay during the flights?"
   ]
  },
  {
   "cell_type": "code",
   "execution_count": null,
   "metadata": {},
   "outputs": [],
   "source": [
    "# assuming that the question here is asking for proportion of delays caused by depratrue delays\n",
    "\n",
    "df.head()\n",
    "# we want to see proportion of dep_delay > 0 resulting in arr_delay > 0\n",
    "df_delarr = df.loc[(df['dep_delay'] > 0) & (df['arr_delay'] > 0)]\n",
    "df_delarr = df_delarr[['dep_delay', 'arr_delay']]\n",
    "len(df_delarr),len(df.loc[df['arr_delay'] > 0])"
   ]
  },
  {
   "cell_type": "code",
   "execution_count": null,
   "metadata": {},
   "outputs": [],
   "source": [
    "# avg percentage of delays  = (2277/3245) * 100\n"
   ]
  },
  {
   "cell_type": "markdown",
   "metadata": {
    "tags": []
   },
   "source": [
    "#### **Task 6**: How many states cover 50% of US air traffic? "
   ]
  },
  {
   "cell_type": "code",
   "execution_count": null,
   "metadata": {},
   "outputs": [],
   "source": [
    "df.head(2)"
   ]
  },
  {
   "cell_type": "code",
   "execution_count": null,
   "metadata": {},
   "outputs": [],
   "source": [
    "#ploot = sns.scatterplot(x = df[\"dep_delay\"], y = )"
   ]
  },
  {
   "cell_type": "markdown",
   "metadata": {},
   "source": [
    "#### **Task 7**: Test the hypothesis whether planes fly faster when there is the departure delay? "
   ]
  },
  {
   "cell_type": "code",
   "execution_count": null,
   "metadata": {},
   "outputs": [],
   "source": [
    "#df[\"dep_delay\"] = df[\"dep_delay\"][(np.abs(stats.zscore(df[\"dep_delay\"])) < 3)]\n",
    "\n",
    "df['speed'] = df['distance'] / df['air_time']\n",
    "\n",
    "#ztest ,pval = stests.ztest(df['bp_before'], x2=None, value=156)\n",
    "#print(float(pval))\n",
    "#if pval<0.05:\n",
    "#    print(\"reject null hypothesis\")\n",
    "#else:\n",
    "#    print(\"accept null hypothesis\")"
   ]
  },
  {
   "cell_type": "code",
   "execution_count": null,
   "metadata": {},
   "outputs": [],
   "source": [
    "#df_w_delay = df.loc[(df['dep_delay'] > 0)]\n",
    "#df_w_delay = df_w_delay[['dep_delay', 'speed']]\n",
    "\n",
    "#df_no_delay = df.loc[(df['dep_delay'] <= 0)]\n",
    "#df_no_delay = df_no_delay[['dep_delay', 'speed']]"
   ]
  },
  {
   "cell_type": "code",
   "execution_count": null,
   "metadata": {
    "tags": []
   },
   "outputs": [],
   "source": [
    "#fig, ax = plt.subplots(figsize=(8, 8))\n",
    "\n",
    "# add the plots for each dataframe\n",
    "#sns.regplot(y='dep_delay', x='speed', data=df_w_delay, fit_reg=True, ci=None, ax=ax, label='Speed with delay')\n",
    "#sns.regplot(y='dep_delay', x='speed', data=df_no_delay, fit_reg=True, ci=None, ax=ax, label='Speed without delay')\n",
    "#ax.set(xlabel='Speed', ylabel='Departure Delay')\n",
    "#ax.legend()\n",
    "#plt.show()"
   ]
  },
  {
   "cell_type": "markdown",
   "metadata": {},
   "source": [
    "#### **Task 8**: When (which hour) do most 'LONG', 'SHORT', 'MEDIUM' haul flights take off?"
   ]
  },
  {
   "cell_type": "code",
   "execution_count": null,
   "metadata": {},
   "outputs": [],
   "source": []
  },
  {
   "cell_type": "code",
   "execution_count": null,
   "metadata": {},
   "outputs": [],
   "source": [
    "# we want to bin the data based on air_time feature\n",
    "# i will take 0-3 hours to be SHORT, 3-6 hours to be MEDIUM and 6+ hours to be long\n",
    "\n",
    "bins = [0, 180, 360, np.inf]\n",
    "labels = ['SHORT', 'MEDIUM', 'LONG']\n",
    "df['time_bins'] = pd.cut(df['air_time'], bins=bins, labels=labels)\n",
    "#df.head()\n",
    "#df['time_bins']\n",
    "plot = sns.scatterplot(data = df, x = 'air_time', y = 'dep_time', hue = df['time_bins'], ci = None)"
   ]
  },
  {
   "cell_type": "code",
   "execution_count": null,
   "metadata": {},
   "outputs": [],
   "source": []
  },
  {
   "cell_type": "markdown",
   "metadata": {},
   "source": [
    "#### **Task 9**: Find the top 10 the bussiest airports. Does the biggest number of flights mean that the biggest number of passengers went through the particular airport? How much traffic do these 10 airports cover?"
   ]
  },
  {
   "cell_type": "code",
   "execution_count": null,
   "metadata": {},
   "outputs": [],
   "source": []
  },
  {
   "cell_type": "code",
   "execution_count": null,
   "metadata": {},
   "outputs": [],
   "source": []
  },
  {
   "cell_type": "markdown",
   "metadata": {},
   "source": [
    "#### **Task 10**: Do bigger delays lead to bigger fuel comsumption per passenger? \n",
    "We need to do four things to answer this as accurate as possible:\n",
    "- Find out average monthly delay per air carrier (monthly delay is sum of all delays in 1 month)\n",
    "- Find out distance covered monthly by different air carriers\n",
    "- Find out number of passengers that were carried by different air carriers\n",
    "- Find out total fuel comsumption per air carrier.\n",
    "\n",
    "Use this information to get the average fuel comsumption per passenger per km. Is this higher for the airlines with bigger average delays?"
   ]
  },
  {
   "cell_type": "code",
   "execution_count": null,
   "metadata": {},
   "outputs": [],
   "source": []
  },
  {
   "cell_type": "code",
   "execution_count": null,
   "metadata": {},
   "outputs": [],
   "source": []
  },
  {
   "cell_type": "code",
   "execution_count": null,
   "metadata": {},
   "outputs": [],
   "source": [
    "df['mkt_unique_carrier'].nunique()"
   ]
  },
  {
   "cell_type": "code",
   "execution_count": null,
   "metadata": {},
   "outputs": [],
   "source": []
  },
  {
   "cell_type": "code",
   "execution_count": null,
   "metadata": {},
   "outputs": [],
   "source": [
    "df.head(2)"
   ]
  },
  {
   "cell_type": "code",
   "execution_count": null,
   "metadata": {},
   "outputs": [],
   "source": [
    "df['total_delay'] = (df['carrier_delay'] + df['weather_delay']\n",
    "             + df['nas_delay'] + df['security_delay'] + df['late_aircraft_delay'])\n",
    "\n",
    "df_delays = df.loc[(df['total_delay'] != np.NaN)]\n",
    "df['total_delay'].fillna(0, inplace=True)\n",
    "df['total_delay'].head()"
   ]
  },
  {
   "cell_type": "code",
   "execution_count": null,
   "metadata": {},
   "outputs": [],
   "source": [
    "carrier_group = df_delays['carrier_delay'].groupby(df_delays['mkt_unique_carrier']).mean()\n",
    "weather_group = df_delays['weather_delay'].groupby(df_delays['mkt_unique_carrier']).mean()\n",
    "nas_group = df_delays['nas_delay'].groupby(df_delays['mkt_unique_carrier']).mean()\n",
    "security_group = df_delays['security_delay'].groupby(df_delays['mkt_unique_carrier']).mean()\n",
    "late_group = df_delays['late_aircraft_delay'].groupby(df_delays['mkt_unique_carrier']).mean()\n",
    "\n",
    "w_bottom = carrier_group.values\n",
    "n_bottom = w_bottom + weather_group.values\n",
    "s_bottom = n_bottom + nas_group.values\n",
    "l_bottom = s_bottom + security_group.values\n",
    "\n",
    "x = carrier_group.index.values\n",
    "\n",
    "fig, ax = plt.subplots(figsize = (12,6))\n",
    "\n",
    "ax.set_xticks(np.arange(len(x)))\n",
    "ax.set_xticklabels(x, rotation = 45)\n",
    "ax.bar(np.arange(len(x)),carrier_group.values, align='center', label='Carrier Delay')\n",
    "ax.bar(np.arange(len(x)),weather_group.values, align='center', bottom=w_bottom, label='Weather Delay')\n",
    "ax.bar(np.arange(len(x)),nas_group.values, align='center', bottom=n_bottom, label='NAS Delay')\n",
    "ax.bar(np.arange(len(x)),security_group.values, align='center', bottom=s_bottom, label='Security Delay')\n",
    "ax.bar(np.arange(len(x)),late_group.values, align='center', bottom=l_bottom, label='Late Aircraft Delay')\n",
    "\n",
    "ax.set_xlabel('Aircraft Carrier Code')\n",
    "ax.set_ylabel('Departure Delay in minutes')\n",
    "\n",
    "plt.legend()\n",
    "plt.show()"
   ]
  },
  {
   "cell_type": "code",
   "execution_count": null,
   "metadata": {},
   "outputs": [],
   "source": [
    "df_delays = df_delays[df_delays['total_delay'] > 0]"
   ]
  },
  {
   "cell_type": "code",
   "execution_count": null,
   "metadata": {},
   "outputs": [],
   "source": [
    "carrier_flights = df['mkt_unique_carrier'].groupby(df['mkt_unique_carrier']).count()\n",
    "carrier_delays = df_delays['total_delay'].groupby(df_delays['mkt_unique_carrier']).count()\n",
    "carrier_avg_time = df['air_time'].groupby(df['mkt_unique_carrier']).mean()\n",
    "carrier_avg_dist = df['distance'].groupby(df['mkt_unique_carrier']).mean()\n",
    "carrier_avg_delay = df['total_delay'].groupby(df['mkt_unique_carrier']).mean()\n",
    "carrier_avg_taxiIn = df['taxi_in'].groupby(df['mkt_unique_carrier']).mean()\n",
    "carrier_avg_taxiOut = df['taxi_out'].groupby(df['mkt_unique_carrier']).mean()"
   ]
  },
  {
   "cell_type": "code",
   "execution_count": null,
   "metadata": {},
   "outputs": [],
   "source": [
    "summary_table_carrier = pd.concat([carrier_flights, carrier_delays, carrier_avg_time, carrier_avg_dist,\n",
    "                                   carrier_avg_delay, carrier_avg_taxiIn, carrier_avg_taxiOut], axis=1)\n",
    "\n",
    "summary_table_carrier.columns = ['Total Flights', 'Total Delays', 'Avg Flight Time (mins)',\n",
    "                         'Avg Flight Distance', 'Avg Flight Delay (mins)', \n",
    "                         'Avg Taxi-In (mins)', 'Avg Taxi-Out (mins)']\n",
    "\n",
    "summary_table_carrier"
   ]
  },
  {
   "cell_type": "code",
   "execution_count": null,
   "metadata": {},
   "outputs": [],
   "source": [
    "columns = ['fl_date', 'mkt_carrier', 'origin', 'dest', 'distance', 'arr_delay']\n",
    "data = pd.read_csv('data/airline_sample_10k.csv', usecols=columns)"
   ]
  },
  {
   "cell_type": "code",
   "execution_count": null,
   "metadata": {},
   "outputs": [],
   "source": [
    "cat_cols = ['mkt_carrier', 'origin', 'dest']\n",
    "cols_dummies = pd.get_dummies(data[cat_cols])"
   ]
  },
  {
   "cell_type": "code",
   "execution_count": null,
   "metadata": {},
   "outputs": [],
   "source": [
    "data = data.drop(cat_cols, axis=1)"
   ]
  },
  {
   "cell_type": "code",
   "execution_count": null,
   "metadata": {},
   "outputs": [],
   "source": [
    "data_tf = pd.concat([data, cols_dummies], axis=1)"
   ]
  },
  {
   "cell_type": "code",
   "execution_count": null,
   "metadata": {},
   "outputs": [],
   "source": [
    "data_tf = data_tf.dropna()"
   ]
  },
  {
   "cell_type": "code",
   "execution_count": null,
   "metadata": {},
   "outputs": [],
   "source": [
    "data_tf.head()"
   ]
  },
  {
   "cell_type": "code",
   "execution_count": null,
   "metadata": {},
   "outputs": [],
   "source": []
  },
  {
   "cell_type": "code",
   "execution_count": null,
   "metadata": {},
   "outputs": [],
   "source": []
  },
  {
   "cell_type": "code",
   "execution_count": null,
   "metadata": {},
   "outputs": [],
   "source": []
  },
  {
   "cell_type": "code",
   "execution_count": null,
   "metadata": {},
   "outputs": [],
   "source": [
    "from sklearn.ensemble import RandomForestRegressor\n",
    "from sklearn import metrics\n",
    "from sklearn.metrics import accuracy_score, precision_score, recall_score, f1_score, confusion_matrix\n",
    "from sklearn.datasets import make_regression\n",
    "from sklearn.model_selection import cross_val_score, cross_validate\n",
    "from sklearn.model_selection import RepeatedKFold\n",
    "from sklearn.model_selection import GridSearchCV\n",
    "from sklearn.model_selection import train_test_split"
   ]
  },
  {
   "cell_type": "code",
   "execution_count": null,
   "metadata": {},
   "outputs": [],
   "source": [
    "X = data_tf.drop(['arr_delay','fl_date'], axis = 1)\n",
    "y = df['arr_delay']\n",
    "\n",
    "X_train, X_test, y_train, y_test = train_test_split(X, y, test_size = .25)\n",
    "\n",
    "new_model = RandomForestRegressor()\n",
    "params_grid = {'n_estimators' : [1, 5, 10]}\n",
    "\n",
    "#cv = RepeatedKFold(n_splits=10, n_repeats=3, random_state=1)\n",
    "\n",
    "models = GridSearchCV(new_model, params_grid)\n",
    "models.fit(X_train, y_train)\n",
    "# report performance\n",
    "#print('MAE: %.3f (%.3f)' % (np.mean(n_scores), np.std(n_scores)))"
   ]
  },
  {
   "cell_type": "code",
   "execution_count": null,
   "metadata": {},
   "outputs": [],
   "source": [
    "len(X_train),len(y_train)"
   ]
  },
  {
   "cell_type": "code",
   "execution_count": null,
   "metadata": {},
   "outputs": [],
   "source": [
    "be_models = models.best_estimator_"
   ]
  },
  {
   "cell_type": "code",
   "execution_count": null,
   "metadata": {},
   "outputs": [],
   "source": [
    "be_models.score(X_train, y_train)"
   ]
  },
  {
   "cell_type": "code",
   "execution_count": null,
   "metadata": {},
   "outputs": [],
   "source": [
    "df2 = pd.read_csv(\"data/flights_test_5k.csv\")"
   ]
  },
  {
   "cell_type": "code",
   "execution_count": null,
   "metadata": {},
   "outputs": [],
   "source": [
    "df2"
   ]
  },
  {
   "cell_type": "code",
   "execution_count": null,
   "metadata": {
    "tags": []
   },
   "outputs": [],
   "source": [
    "X_test = df2.drop('arr_delay', axis = 1)"
   ]
  },
  {
   "cell_type": "code",
   "execution_count": null,
   "metadata": {},
   "outputs": [],
   "source": [
    "df2.columns"
   ]
  },
  {
   "cell_type": "code",
   "execution_count": null,
   "metadata": {},
   "outputs": [],
   "source": [
    "#clf = RandomForestRegressor(n_estimators=100).fit(X_train, y_train)\n",
    "\n",
    "# sum(y_test)\n",
    "# clf.score(X_test, y_test)\n",
    "\n",
    "#y_predicted = clf.predict(X_test)\n",
    "#confusion = confusion_matrix(y_test, y_predicted)\n",
    "#confusion\n",
    "#sum(y_predicted)\n",
    "\n",
    "#print('Recall: {:.3f}'.format(recall_score(y_test, y_predicted)))\n",
    "#print('Precision: {:.3f}'.format(precision_score(y_test, y_predicted)))\n",
    "#print('Accuracy: {:.3f}'.format(accuracy_score(y_test, y_predicted)))\n",
    "#print('F1: {:.3f}'.format(f1_score(y_test, y_predicted)))\n",
    "#confusion = confusion_matrix(y_test, y_predicted)\n",
    "#print(confusion)\n",
    "#print('Feature importances: {}'.format(clf.feature_importances_))"
   ]
  },
  {
   "cell_type": "code",
   "execution_count": null,
   "metadata": {},
   "outputs": [],
   "source": []
  },
  {
   "cell_type": "code",
   "execution_count": null,
   "metadata": {},
   "outputs": [],
   "source": []
  },
  {
   "cell_type": "code",
   "execution_count": null,
   "metadata": {},
   "outputs": [],
   "source": [
    "from sklearn.linear_model import LogisticRegression\n",
    "from sklearn.model_selection import GridSearchCV\n",
    "\n",
    "np.set_printoptions(formatter={'float': lambda x: \"{0:0.3f}\".format(x)})\n",
    "\n",
    "lr = LogisticRegression()\n",
    "grid_values = {'penalty': ['l1', 'l2'], 'C': [0.0001, 0.001, 0.01, 0.1, 1, 10, 100, 1000, 10000]}\n",
    "grid_lr = GridSearchCV(lr, param_grid = grid_values, scoring = 'recall').fit(X_train_scaled, y_train)\n",
    "print(grid_lr.cv_results_['mean_test_score'].reshape(9,2))"
   ]
  }
 ],
 "metadata": {
  "kernelspec": {
   "display_name": "Python 3",
   "language": "python",
   "name": "python3"
  },
  "language_info": {
   "codemirror_mode": {
    "name": "ipython",
    "version": 3
   },
   "file_extension": ".py",
   "mimetype": "text/x-python",
   "name": "python",
   "nbconvert_exporter": "python",
   "pygments_lexer": "ipython3",
   "version": "3.8.5"
  },
  "toc": {
   "base_numbering": 1,
   "nav_menu": {},
   "number_sections": true,
   "sideBar": true,
   "skip_h1_title": false,
   "title_cell": "Table of Contents",
   "title_sidebar": "Contents",
   "toc_cell": false,
   "toc_position": {},
   "toc_section_display": true,
   "toc_window_display": false
  },
  "varInspector": {
   "cols": {
    "lenName": 16,
    "lenType": 16,
    "lenVar": 40
   },
   "kernels_config": {
    "python": {
     "delete_cmd_postfix": "",
     "delete_cmd_prefix": "del ",
     "library": "var_list.py",
     "varRefreshCmd": "print(var_dic_list())"
    },
    "r": {
     "delete_cmd_postfix": ") ",
     "delete_cmd_prefix": "rm(",
     "library": "var_list.r",
     "varRefreshCmd": "cat(var_dic_list()) "
    }
   },
   "types_to_exclude": [
    "module",
    "function",
    "builtin_function_or_method",
    "instance",
    "_Feature"
   ],
   "window_display": false
  }
 },
 "nbformat": 4,
 "nbformat_minor": 4
}
