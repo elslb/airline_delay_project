{
 "cells": [
  {
   "cell_type": "markdown",
   "metadata": {},
   "source": [
    "## Exploratory Data Analysis\n",
    "\n",
    "Use this notebook to get familiar with the datasets we have. There is 10 questions we need to answer during the EDA.\n",
    "\n",
    "\n",
    "We shouldn't limit our EDA to these 10 questions. Let's be creative :)."
   ]
  },
  {
   "cell_type": "code",
   "execution_count": 1,
   "metadata": {},
   "outputs": [],
   "source": [
    "import pandas as pd\n",
    "import numpy as np\n",
    "import matplotlib.pyplot as plt\n",
    "import warnings\n",
    "warnings.filterwarnings('ignore')\n",
    "import seaborn as sns\n",
    "from scipy import stats\n",
    "from statsmodels.stats import weightstats as stests"
   ]
  },
  {
   "cell_type": "code",
   "execution_count": 2,
   "metadata": {},
   "outputs": [],
   "source": [
    "# setting the option to allow for full viewing of columns in DFs\n",
    "pd.set_option(\"max_columns\", None)"
   ]
  },
  {
   "cell_type": "code",
   "execution_count": 3,
   "metadata": {},
   "outputs": [],
   "source": [
    "df = pd.read_csv(\"data/airline_sample_150k.csv\")"
   ]
  },
  {
   "cell_type": "code",
   "execution_count": 4,
   "metadata": {},
   "outputs": [
    {
     "data": {
      "text/html": [
       "<div>\n",
       "<style scoped>\n",
       "    .dataframe tbody tr th:only-of-type {\n",
       "        vertical-align: middle;\n",
       "    }\n",
       "\n",
       "    .dataframe tbody tr th {\n",
       "        vertical-align: top;\n",
       "    }\n",
       "\n",
       "    .dataframe thead th {\n",
       "        text-align: right;\n",
       "    }\n",
       "</style>\n",
       "<table border=\"1\" class=\"dataframe\">\n",
       "  <thead>\n",
       "    <tr style=\"text-align: right;\">\n",
       "      <th></th>\n",
       "      <th>fl_date</th>\n",
       "      <th>mkt_unique_carrier</th>\n",
       "      <th>branded_code_share</th>\n",
       "      <th>mkt_carrier</th>\n",
       "      <th>mkt_carrier_fl_num</th>\n",
       "      <th>op_unique_carrier</th>\n",
       "      <th>tail_num</th>\n",
       "      <th>op_carrier_fl_num</th>\n",
       "      <th>origin_airport_id</th>\n",
       "      <th>origin</th>\n",
       "      <th>origin_city_name</th>\n",
       "      <th>dest_airport_id</th>\n",
       "      <th>dest</th>\n",
       "      <th>dest_city_name</th>\n",
       "      <th>crs_dep_time</th>\n",
       "      <th>dep_time</th>\n",
       "      <th>dep_delay</th>\n",
       "      <th>taxi_out</th>\n",
       "      <th>wheels_off</th>\n",
       "      <th>wheels_on</th>\n",
       "      <th>taxi_in</th>\n",
       "      <th>crs_arr_time</th>\n",
       "      <th>arr_time</th>\n",
       "      <th>arr_delay</th>\n",
       "      <th>cancelled</th>\n",
       "      <th>cancellation_code</th>\n",
       "      <th>diverted</th>\n",
       "      <th>dup</th>\n",
       "      <th>crs_elapsed_time</th>\n",
       "      <th>actual_elapsed_time</th>\n",
       "      <th>air_time</th>\n",
       "      <th>flights</th>\n",
       "      <th>distance</th>\n",
       "      <th>carrier_delay</th>\n",
       "      <th>weather_delay</th>\n",
       "      <th>nas_delay</th>\n",
       "      <th>security_delay</th>\n",
       "      <th>late_aircraft_delay</th>\n",
       "      <th>first_dep_time</th>\n",
       "      <th>total_add_gtime</th>\n",
       "      <th>longest_add_gtime</th>\n",
       "      <th>no_name</th>\n",
       "    </tr>\n",
       "  </thead>\n",
       "  <tbody>\n",
       "    <tr>\n",
       "      <th>0</th>\n",
       "      <td>2019-01-01</td>\n",
       "      <td>AA</td>\n",
       "      <td>AA_CODESHARE</td>\n",
       "      <td>AA</td>\n",
       "      <td>5241</td>\n",
       "      <td>OH</td>\n",
       "      <td>N703PS</td>\n",
       "      <td>5241</td>\n",
       "      <td>11057</td>\n",
       "      <td>CLT</td>\n",
       "      <td>Charlotte, NC</td>\n",
       "      <td>12448</td>\n",
       "      <td>JAN</td>\n",
       "      <td>Jackson/Vicksburg, MS</td>\n",
       "      <td>2054</td>\n",
       "      <td>2119.0</td>\n",
       "      <td>25.0</td>\n",
       "      <td>22.0</td>\n",
       "      <td>2141.0</td>\n",
       "      <td>2213.0</td>\n",
       "      <td>5.0</td>\n",
       "      <td>2149</td>\n",
       "      <td>2218.0</td>\n",
       "      <td>29.0</td>\n",
       "      <td>0</td>\n",
       "      <td>NaN</td>\n",
       "      <td>0</td>\n",
       "      <td>N</td>\n",
       "      <td>115</td>\n",
       "      <td>119.0</td>\n",
       "      <td>92.0</td>\n",
       "      <td>1</td>\n",
       "      <td>562</td>\n",
       "      <td>25.0</td>\n",
       "      <td>0.0</td>\n",
       "      <td>4.0</td>\n",
       "      <td>0.0</td>\n",
       "      <td>0.0</td>\n",
       "      <td>NaN</td>\n",
       "      <td>NaN</td>\n",
       "      <td>NaN</td>\n",
       "      <td>NaN</td>\n",
       "    </tr>\n",
       "    <tr>\n",
       "      <th>1</th>\n",
       "      <td>2019-01-01</td>\n",
       "      <td>NK</td>\n",
       "      <td>NK</td>\n",
       "      <td>NK</td>\n",
       "      <td>115</td>\n",
       "      <td>NK</td>\n",
       "      <td>N525NK</td>\n",
       "      <td>115</td>\n",
       "      <td>10821</td>\n",
       "      <td>BWI</td>\n",
       "      <td>Baltimore, MD</td>\n",
       "      <td>11292</td>\n",
       "      <td>DEN</td>\n",
       "      <td>Denver, CO</td>\n",
       "      <td>1955</td>\n",
       "      <td>1953.0</td>\n",
       "      <td>-2.0</td>\n",
       "      <td>16.0</td>\n",
       "      <td>2009.0</td>\n",
       "      <td>2204.0</td>\n",
       "      <td>8.0</td>\n",
       "      <td>2157</td>\n",
       "      <td>2212.0</td>\n",
       "      <td>15.0</td>\n",
       "      <td>0</td>\n",
       "      <td>NaN</td>\n",
       "      <td>0</td>\n",
       "      <td>N</td>\n",
       "      <td>242</td>\n",
       "      <td>259.0</td>\n",
       "      <td>235.0</td>\n",
       "      <td>1</td>\n",
       "      <td>1491</td>\n",
       "      <td>0.0</td>\n",
       "      <td>0.0</td>\n",
       "      <td>15.0</td>\n",
       "      <td>0.0</td>\n",
       "      <td>0.0</td>\n",
       "      <td>NaN</td>\n",
       "      <td>NaN</td>\n",
       "      <td>NaN</td>\n",
       "      <td>NaN</td>\n",
       "    </tr>\n",
       "  </tbody>\n",
       "</table>\n",
       "</div>"
      ],
      "text/plain": [
       "      fl_date mkt_unique_carrier branded_code_share mkt_carrier  \\\n",
       "0  2019-01-01                 AA       AA_CODESHARE          AA   \n",
       "1  2019-01-01                 NK                 NK          NK   \n",
       "\n",
       "   mkt_carrier_fl_num op_unique_carrier tail_num  op_carrier_fl_num  \\\n",
       "0                5241                OH   N703PS               5241   \n",
       "1                 115                NK   N525NK                115   \n",
       "\n",
       "   origin_airport_id origin origin_city_name  dest_airport_id dest  \\\n",
       "0              11057    CLT    Charlotte, NC            12448  JAN   \n",
       "1              10821    BWI    Baltimore, MD            11292  DEN   \n",
       "\n",
       "          dest_city_name  crs_dep_time  dep_time  dep_delay  taxi_out  \\\n",
       "0  Jackson/Vicksburg, MS          2054    2119.0       25.0      22.0   \n",
       "1             Denver, CO          1955    1953.0       -2.0      16.0   \n",
       "\n",
       "   wheels_off  wheels_on  taxi_in  crs_arr_time  arr_time  arr_delay  \\\n",
       "0      2141.0     2213.0      5.0          2149    2218.0       29.0   \n",
       "1      2009.0     2204.0      8.0          2157    2212.0       15.0   \n",
       "\n",
       "   cancelled cancellation_code  diverted dup  crs_elapsed_time  \\\n",
       "0          0               NaN         0   N               115   \n",
       "1          0               NaN         0   N               242   \n",
       "\n",
       "   actual_elapsed_time  air_time  flights  distance  carrier_delay  \\\n",
       "0                119.0      92.0        1       562           25.0   \n",
       "1                259.0     235.0        1      1491            0.0   \n",
       "\n",
       "   weather_delay  nas_delay  security_delay  late_aircraft_delay  \\\n",
       "0            0.0        4.0             0.0                  0.0   \n",
       "1            0.0       15.0             0.0                  0.0   \n",
       "\n",
       "   first_dep_time  total_add_gtime  longest_add_gtime  no_name  \n",
       "0             NaN              NaN                NaN      NaN  \n",
       "1             NaN              NaN                NaN      NaN  "
      ]
     },
     "execution_count": 4,
     "metadata": {},
     "output_type": "execute_result"
    }
   ],
   "source": [
    "df.head(2)"
   ]
  },
  {
   "cell_type": "code",
   "execution_count": null,
   "metadata": {},
   "outputs": [],
   "source": []
  },
  {
   "cell_type": "code",
   "execution_count": 5,
   "metadata": {},
   "outputs": [
    {
     "data": {
      "text/plain": [
       "True"
      ]
     },
     "execution_count": 5,
     "metadata": {},
     "output_type": "execute_result"
    }
   ],
   "source": [
    "# checking for null values\n",
    "df.isnull().values.any()"
   ]
  },
  {
   "cell_type": "code",
   "execution_count": 6,
   "metadata": {},
   "outputs": [
    {
     "data": {
      "text/plain": [
       "fl_date                     0\n",
       "mkt_unique_carrier          0\n",
       "branded_code_share          0\n",
       "mkt_carrier                 0\n",
       "mkt_carrier_fl_num          0\n",
       "op_unique_carrier           0\n",
       "tail_num                  481\n",
       "op_carrier_fl_num           0\n",
       "origin_airport_id           0\n",
       "origin                      0\n",
       "origin_city_name            0\n",
       "dest_airport_id             0\n",
       "dest                        0\n",
       "dest_city_name              0\n",
       "crs_dep_time                0\n",
       "dep_time                 2534\n",
       "dep_delay                2578\n",
       "taxi_out                 2670\n",
       "wheels_off               2670\n",
       "wheels_on                2763\n",
       "taxi_in                  2763\n",
       "crs_arr_time                0\n",
       "arr_time                 2703\n",
       "arr_delay                3064\n",
       "cancelled                   0\n",
       "cancellation_code      156192\n",
       "diverted                    0\n",
       "dup                         0\n",
       "crs_elapsed_time            0\n",
       "actual_elapsed_time      3030\n",
       "air_time                 3089\n",
       "flights                     0\n",
       "distance                    0\n",
       "carrier_delay          128950\n",
       "weather_delay          128950\n",
       "nas_delay              128950\n",
       "security_delay         128950\n",
       "late_aircraft_delay    128950\n",
       "first_dep_time         157765\n",
       "total_add_gtime        157765\n",
       "longest_add_gtime      157765\n",
       "no_name                158821\n",
       "dtype: int64"
      ]
     },
     "execution_count": 6,
     "metadata": {},
     "output_type": "execute_result"
    }
   ],
   "source": [
    "df.isnull().sum()"
   ]
  },
  {
   "cell_type": "code",
   "execution_count": 7,
   "metadata": {},
   "outputs": [],
   "source": [
    "# dropping all cancelled flights since they will skew the model\n",
    "df = df[df['cancelled'] != 1]\n",
    "\n",
    "# same reasoning for dropping diverted flights\n",
    "df = df[df['diverted'] != 1]"
   ]
  },
  {
   "cell_type": "code",
   "execution_count": 8,
   "metadata": {},
   "outputs": [],
   "source": [
    "# dropping the no_name column comprised of commas since this is a csv\n",
    "df = df.drop('no_name', axis = 1)"
   ]
  },
  {
   "cell_type": "code",
   "execution_count": 9,
   "metadata": {},
   "outputs": [],
   "source": [
    "# getting rid of unimportant columns\n",
    "\n",
    "df = df.drop(axis = 1, labels = ['branded_code_share', 'mkt_carrier_fl_num', 'tail_num', 'op_carrier_fl_num', 'cancelled', 'cancellation_code', 'diverted', 'flights', 'first_dep_time', 'total_add_gtime', 'longest_add_gtime'])"
   ]
  },
  {
   "cell_type": "code",
   "execution_count": 10,
   "metadata": {},
   "outputs": [
    {
     "data": {
      "text/html": [
       "<div>\n",
       "<style scoped>\n",
       "    .dataframe tbody tr th:only-of-type {\n",
       "        vertical-align: middle;\n",
       "    }\n",
       "\n",
       "    .dataframe tbody tr th {\n",
       "        vertical-align: top;\n",
       "    }\n",
       "\n",
       "    .dataframe thead th {\n",
       "        text-align: right;\n",
       "    }\n",
       "</style>\n",
       "<table border=\"1\" class=\"dataframe\">\n",
       "  <thead>\n",
       "    <tr style=\"text-align: right;\">\n",
       "      <th></th>\n",
       "      <th>fl_date</th>\n",
       "      <th>mkt_unique_carrier</th>\n",
       "      <th>mkt_carrier</th>\n",
       "      <th>op_unique_carrier</th>\n",
       "      <th>origin_airport_id</th>\n",
       "      <th>origin</th>\n",
       "      <th>origin_city_name</th>\n",
       "      <th>dest_airport_id</th>\n",
       "      <th>dest</th>\n",
       "      <th>dest_city_name</th>\n",
       "      <th>crs_dep_time</th>\n",
       "      <th>dep_time</th>\n",
       "      <th>dep_delay</th>\n",
       "      <th>taxi_out</th>\n",
       "      <th>wheels_off</th>\n",
       "      <th>wheels_on</th>\n",
       "      <th>taxi_in</th>\n",
       "      <th>crs_arr_time</th>\n",
       "      <th>arr_time</th>\n",
       "      <th>arr_delay</th>\n",
       "      <th>dup</th>\n",
       "      <th>crs_elapsed_time</th>\n",
       "      <th>actual_elapsed_time</th>\n",
       "      <th>air_time</th>\n",
       "      <th>distance</th>\n",
       "      <th>carrier_delay</th>\n",
       "      <th>weather_delay</th>\n",
       "      <th>nas_delay</th>\n",
       "      <th>security_delay</th>\n",
       "      <th>late_aircraft_delay</th>\n",
       "    </tr>\n",
       "  </thead>\n",
       "  <tbody>\n",
       "    <tr>\n",
       "      <th>0</th>\n",
       "      <td>2019-01-01</td>\n",
       "      <td>AA</td>\n",
       "      <td>AA</td>\n",
       "      <td>OH</td>\n",
       "      <td>11057</td>\n",
       "      <td>CLT</td>\n",
       "      <td>Charlotte, NC</td>\n",
       "      <td>12448</td>\n",
       "      <td>JAN</td>\n",
       "      <td>Jackson/Vicksburg, MS</td>\n",
       "      <td>2054</td>\n",
       "      <td>2119.0</td>\n",
       "      <td>25.0</td>\n",
       "      <td>22.0</td>\n",
       "      <td>2141.0</td>\n",
       "      <td>2213.0</td>\n",
       "      <td>5.0</td>\n",
       "      <td>2149</td>\n",
       "      <td>2218.0</td>\n",
       "      <td>29.0</td>\n",
       "      <td>N</td>\n",
       "      <td>115</td>\n",
       "      <td>119.0</td>\n",
       "      <td>92.0</td>\n",
       "      <td>562</td>\n",
       "      <td>25.0</td>\n",
       "      <td>0.0</td>\n",
       "      <td>4.0</td>\n",
       "      <td>0.0</td>\n",
       "      <td>0.0</td>\n",
       "    </tr>\n",
       "    <tr>\n",
       "      <th>1</th>\n",
       "      <td>2019-01-01</td>\n",
       "      <td>NK</td>\n",
       "      <td>NK</td>\n",
       "      <td>NK</td>\n",
       "      <td>10821</td>\n",
       "      <td>BWI</td>\n",
       "      <td>Baltimore, MD</td>\n",
       "      <td>11292</td>\n",
       "      <td>DEN</td>\n",
       "      <td>Denver, CO</td>\n",
       "      <td>1955</td>\n",
       "      <td>1953.0</td>\n",
       "      <td>-2.0</td>\n",
       "      <td>16.0</td>\n",
       "      <td>2009.0</td>\n",
       "      <td>2204.0</td>\n",
       "      <td>8.0</td>\n",
       "      <td>2157</td>\n",
       "      <td>2212.0</td>\n",
       "      <td>15.0</td>\n",
       "      <td>N</td>\n",
       "      <td>242</td>\n",
       "      <td>259.0</td>\n",
       "      <td>235.0</td>\n",
       "      <td>1491</td>\n",
       "      <td>0.0</td>\n",
       "      <td>0.0</td>\n",
       "      <td>15.0</td>\n",
       "      <td>0.0</td>\n",
       "      <td>0.0</td>\n",
       "    </tr>\n",
       "  </tbody>\n",
       "</table>\n",
       "</div>"
      ],
      "text/plain": [
       "      fl_date mkt_unique_carrier mkt_carrier op_unique_carrier  \\\n",
       "0  2019-01-01                 AA          AA                OH   \n",
       "1  2019-01-01                 NK          NK                NK   \n",
       "\n",
       "   origin_airport_id origin origin_city_name  dest_airport_id dest  \\\n",
       "0              11057    CLT    Charlotte, NC            12448  JAN   \n",
       "1              10821    BWI    Baltimore, MD            11292  DEN   \n",
       "\n",
       "          dest_city_name  crs_dep_time  dep_time  dep_delay  taxi_out  \\\n",
       "0  Jackson/Vicksburg, MS          2054    2119.0       25.0      22.0   \n",
       "1             Denver, CO          1955    1953.0       -2.0      16.0   \n",
       "\n",
       "   wheels_off  wheels_on  taxi_in  crs_arr_time  arr_time  arr_delay dup  \\\n",
       "0      2141.0     2213.0      5.0          2149    2218.0       29.0   N   \n",
       "1      2009.0     2204.0      8.0          2157    2212.0       15.0   N   \n",
       "\n",
       "   crs_elapsed_time  actual_elapsed_time  air_time  distance  carrier_delay  \\\n",
       "0               115                119.0      92.0       562           25.0   \n",
       "1               242                259.0     235.0      1491            0.0   \n",
       "\n",
       "   weather_delay  nas_delay  security_delay  late_aircraft_delay  \n",
       "0            0.0        4.0             0.0                  0.0  \n",
       "1            0.0       15.0             0.0                  0.0  "
      ]
     },
     "execution_count": 10,
     "metadata": {},
     "output_type": "execute_result"
    }
   ],
   "source": [
    "df.head(2)"
   ]
  },
  {
   "cell_type": "code",
   "execution_count": 11,
   "metadata": {},
   "outputs": [
    {
     "data": {
      "image/png": "[encoded data removed]",
      "text/plain": [
       "<Figure size 360x360 with 1 Axes>"
      ]
     },
     "metadata": {
      "needs_background": "light"
     },
     "output_type": "display_data"
    }
   ],
   "source": [
    "plt.figure(figsize=(5,5))\n",
    "plt.scatter(df['dep_delay'], df['arr_delay'], alpha = 0.4)\n",
    "plt.title('Departure Delay VS Arrival Delay')\n",
    "plt.xlabel('Departure Delay')\n",
    "plt.ylabel('Arrival Delay')\n",
    "\n",
    "plt.show()\n",
    "# this shows a strong correlation between dep_delay and arr_delay as expected"
   ]
  },
  {
   "cell_type": "markdown",
   "metadata": {},
   "source": [
    "#### **Task 1**: Test the hypothesis that the delay is from Normal distribution. and that **mean** of the delay is 0. Be careful about the outliers."
   ]
  },
  {
   "cell_type": "code",
   "execution_count": 12,
   "metadata": {},
   "outputs": [],
   "source": [
    "# checking for and dropping null values in arr_delay\n",
    "df[\"arr_delay\"].isnull().sum()\n",
    "df.dropna(subset = [\"arr_delay\"], inplace = True)"
   ]
  },
  {
   "cell_type": "code",
   "execution_count": 13,
   "metadata": {},
   "outputs": [],
   "source": [
    "# getting the absolute values of the z-scores to drop outliers\n",
    "arr_delay_zs = np.abs(stats.zscore(df[\"arr_delay\"], nan_policy = 'omit'))\n",
    "# this returns booleans with False classified for values greater than 3 std's from the mean\n",
    "arr_delay_zs3 = arr_delay_zs <= 3\n",
    "\n",
    "# masking the values to return \n",
    "df['arr_delay_zs'] = df[\"arr_delay\"][arr_delay_zs3]"
   ]
  },
  {
   "cell_type": "code",
   "execution_count": 14,
   "metadata": {},
   "outputs": [],
   "source": [
    "df['arr_delay_zs'].dropna(inplace = True)"
   ]
  },
  {
   "cell_type": "code",
   "execution_count": 15,
   "metadata": {},
   "outputs": [
    {
     "data": {
      "text/plain": [
       "0"
      ]
     },
     "execution_count": 15,
     "metadata": {},
     "output_type": "execute_result"
    }
   ],
   "source": [
    "#df['arr_delay_zs'].fillna(0, inplace = True)\n",
    "df[\"arr_delay_zs\"].isnull().sum()"
   ]
  },
  {
   "cell_type": "code",
   "execution_count": 16,
   "metadata": {},
   "outputs": [
    {
     "data": {
      "text/plain": [
       "count    153302.000000\n",
       "mean          1.079073\n",
       "std          28.511491\n",
       "min         -86.000000\n",
       "25%         -15.000000\n",
       "50%          -6.000000\n",
       "75%           7.000000\n",
       "max         157.000000\n",
       "Name: arr_delay_zs, dtype: float64"
      ]
     },
     "execution_count": 16,
     "metadata": {},
     "output_type": "execute_result"
    }
   ],
   "source": [
    "df[\"arr_delay_zs\"].describe()"
   ]
  },
  {
   "cell_type": "code",
   "execution_count": 17,
   "metadata": {},
   "outputs": [
    {
     "data": {
      "image/png": "[encoded data removed]",
      "text/plain": [
       "<Figure size 432x288 with 1 Axes>"
      ]
     },
     "metadata": {
      "needs_background": "light"
     },
     "output_type": "display_data"
    }
   ],
   "source": [
    "histplot = sns.histplot(data = df[\"arr_delay_zs\"])"
   ]
  },
  {
   "cell_type": "code",
   "execution_count": 18,
   "metadata": {},
   "outputs": [
    {
     "data": {
      "text/plain": [
       "array([ 29.,  15.,  94., ...,  27., -21.,  -6.])"
      ]
     },
     "execution_count": 18,
     "metadata": {},
     "output_type": "execute_result"
    }
   ],
   "source": [
    "delay_arr = df['arr_delay_zs'].to_numpy()\n",
    "delay_arr"
   ]
  },
  {
   "cell_type": "code",
   "execution_count": 19,
   "metadata": {},
   "outputs": [],
   "source": [
    "import random\n",
    "# passing into a list to use in random.sample\n",
    "delay_arr = list(delay_arr)\n",
    "randsamp_delarr = random.sample(delay_arr, 1000)"
   ]
  },
  {
   "cell_type": "code",
   "execution_count": 20,
   "metadata": {},
   "outputs": [
    {
     "data": {
      "text/plain": [
       "ShapiroResult(statistic=0.7867839932441711, pvalue=3.3284905441137818e-34)"
      ]
     },
     "execution_count": 20,
     "metadata": {},
     "output_type": "execute_result"
    }
   ],
   "source": [
    "# using the shapiro test to check for normal distribution\n",
    "shapiro_test = stats.shapiro(randsamp_delarr)\n",
    "shapiro_test"
   ]
  },
  {
   "cell_type": "markdown",
   "metadata": {},
   "source": [
    "#### **Task 2**: Is average/median monthly delay different during the year? If yes, which are months with the biggest delays and what could be the reason?"
   ]
  },
  {
   "cell_type": "code",
   "execution_count": 21,
   "metadata": {},
   "outputs": [],
   "source": [
    "# splitting the date on the hyphen to easily access the month\n",
    "spl_date = [date.split('-')[1] for date in df['fl_date']]"
   ]
  },
  {
   "cell_type": "code",
   "execution_count": 22,
   "metadata": {},
   "outputs": [
    {
     "data": {
      "text/html": [
       "<div>\n",
       "<style scoped>\n",
       "    .dataframe tbody tr th:only-of-type {\n",
       "        vertical-align: middle;\n",
       "    }\n",
       "\n",
       "    .dataframe tbody tr th {\n",
       "        vertical-align: top;\n",
       "    }\n",
       "\n",
       "    .dataframe thead th {\n",
       "        text-align: right;\n",
       "    }\n",
       "</style>\n",
       "<table border=\"1\" class=\"dataframe\">\n",
       "  <thead>\n",
       "    <tr style=\"text-align: right;\">\n",
       "      <th></th>\n",
       "      <th>fl_date</th>\n",
       "      <th>mkt_unique_carrier</th>\n",
       "      <th>mkt_carrier</th>\n",
       "      <th>op_unique_carrier</th>\n",
       "      <th>origin_airport_id</th>\n",
       "      <th>origin</th>\n",
       "      <th>origin_city_name</th>\n",
       "      <th>dest_airport_id</th>\n",
       "      <th>dest</th>\n",
       "      <th>dest_city_name</th>\n",
       "      <th>crs_dep_time</th>\n",
       "      <th>dep_time</th>\n",
       "      <th>dep_delay</th>\n",
       "      <th>taxi_out</th>\n",
       "      <th>wheels_off</th>\n",
       "      <th>wheels_on</th>\n",
       "      <th>taxi_in</th>\n",
       "      <th>crs_arr_time</th>\n",
       "      <th>arr_time</th>\n",
       "      <th>arr_delay</th>\n",
       "      <th>dup</th>\n",
       "      <th>crs_elapsed_time</th>\n",
       "      <th>actual_elapsed_time</th>\n",
       "      <th>air_time</th>\n",
       "      <th>distance</th>\n",
       "      <th>carrier_delay</th>\n",
       "      <th>weather_delay</th>\n",
       "      <th>nas_delay</th>\n",
       "      <th>security_delay</th>\n",
       "      <th>late_aircraft_delay</th>\n",
       "      <th>arr_delay_zs</th>\n",
       "      <th>months</th>\n",
       "    </tr>\n",
       "  </thead>\n",
       "  <tbody>\n",
       "    <tr>\n",
       "      <th>0</th>\n",
       "      <td>2019-01-01</td>\n",
       "      <td>AA</td>\n",
       "      <td>AA</td>\n",
       "      <td>OH</td>\n",
       "      <td>11057</td>\n",
       "      <td>CLT</td>\n",
       "      <td>Charlotte, NC</td>\n",
       "      <td>12448</td>\n",
       "      <td>JAN</td>\n",
       "      <td>Jackson/Vicksburg, MS</td>\n",
       "      <td>2054</td>\n",
       "      <td>2119.0</td>\n",
       "      <td>25.0</td>\n",
       "      <td>22.0</td>\n",
       "      <td>2141.0</td>\n",
       "      <td>2213.0</td>\n",
       "      <td>5.0</td>\n",
       "      <td>2149</td>\n",
       "      <td>2218.0</td>\n",
       "      <td>29.0</td>\n",
       "      <td>N</td>\n",
       "      <td>115</td>\n",
       "      <td>119.0</td>\n",
       "      <td>92.0</td>\n",
       "      <td>562</td>\n",
       "      <td>25.0</td>\n",
       "      <td>0.0</td>\n",
       "      <td>4.0</td>\n",
       "      <td>0.0</td>\n",
       "      <td>0.0</td>\n",
       "      <td>29.0</td>\n",
       "      <td>01</td>\n",
       "    </tr>\n",
       "    <tr>\n",
       "      <th>1</th>\n",
       "      <td>2019-01-01</td>\n",
       "      <td>NK</td>\n",
       "      <td>NK</td>\n",
       "      <td>NK</td>\n",
       "      <td>10821</td>\n",
       "      <td>BWI</td>\n",
       "      <td>Baltimore, MD</td>\n",
       "      <td>11292</td>\n",
       "      <td>DEN</td>\n",
       "      <td>Denver, CO</td>\n",
       "      <td>1955</td>\n",
       "      <td>1953.0</td>\n",
       "      <td>-2.0</td>\n",
       "      <td>16.0</td>\n",
       "      <td>2009.0</td>\n",
       "      <td>2204.0</td>\n",
       "      <td>8.0</td>\n",
       "      <td>2157</td>\n",
       "      <td>2212.0</td>\n",
       "      <td>15.0</td>\n",
       "      <td>N</td>\n",
       "      <td>242</td>\n",
       "      <td>259.0</td>\n",
       "      <td>235.0</td>\n",
       "      <td>1491</td>\n",
       "      <td>0.0</td>\n",
       "      <td>0.0</td>\n",
       "      <td>15.0</td>\n",
       "      <td>0.0</td>\n",
       "      <td>0.0</td>\n",
       "      <td>15.0</td>\n",
       "      <td>01</td>\n",
       "    </tr>\n",
       "  </tbody>\n",
       "</table>\n",
       "</div>"
      ],
      "text/plain": [
       "      fl_date mkt_unique_carrier mkt_carrier op_unique_carrier  \\\n",
       "0  2019-01-01                 AA          AA                OH   \n",
       "1  2019-01-01                 NK          NK                NK   \n",
       "\n",
       "   origin_airport_id origin origin_city_name  dest_airport_id dest  \\\n",
       "0              11057    CLT    Charlotte, NC            12448  JAN   \n",
       "1              10821    BWI    Baltimore, MD            11292  DEN   \n",
       "\n",
       "          dest_city_name  crs_dep_time  dep_time  dep_delay  taxi_out  \\\n",
       "0  Jackson/Vicksburg, MS          2054    2119.0       25.0      22.0   \n",
       "1             Denver, CO          1955    1953.0       -2.0      16.0   \n",
       "\n",
       "   wheels_off  wheels_on  taxi_in  crs_arr_time  arr_time  arr_delay dup  \\\n",
       "0      2141.0     2213.0      5.0          2149    2218.0       29.0   N   \n",
       "1      2009.0     2204.0      8.0          2157    2212.0       15.0   N   \n",
       "\n",
       "   crs_elapsed_time  actual_elapsed_time  air_time  distance  carrier_delay  \\\n",
       "0               115                119.0      92.0       562           25.0   \n",
       "1               242                259.0     235.0      1491            0.0   \n",
       "\n",
       "   weather_delay  nas_delay  security_delay  late_aircraft_delay  \\\n",
       "0            0.0        4.0             0.0                  0.0   \n",
       "1            0.0       15.0             0.0                  0.0   \n",
       "\n",
       "   arr_delay_zs months  \n",
       "0          29.0     01  \n",
       "1          15.0     01  "
      ]
     },
     "execution_count": 22,
     "metadata": {},
     "output_type": "execute_result"
    }
   ],
   "source": [
    "df['months'] = spl_date\n",
    "df.head(2)"
   ]
  },
  {
   "cell_type": "code",
   "execution_count": 23,
   "metadata": {},
   "outputs": [
    {
     "data": {
      "text/html": [
       "<div>\n",
       "<style scoped>\n",
       "    .dataframe tbody tr th:only-of-type {\n",
       "        vertical-align: middle;\n",
       "    }\n",
       "\n",
       "    .dataframe tbody tr th {\n",
       "        vertical-align: top;\n",
       "    }\n",
       "\n",
       "    .dataframe thead th {\n",
       "        text-align: right;\n",
       "    }\n",
       "</style>\n",
       "<table border=\"1\" class=\"dataframe\">\n",
       "  <thead>\n",
       "    <tr style=\"text-align: right;\">\n",
       "      <th></th>\n",
       "      <th>fl_date</th>\n",
       "      <th>months</th>\n",
       "      <th>mkt_unique_carrier</th>\n",
       "      <th>mkt_carrier</th>\n",
       "      <th>op_unique_carrier</th>\n",
       "      <th>origin_airport_id</th>\n",
       "      <th>origin</th>\n",
       "      <th>origin_city_name</th>\n",
       "      <th>dest_airport_id</th>\n",
       "      <th>dest</th>\n",
       "      <th>dest_city_name</th>\n",
       "      <th>crs_dep_time</th>\n",
       "      <th>dep_time</th>\n",
       "      <th>dep_delay</th>\n",
       "      <th>taxi_out</th>\n",
       "      <th>wheels_off</th>\n",
       "      <th>wheels_on</th>\n",
       "      <th>taxi_in</th>\n",
       "      <th>crs_arr_time</th>\n",
       "      <th>arr_time</th>\n",
       "      <th>arr_delay</th>\n",
       "      <th>dup</th>\n",
       "      <th>crs_elapsed_time</th>\n",
       "      <th>actual_elapsed_time</th>\n",
       "      <th>air_time</th>\n",
       "      <th>distance</th>\n",
       "      <th>carrier_delay</th>\n",
       "      <th>weather_delay</th>\n",
       "      <th>nas_delay</th>\n",
       "      <th>security_delay</th>\n",
       "      <th>late_aircraft_delay</th>\n",
       "      <th>arr_delay_zs</th>\n",
       "    </tr>\n",
       "  </thead>\n",
       "  <tbody>\n",
       "    <tr>\n",
       "      <th>0</th>\n",
       "      <td>2019-01-01</td>\n",
       "      <td>01</td>\n",
       "      <td>AA</td>\n",
       "      <td>AA</td>\n",
       "      <td>OH</td>\n",
       "      <td>11057</td>\n",
       "      <td>CLT</td>\n",
       "      <td>Charlotte, NC</td>\n",
       "      <td>12448</td>\n",
       "      <td>JAN</td>\n",
       "      <td>Jackson/Vicksburg, MS</td>\n",
       "      <td>2054</td>\n",
       "      <td>2119.0</td>\n",
       "      <td>25.0</td>\n",
       "      <td>22.0</td>\n",
       "      <td>2141.0</td>\n",
       "      <td>2213.0</td>\n",
       "      <td>5.0</td>\n",
       "      <td>2149</td>\n",
       "      <td>2218.0</td>\n",
       "      <td>29.0</td>\n",
       "      <td>N</td>\n",
       "      <td>115</td>\n",
       "      <td>119.0</td>\n",
       "      <td>92.0</td>\n",
       "      <td>562</td>\n",
       "      <td>25.0</td>\n",
       "      <td>0.0</td>\n",
       "      <td>4.0</td>\n",
       "      <td>0.0</td>\n",
       "      <td>0.0</td>\n",
       "      <td>29.0</td>\n",
       "    </tr>\n",
       "    <tr>\n",
       "      <th>1</th>\n",
       "      <td>2019-01-01</td>\n",
       "      <td>01</td>\n",
       "      <td>NK</td>\n",
       "      <td>NK</td>\n",
       "      <td>NK</td>\n",
       "      <td>10821</td>\n",
       "      <td>BWI</td>\n",
       "      <td>Baltimore, MD</td>\n",
       "      <td>11292</td>\n",
       "      <td>DEN</td>\n",
       "      <td>Denver, CO</td>\n",
       "      <td>1955</td>\n",
       "      <td>1953.0</td>\n",
       "      <td>-2.0</td>\n",
       "      <td>16.0</td>\n",
       "      <td>2009.0</td>\n",
       "      <td>2204.0</td>\n",
       "      <td>8.0</td>\n",
       "      <td>2157</td>\n",
       "      <td>2212.0</td>\n",
       "      <td>15.0</td>\n",
       "      <td>N</td>\n",
       "      <td>242</td>\n",
       "      <td>259.0</td>\n",
       "      <td>235.0</td>\n",
       "      <td>1491</td>\n",
       "      <td>0.0</td>\n",
       "      <td>0.0</td>\n",
       "      <td>15.0</td>\n",
       "      <td>0.0</td>\n",
       "      <td>0.0</td>\n",
       "      <td>15.0</td>\n",
       "    </tr>\n",
       "  </tbody>\n",
       "</table>\n",
       "</div>"
      ],
      "text/plain": [
       "      fl_date months mkt_unique_carrier mkt_carrier op_unique_carrier  \\\n",
       "0  2019-01-01     01                 AA          AA                OH   \n",
       "1  2019-01-01     01                 NK          NK                NK   \n",
       "\n",
       "   origin_airport_id origin origin_city_name  dest_airport_id dest  \\\n",
       "0              11057    CLT    Charlotte, NC            12448  JAN   \n",
       "1              10821    BWI    Baltimore, MD            11292  DEN   \n",
       "\n",
       "          dest_city_name  crs_dep_time  dep_time  dep_delay  taxi_out  \\\n",
       "0  Jackson/Vicksburg, MS          2054    2119.0       25.0      22.0   \n",
       "1             Denver, CO          1955    1953.0       -2.0      16.0   \n",
       "\n",
       "   wheels_off  wheels_on  taxi_in  crs_arr_time  arr_time  arr_delay dup  \\\n",
       "0      2141.0     2213.0      5.0          2149    2218.0       29.0   N   \n",
       "1      2009.0     2204.0      8.0          2157    2212.0       15.0   N   \n",
       "\n",
       "   crs_elapsed_time  actual_elapsed_time  air_time  distance  carrier_delay  \\\n",
       "0               115                119.0      92.0       562           25.0   \n",
       "1               242                259.0     235.0      1491            0.0   \n",
       "\n",
       "   weather_delay  nas_delay  security_delay  late_aircraft_delay  arr_delay_zs  \n",
       "0            0.0        4.0             0.0                  0.0          29.0  \n",
       "1            0.0       15.0             0.0                  0.0          15.0  "
      ]
     },
     "execution_count": 23,
     "metadata": {},
     "output_type": "execute_result"
    }
   ],
   "source": [
    "# Reordering the DF by saving the columns and then adding them after the months column\n",
    "\n",
    "cols = list(df.columns)\n",
    "cols.pop(cols.index('fl_date'))\n",
    "cols.pop(cols.index('months'))\n",
    "df = df[['fl_date','months'] + cols]\n",
    "df.head(2)"
   ]
  },
  {
   "cell_type": "code",
   "execution_count": 24,
   "metadata": {},
   "outputs": [],
   "source": [
    "# Changing months dtype to int so that we can perform numerical operations on the values\n",
    "df['months'] = df['months'].astype(int)"
   ]
  },
  {
   "cell_type": "code",
   "execution_count": 25,
   "metadata": {},
   "outputs": [
    {
     "data": {
      "text/plain": [
       "2455"
      ]
     },
     "execution_count": 25,
     "metadata": {},
     "output_type": "execute_result"
    }
   ],
   "source": [
    "df['arr_delay_zs'].isnull().sum()\n",
    "#df['arr_delay_zs']"
   ]
  },
  {
   "cell_type": "code",
   "execution_count": 26,
   "metadata": {},
   "outputs": [
    {
     "data": {
      "text/html": [
       "<div>\n",
       "<style scoped>\n",
       "    .dataframe tbody tr th:only-of-type {\n",
       "        vertical-align: middle;\n",
       "    }\n",
       "\n",
       "    .dataframe tbody tr th {\n",
       "        vertical-align: top;\n",
       "    }\n",
       "\n",
       "    .dataframe thead th {\n",
       "        text-align: right;\n",
       "    }\n",
       "</style>\n",
       "<table border=\"1\" class=\"dataframe\">\n",
       "  <thead>\n",
       "    <tr style=\"text-align: right;\">\n",
       "      <th></th>\n",
       "      <th>arr_delay_zs</th>\n",
       "    </tr>\n",
       "    <tr>\n",
       "      <th>months</th>\n",
       "      <th></th>\n",
       "    </tr>\n",
       "  </thead>\n",
       "  <tbody>\n",
       "    <tr>\n",
       "      <th>1</th>\n",
       "      <td>-0.707178</td>\n",
       "    </tr>\n",
       "    <tr>\n",
       "      <th>2</th>\n",
       "      <td>1.514435</td>\n",
       "    </tr>\n",
       "    <tr>\n",
       "      <th>3</th>\n",
       "      <td>-0.528589</td>\n",
       "    </tr>\n",
       "    <tr>\n",
       "      <th>4</th>\n",
       "      <td>0.300962</td>\n",
       "    </tr>\n",
       "    <tr>\n",
       "      <th>5</th>\n",
       "      <td>1.977329</td>\n",
       "    </tr>\n",
       "    <tr>\n",
       "      <th>6</th>\n",
       "      <td>4.929423</td>\n",
       "    </tr>\n",
       "    <tr>\n",
       "      <th>7</th>\n",
       "      <td>3.300468</td>\n",
       "    </tr>\n",
       "    <tr>\n",
       "      <th>8</th>\n",
       "      <td>3.487018</td>\n",
       "    </tr>\n",
       "    <tr>\n",
       "      <th>9</th>\n",
       "      <td>-1.608566</td>\n",
       "    </tr>\n",
       "    <tr>\n",
       "      <th>10</th>\n",
       "      <td>0.043241</td>\n",
       "    </tr>\n",
       "    <tr>\n",
       "      <th>11</th>\n",
       "      <td>-0.950052</td>\n",
       "    </tr>\n",
       "    <tr>\n",
       "      <th>12</th>\n",
       "      <td>0.716718</td>\n",
       "    </tr>\n",
       "  </tbody>\n",
       "</table>\n",
       "</div>"
      ],
      "text/plain": [
       "        arr_delay_zs\n",
       "months              \n",
       "1          -0.707178\n",
       "2           1.514435\n",
       "3          -0.528589\n",
       "4           0.300962\n",
       "5           1.977329\n",
       "6           4.929423\n",
       "7           3.300468\n",
       "8           3.487018\n",
       "9          -1.608566\n",
       "10          0.043241\n",
       "11         -0.950052\n",
       "12          0.716718"
      ]
     },
     "execution_count": 26,
     "metadata": {},
     "output_type": "execute_result"
    }
   ],
   "source": [
    "df.groupby(by = 'months').mean()[['arr_delay_zs']]"
   ]
  },
  {
   "cell_type": "code",
   "execution_count": 27,
   "metadata": {},
   "outputs": [
    {
     "data": {
      "image/png": "[encoded data removed]",
      "text/plain": [
       "<Figure size 432x288 with 1 Axes>"
      ]
     },
     "metadata": {
      "needs_background": "light"
     },
     "output_type": "display_data"
    }
   ],
   "source": [
    "month_vs_delay = sns.barplot(x = df['months'], y = df['arr_delay_zs'], ci = None)"
   ]
  },
  {
   "cell_type": "markdown",
   "metadata": {},
   "source": [
    "#### **Task 3**: Does the weather affect the delay? \n",
    "Use the API to pull the weather information for flights. There is no need to get weather for ALL flights. We can choose the right representative sample. Let's focus on four weather types:\n",
    "- sunny\n",
    "- cloudy\n",
    "- rainy\n",
    "- snow.\n",
    "Test the hypothesis that these 4 delays are from the same distribution. If they are not, which ones are significantly different?"
   ]
  },
  {
   "cell_type": "code",
   "execution_count": null,
   "metadata": {},
   "outputs": [],
   "source": []
  },
  {
   "cell_type": "code",
   "execution_count": null,
   "metadata": {},
   "outputs": [],
   "source": []
  },
  {
   "cell_type": "markdown",
   "metadata": {},
   "source": [
    "#### **Task 4**: How taxi times changing during the day? Does higher traffic lead to bigger taxi times?"
   ]
  },
  {
   "cell_type": "code",
   "execution_count": 28,
   "metadata": {},
   "outputs": [
    {
     "data": {
      "text/plain": [
       "False"
      ]
     },
     "execution_count": 28,
     "metadata": {},
     "output_type": "execute_result"
    }
   ],
   "source": [
    "# checking for any nulls in the column\n",
    "df['dep_time'].isnull().any()"
   ]
  },
  {
   "cell_type": "code",
   "execution_count": 29,
   "metadata": {},
   "outputs": [],
   "source": [
    "# scanning through the DF, we can see different lengths of military time for the dep_time\n",
    "# We add a leading 0 to standardize the layout and make it easier to work with\n",
    "\n",
    "# This lambda function fills 0's ahead of the provided numbers up until there are 4 numbers in total\n",
    "# eg. 536 becomes 0536, 26 becomes 0026, 1234 remains unchanged as 1234\n",
    "df['dep_time_0s'] = df['dep_time'].apply(lambda x: '%04.0f' %x)"
   ]
  },
  {
   "cell_type": "code",
   "execution_count": 30,
   "metadata": {},
   "outputs": [
    {
     "data": {
      "text/plain": [
       "0"
      ]
     },
     "execution_count": 30,
     "metadata": {},
     "output_type": "execute_result"
    }
   ],
   "source": [
    "df['dep_time_0s'].isnull().sum()"
   ]
  },
  {
   "cell_type": "code",
   "execution_count": 31,
   "metadata": {},
   "outputs": [],
   "source": [
    "# Now we need to extract the hour from dep_time_0s\n",
    "# The hour is just the 1st 2 numbers in each record object\n",
    "# The int is passed here to convert the output from object to int64\n",
    "hours = [int(time[:2]) for time in df['dep_time_0s']]\n",
    "df['hours'] = hours"
   ]
  },
  {
   "cell_type": "code",
   "execution_count": 32,
   "metadata": {},
   "outputs": [
    {
     "data": {
      "text/plain": [
       "0    21\n",
       "1    19\n",
       "2    16\n",
       "3     5\n",
       "4     9\n",
       "Name: hours, dtype: int64"
      ]
     },
     "execution_count": 32,
     "metadata": {},
     "output_type": "execute_result"
    }
   ],
   "source": [
    "df['hours'].head()"
   ]
  },
  {
   "cell_type": "code",
   "execution_count": 33,
   "metadata": {},
   "outputs": [],
   "source": [
    "df_hours_taxi = df[['hours','taxi_out']]"
   ]
  },
  {
   "cell_type": "code",
   "execution_count": 34,
   "metadata": {},
   "outputs": [
    {
     "data": {
      "text/html": [
       "<div>\n",
       "<style scoped>\n",
       "    .dataframe tbody tr th:only-of-type {\n",
       "        vertical-align: middle;\n",
       "    }\n",
       "\n",
       "    .dataframe tbody tr th {\n",
       "        vertical-align: top;\n",
       "    }\n",
       "\n",
       "    .dataframe thead th {\n",
       "        text-align: right;\n",
       "    }\n",
       "</style>\n",
       "<table border=\"1\" class=\"dataframe\">\n",
       "  <thead>\n",
       "    <tr style=\"text-align: right;\">\n",
       "      <th></th>\n",
       "      <th>taxi_out</th>\n",
       "    </tr>\n",
       "    <tr>\n",
       "      <th>hours</th>\n",
       "      <th></th>\n",
       "    </tr>\n",
       "  </thead>\n",
       "  <tbody>\n",
       "    <tr>\n",
       "      <th>8</th>\n",
       "      <td>19.371571</td>\n",
       "    </tr>\n",
       "    <tr>\n",
       "      <th>9</th>\n",
       "      <td>18.443868</td>\n",
       "    </tr>\n",
       "    <tr>\n",
       "      <th>18</th>\n",
       "      <td>18.365078</td>\n",
       "    </tr>\n",
       "    <tr>\n",
       "      <th>20</th>\n",
       "      <td>18.202119</td>\n",
       "    </tr>\n",
       "    <tr>\n",
       "      <th>10</th>\n",
       "      <td>17.926219</td>\n",
       "    </tr>\n",
       "    <tr>\n",
       "      <th>17</th>\n",
       "      <td>17.794703</td>\n",
       "    </tr>\n",
       "    <tr>\n",
       "      <th>7</th>\n",
       "      <td>17.727529</td>\n",
       "    </tr>\n",
       "    <tr>\n",
       "      <th>19</th>\n",
       "      <td>17.529242</td>\n",
       "    </tr>\n",
       "    <tr>\n",
       "      <th>15</th>\n",
       "      <td>17.486080</td>\n",
       "    </tr>\n",
       "    <tr>\n",
       "      <th>21</th>\n",
       "      <td>17.471132</td>\n",
       "    </tr>\n",
       "    <tr>\n",
       "      <th>11</th>\n",
       "      <td>17.390818</td>\n",
       "    </tr>\n",
       "    <tr>\n",
       "      <th>16</th>\n",
       "      <td>17.095668</td>\n",
       "    </tr>\n",
       "    <tr>\n",
       "      <th>22</th>\n",
       "      <td>17.026835</td>\n",
       "    </tr>\n",
       "    <tr>\n",
       "      <th>14</th>\n",
       "      <td>16.908113</td>\n",
       "    </tr>\n",
       "    <tr>\n",
       "      <th>0</th>\n",
       "      <td>16.784615</td>\n",
       "    </tr>\n",
       "    <tr>\n",
       "      <th>6</th>\n",
       "      <td>16.755758</td>\n",
       "    </tr>\n",
       "    <tr>\n",
       "      <th>12</th>\n",
       "      <td>16.715736</td>\n",
       "    </tr>\n",
       "    <tr>\n",
       "      <th>23</th>\n",
       "      <td>16.682074</td>\n",
       "    </tr>\n",
       "    <tr>\n",
       "      <th>13</th>\n",
       "      <td>16.667128</td>\n",
       "    </tr>\n",
       "    <tr>\n",
       "      <th>5</th>\n",
       "      <td>15.887678</td>\n",
       "    </tr>\n",
       "    <tr>\n",
       "      <th>24</th>\n",
       "      <td>15.769231</td>\n",
       "    </tr>\n",
       "    <tr>\n",
       "      <th>2</th>\n",
       "      <td>15.337838</td>\n",
       "    </tr>\n",
       "    <tr>\n",
       "      <th>4</th>\n",
       "      <td>14.838942</td>\n",
       "    </tr>\n",
       "    <tr>\n",
       "      <th>1</th>\n",
       "      <td>14.503704</td>\n",
       "    </tr>\n",
       "    <tr>\n",
       "      <th>3</th>\n",
       "      <td>12.190476</td>\n",
       "    </tr>\n",
       "  </tbody>\n",
       "</table>\n",
       "</div>"
      ],
      "text/plain": [
       "        taxi_out\n",
       "hours           \n",
       "8      19.371571\n",
       "9      18.443868\n",
       "18     18.365078\n",
       "20     18.202119\n",
       "10     17.926219\n",
       "17     17.794703\n",
       "7      17.727529\n",
       "19     17.529242\n",
       "15     17.486080\n",
       "21     17.471132\n",
       "11     17.390818\n",
       "16     17.095668\n",
       "22     17.026835\n",
       "14     16.908113\n",
       "0      16.784615\n",
       "6      16.755758\n",
       "12     16.715736\n",
       "23     16.682074\n",
       "13     16.667128\n",
       "5      15.887678\n",
       "24     15.769231\n",
       "2      15.337838\n",
       "4      14.838942\n",
       "1      14.503704\n",
       "3      12.190476"
      ]
     },
     "execution_count": 34,
     "metadata": {},
     "output_type": "execute_result"
    }
   ],
   "source": [
    "# Now we groupby using the time of day and compare the average taxi_out\n",
    "df_hours_taxi.groupby(['hours']).mean().sort_values(by = 'taxi_out', ascending = False)"
   ]
  },
  {
   "cell_type": "markdown",
   "metadata": {},
   "source": [
    "#### **Task 5**: What is the average percentage of delays that is already created before departure? (aka are arrival delays caused by departure delays?) Are airlines able to lower the delay during the flights?"
   ]
  },
  {
   "cell_type": "code",
   "execution_count": 35,
   "metadata": {},
   "outputs": [
    {
     "data": {
      "text/plain": [
       "(38923, 54544)"
      ]
     },
     "execution_count": 35,
     "metadata": {},
     "output_type": "execute_result"
    }
   ],
   "source": [
    "# assuming that the question here is asking for proportion of delays caused by depratrue delays\n",
    "\n",
    "df.head()\n",
    "# we want to see proportion of dep_delay > 0 resulting in arr_delay > 0\n",
    "df_del_arr = df.loc[(df['dep_delay'] > 0) & (df['arr_delay'] > 0)]\n",
    "df_del_arr = df_del_arr[['dep_delay', 'arr_delay']]\n",
    "len(df_del_arr),len(df.loc[df['arr_delay'] > 0])"
   ]
  },
  {
   "cell_type": "code",
   "execution_count": 36,
   "metadata": {},
   "outputs": [
    {
     "data": {
      "text/plain": [
       "0.7136073628630096"
      ]
     },
     "execution_count": 36,
     "metadata": {},
     "output_type": "execute_result"
    }
   ],
   "source": [
    "# Avg percentage of delays created before departure\n",
    "delays_before_dep = (len(df_del_arr)) / ((len(df.loc[df['arr_delay'] > 0])))\n",
    "delays_before_dep"
   ]
  },
  {
   "cell_type": "code",
   "execution_count": 37,
   "metadata": {},
   "outputs": [],
   "source": [
    "# Difference between arr_delay and dep_delay\n",
    "df['time_diff'] = df['arr_delay'] - df['dep_delay']\n",
    "# Returns the trips where time was saved\n",
    "time_saved = df.loc[(df['time_diff'] < 0) & (df['dep_delay'] > 0)]\n",
    "# Returns the trips where more time was lost\n",
    "further_delay = df.loc[df['time_diff'] > 0]"
   ]
  },
  {
   "cell_type": "code",
   "execution_count": 38,
   "metadata": {},
   "outputs": [
    {
     "name": "stdout",
     "output_type": "stream",
     "text": [
      "Number of flights that delayed further:  40455\n",
      "Number of flights that saved time:  37411\n",
      "Percentage of flights that saved time after a delay:  70.37301781381088\n"
     ]
    }
   ],
   "source": [
    "print('Number of flights that delayed further: ', len(further_delay))\n",
    "print('Number of flights that saved time: ', len(time_saved))\n",
    "print('Percentage of flights that saved time after a delay: ', ((len(time_saved)) / (len(df.loc[df['dep_delay'] > 0])))*100)"
   ]
  },
  {
   "cell_type": "markdown",
   "metadata": {
    "tags": []
   },
   "source": [
    "#### **Task 6**: How many states cover 50% of US air traffic? "
   ]
  },
  {
   "cell_type": "code",
   "execution_count": 66,
   "metadata": {},
   "outputs": [],
   "source": [
    "# We can get state names from the origin_city_name column\n",
    "df_states = df['origin_city_name'].reset_index()\n",
    "# The state name is the last two indices of the string in the origin_city_name column\n",
    "# We can retrieve that by simple slicing\n",
    "df_states['state'] = df_states['origin_city_name'].str[-2:]"
   ]
  },
  {
   "cell_type": "code",
   "execution_count": 68,
   "metadata": {},
   "outputs": [
    {
     "data": {
      "text/html": [
       "<div>\n",
       "<style scoped>\n",
       "    .dataframe tbody tr th:only-of-type {\n",
       "        vertical-align: middle;\n",
       "    }\n",
       "\n",
       "    .dataframe tbody tr th {\n",
       "        vertical-align: top;\n",
       "    }\n",
       "\n",
       "    .dataframe thead th {\n",
       "        text-align: right;\n",
       "    }\n",
       "</style>\n",
       "<table border=\"1\" class=\"dataframe\">\n",
       "  <thead>\n",
       "    <tr style=\"text-align: right;\">\n",
       "      <th></th>\n",
       "      <th>index</th>\n",
       "      <th>state</th>\n",
       "      <th>cumsum</th>\n",
       "    </tr>\n",
       "  </thead>\n",
       "  <tbody>\n",
       "    <tr>\n",
       "      <th>0</th>\n",
       "      <td>CA</td>\n",
       "      <td>0.109504</td>\n",
       "      <td>0.109504</td>\n",
       "    </tr>\n",
       "    <tr>\n",
       "      <th>1</th>\n",
       "      <td>TX</td>\n",
       "      <td>0.098634</td>\n",
       "      <td>0.208138</td>\n",
       "    </tr>\n",
       "    <tr>\n",
       "      <th>2</th>\n",
       "      <td>FL</td>\n",
       "      <td>0.072883</td>\n",
       "      <td>0.281021</td>\n",
       "    </tr>\n",
       "    <tr>\n",
       "      <th>3</th>\n",
       "      <td>IL</td>\n",
       "      <td>0.061904</td>\n",
       "      <td>0.342925</td>\n",
       "    </tr>\n",
       "    <tr>\n",
       "      <th>4</th>\n",
       "      <td>GA</td>\n",
       "      <td>0.052781</td>\n",
       "      <td>0.395706</td>\n",
       "    </tr>\n",
       "    <tr>\n",
       "      <th>5</th>\n",
       "      <td>NY</td>\n",
       "      <td>0.050566</td>\n",
       "      <td>0.446272</td>\n",
       "    </tr>\n",
       "    <tr>\n",
       "      <th>6</th>\n",
       "      <td>NC</td>\n",
       "      <td>0.045860</td>\n",
       "      <td>0.492132</td>\n",
       "    </tr>\n",
       "    <tr>\n",
       "      <th>7</th>\n",
       "      <td>CO</td>\n",
       "      <td>0.040531</td>\n",
       "      <td>0.532663</td>\n",
       "    </tr>\n",
       "    <tr>\n",
       "      <th>8</th>\n",
       "      <td>PA</td>\n",
       "      <td>0.030008</td>\n",
       "      <td>0.562671</td>\n",
       "    </tr>\n",
       "    <tr>\n",
       "      <th>9</th>\n",
       "      <td>DC</td>\n",
       "      <td>0.029841</td>\n",
       "      <td>0.592513</td>\n",
       "    </tr>\n",
       "  </tbody>\n",
       "</table>\n",
       "</div>"
      ],
      "text/plain": [
       "  index     state    cumsum\n",
       "0    CA  0.109504  0.109504\n",
       "1    TX  0.098634  0.208138\n",
       "2    FL  0.072883  0.281021\n",
       "3    IL  0.061904  0.342925\n",
       "4    GA  0.052781  0.395706\n",
       "5    NY  0.050566  0.446272\n",
       "6    NC  0.045860  0.492132\n",
       "7    CO  0.040531  0.532663\n",
       "8    PA  0.030008  0.562671\n",
       "9    DC  0.029841  0.592513"
      ]
     },
     "execution_count": 68,
     "metadata": {},
     "output_type": "execute_result"
    }
   ],
   "source": [
    "# This finds the number of flight records corresponding to each state\n",
    "# Normalizing it allows us to create percentages to use for cumsum\n",
    "state_counts = df_states['state'].value_counts(normalize = True)\n",
    "# Resetting the index here to get the columns back in order\n",
    "state_counts = state_counts.reset_index()\n",
    "state_counts['cumsum'] = state_counts['state'].cumsum()\n",
    "state_counts.head(10)\n",
    "\n",
    "# We can see here that the top 8 states make up 50% of the US air traffic"
   ]
  },
  {
   "cell_type": "code",
   "execution_count": null,
   "metadata": {},
   "outputs": [],
   "source": []
  },
  {
   "cell_type": "markdown",
   "metadata": {},
   "source": [
    "#### **Task 7**: Test the hypothesis whether planes fly faster when there is the departure delay? "
   ]
  },
  {
   "cell_type": "code",
   "execution_count": null,
   "metadata": {},
   "outputs": [],
   "source": [
    "#df[\"dep_delay\"] = df[\"dep_delay\"][(np.abs(stats.zscore(df[\"dep_delay\"])) < 3)]\n",
    "\n",
    "df['speed'] = df['distance'] / df['air_time']\n",
    "\n",
    "#ztest ,pval = stests.ztest(df['bp_before'], x2=None, value=156)\n",
    "#print(float(pval))\n",
    "#if pval<0.05:\n",
    "#    print(\"reject null hypothesis\")\n",
    "#else:\n",
    "#    print(\"accept null hypothesis\")"
   ]
  },
  {
   "cell_type": "code",
   "execution_count": null,
   "metadata": {},
   "outputs": [],
   "source": [
    "#df_w_delay = df.loc[(df['dep_delay'] > 0)]\n",
    "#df_w_delay = df_w_delay[['dep_delay', 'speed']]\n",
    "\n",
    "#df_no_delay = df.loc[(df['dep_delay'] <= 0)]\n",
    "#df_no_delay = df_no_delay[['dep_delay', 'speed']]"
   ]
  },
  {
   "cell_type": "code",
   "execution_count": null,
   "metadata": {
    "tags": []
   },
   "outputs": [],
   "source": [
    "#fig, ax = plt.subplots(figsize=(8, 8))\n",
    "\n",
    "# add the plots for each dataframe\n",
    "#sns.regplot(y='dep_delay', x='speed', data=df_w_delay, fit_reg=True, ci=None, ax=ax, label='Speed with delay')\n",
    "#sns.regplot(y='dep_delay', x='speed', data=df_no_delay, fit_reg=True, ci=None, ax=ax, label='Speed without delay')\n",
    "#ax.set(xlabel='Speed', ylabel='Departure Delay')\n",
    "#ax.legend()\n",
    "#plt.show()"
   ]
  },
  {
   "cell_type": "markdown",
   "metadata": {},
   "source": [
    "#### **Task 8**: When (which hour) do most 'LONG', 'SHORT', 'MEDIUM' haul flights take off?"
   ]
  },
  {
   "cell_type": "code",
   "execution_count": null,
   "metadata": {},
   "outputs": [],
   "source": []
  },
  {
   "cell_type": "code",
   "execution_count": null,
   "metadata": {},
   "outputs": [],
   "source": [
    "# we want to bin the data based on air_time feature\n",
    "# i will take 0-3 hours to be SHORT, 3-6 hours to be MEDIUM and 6+ hours to be long\n",
    "\n",
    "bins = [0, 180, 360, np.inf]\n",
    "labels = ['SHORT', 'MEDIUM', 'LONG']\n",
    "df['time_bins'] = pd.cut(df['air_time'], bins=bins, labels=labels)\n",
    "#df.head()\n",
    "#df['time_bins']\n",
    "plot = sns.scatterplot(data = df, x = 'air_time', y = 'dep_time', hue = df['time_bins'], ci = None)"
   ]
  },
  {
   "cell_type": "code",
   "execution_count": null,
   "metadata": {},
   "outputs": [],
   "source": []
  },
  {
   "cell_type": "markdown",
   "metadata": {},
   "source": [
    "#### **Task 9**: Find the top 10 the bussiest airports. Does the biggest number of flights mean that the biggest number of passengers went through the particular airport? How much traffic do these 10 airports cover?"
   ]
  },
  {
   "cell_type": "code",
   "execution_count": null,
   "metadata": {},
   "outputs": [],
   "source": []
  },
  {
   "cell_type": "code",
   "execution_count": null,
   "metadata": {},
   "outputs": [],
   "source": []
  },
  {
   "cell_type": "markdown",
   "metadata": {},
   "source": [
    "#### **Task 10**: Do bigger delays lead to bigger fuel comsumption per passenger? \n",
    "We need to do four things to answer this as accurate as possible:\n",
    "- Find out average monthly delay per air carrier (monthly delay is sum of all delays in 1 month)\n",
    "- Find out distance covered monthly by different air carriers\n",
    "- Find out number of passengers that were carried by different air carriers\n",
    "- Find out total fuel comsumption per air carrier.\n",
    "\n",
    "Use this information to get the average fuel comsumption per passenger per km. Is this higher for the airlines with bigger average delays?"
   ]
  },
  {
   "cell_type": "code",
   "execution_count": null,
   "metadata": {},
   "outputs": [],
   "source": []
  },
  {
   "cell_type": "code",
   "execution_count": null,
   "metadata": {},
   "outputs": [],
   "source": []
  },
  {
   "cell_type": "code",
   "execution_count": null,
   "metadata": {},
   "outputs": [],
   "source": [
    "df['mkt_unique_carrier'].nunique()"
   ]
  },
  {
   "cell_type": "code",
   "execution_count": null,
   "metadata": {},
   "outputs": [],
   "source": []
  },
  {
   "cell_type": "code",
   "execution_count": null,
   "metadata": {},
   "outputs": [],
   "source": [
    "df.head(2)"
   ]
  },
  {
   "cell_type": "code",
   "execution_count": null,
   "metadata": {},
   "outputs": [],
   "source": [
    "df['total_delay'] = (df['carrier_delay'] + df['weather_delay']\n",
    "             + df['nas_delay'] + df['security_delay'] + df['late_aircraft_delay'])\n",
    "\n",
    "df_delays = df.loc[(df['total_delay'] != np.NaN)]\n",
    "df['total_delay'].fillna(0, inplace=True)\n",
    "df['total_delay'].head()"
   ]
  },
  {
   "cell_type": "code",
   "execution_count": null,
   "metadata": {},
   "outputs": [],
   "source": [
    "carrier_group = df_delays['carrier_delay'].groupby(df_delays['mkt_unique_carrier']).mean()\n",
    "weather_group = df_delays['weather_delay'].groupby(df_delays['mkt_unique_carrier']).mean()\n",
    "nas_group = df_delays['nas_delay'].groupby(df_delays['mkt_unique_carrier']).mean()\n",
    "security_group = df_delays['security_delay'].groupby(df_delays['mkt_unique_carrier']).mean()\n",
    "late_group = df_delays['late_aircraft_delay'].groupby(df_delays['mkt_unique_carrier']).mean()\n",
    "\n",
    "w_bottom = carrier_group.values\n",
    "n_bottom = w_bottom + weather_group.values\n",
    "s_bottom = n_bottom + nas_group.values\n",
    "l_bottom = s_bottom + security_group.values\n",
    "\n",
    "x = carrier_group.index.values\n",
    "\n",
    "fig, ax = plt.subplots(figsize = (12,6))\n",
    "\n",
    "ax.set_xticks(np.arange(len(x)))\n",
    "ax.set_xticklabels(x, rotation = 45)\n",
    "ax.bar(np.arange(len(x)),carrier_group.values, align='center', label='Carrier Delay')\n",
    "ax.bar(np.arange(len(x)),weather_group.values, align='center', bottom=w_bottom, label='Weather Delay')\n",
    "ax.bar(np.arange(len(x)),nas_group.values, align='center', bottom=n_bottom, label='NAS Delay')\n",
    "ax.bar(np.arange(len(x)),security_group.values, align='center', bottom=s_bottom, label='Security Delay')\n",
    "ax.bar(np.arange(len(x)),late_group.values, align='center', bottom=l_bottom, label='Late Aircraft Delay')\n",
    "\n",
    "ax.set_xlabel('Aircraft Carrier Code')\n",
    "ax.set_ylabel('Departure Delay in minutes')\n",
    "\n",
    "plt.legend()\n",
    "plt.show()"
   ]
  },
  {
   "cell_type": "code",
   "execution_count": null,
   "metadata": {},
   "outputs": [],
   "source": [
    "df_delays = df_delays[df_delays['total_delay'] > 0]"
   ]
  },
  {
   "cell_type": "code",
   "execution_count": null,
   "metadata": {},
   "outputs": [],
   "source": [
    "carrier_flights = df['mkt_unique_carrier'].groupby(df['mkt_unique_carrier']).count()\n",
    "carrier_delays = df_delays['total_delay'].groupby(df_delays['mkt_unique_carrier']).count()\n",
    "carrier_avg_time = df['air_time'].groupby(df['mkt_unique_carrier']).mean()\n",
    "carrier_avg_dist = df['distance'].groupby(df['mkt_unique_carrier']).mean()\n",
    "carrier_avg_delay = df['total_delay'].groupby(df['mkt_unique_carrier']).mean()\n",
    "carrier_avg_taxiIn = df['taxi_in'].groupby(df['mkt_unique_carrier']).mean()\n",
    "carrier_avg_taxiOut = df['taxi_out'].groupby(df['mkt_unique_carrier']).mean()"
   ]
  },
  {
   "cell_type": "code",
   "execution_count": null,
   "metadata": {},
   "outputs": [],
   "source": [
    "summary_table_carrier = pd.concat([carrier_flights, carrier_delays, carrier_avg_time, carrier_avg_dist,\n",
    "                                   carrier_avg_delay, carrier_avg_taxiIn, carrier_avg_taxiOut], axis=1)\n",
    "\n",
    "summary_table_carrier.columns = ['Total Flights', 'Total Delays', 'Avg Flight Time (mins)',\n",
    "                         'Avg Flight Distance', 'Avg Flight Delay (mins)', \n",
    "                         'Avg Taxi-In (mins)', 'Avg Taxi-Out (mins)']\n",
    "\n",
    "summary_table_carrier"
   ]
  },
  {
   "cell_type": "code",
   "execution_count": null,
   "metadata": {},
   "outputs": [],
   "source": [
    "columns = ['fl_date', 'mkt_carrier', 'origin', 'dest', 'distance', 'arr_delay']\n",
    "data = pd.read_csv('data/airline_sample_150k.csv', usecols=columns)"
   ]
  },
  {
   "cell_type": "code",
   "execution_count": null,
   "metadata": {},
   "outputs": [],
   "source": [
    "cat_cols = ['mkt_carrier', 'origin', 'dest']\n",
    "cols_dummies = pd.get_dummies(data[cat_cols])"
   ]
  },
  {
   "cell_type": "code",
   "execution_count": null,
   "metadata": {},
   "outputs": [],
   "source": [
    "data = data.drop(cat_cols, axis=1)"
   ]
  },
  {
   "cell_type": "code",
   "execution_count": null,
   "metadata": {},
   "outputs": [],
   "source": [
    "data_tf = pd.concat([data, cols_dummies], axis=1)"
   ]
  },
  {
   "cell_type": "code",
   "execution_count": null,
   "metadata": {},
   "outputs": [],
   "source": [
    "data_tf = data_tf.dropna()"
   ]
  },
  {
   "cell_type": "code",
   "execution_count": null,
   "metadata": {},
   "outputs": [],
   "source": [
    "data_tf.head()"
   ]
  },
  {
   "cell_type": "code",
   "execution_count": null,
   "metadata": {},
   "outputs": [],
   "source": []
  },
  {
   "cell_type": "code",
   "execution_count": null,
   "metadata": {},
   "outputs": [],
   "source": []
  },
  {
   "cell_type": "code",
   "execution_count": null,
   "metadata": {},
   "outputs": [],
   "source": []
  },
  {
   "cell_type": "code",
   "execution_count": null,
   "metadata": {},
   "outputs": [],
   "source": [
    "from sklearn.ensemble import RandomForestRegressor\n",
    "from sklearn import metrics\n",
    "from sklearn.metrics import accuracy_score, precision_score, recall_score, f1_score, confusion_matrix\n",
    "from sklearn.datasets import make_regression\n",
    "from sklearn.model_selection import cross_val_score, cross_validate\n",
    "from sklearn.model_selection import RepeatedKFold\n",
    "from sklearn.model_selection import GridSearchCV\n",
    "from sklearn.model_selection import train_test_split"
   ]
  },
  {
   "cell_type": "code",
   "execution_count": null,
   "metadata": {},
   "outputs": [],
   "source": [
    "X = data_tf.drop(['arr_delay','fl_date'], axis = 1)\n",
    "y = df['arr_delay']\n",
    "\n",
    "X_train, X_test, y_train, y_test = train_test_split(X, y, test_size = .25)\n",
    "\n",
    "new_model = RandomForestRegressor()\n",
    "params_grid = {'n_estimators' : [1, 5, 10]}\n",
    "\n",
    "#cv = RepeatedKFold(n_splits=10, n_repeats=3, random_state=1)\n",
    "\n",
    "models = GridSearchCV(new_model, params_grid)\n",
    "models.fit(X_train, y_train)\n",
    "# report performance\n",
    "#print('MAE: %.3f (%.3f)' % (np.mean(n_scores), np.std(n_scores)))"
   ]
  },
  {
   "cell_type": "code",
   "execution_count": null,
   "metadata": {},
   "outputs": [],
   "source": [
    "len(X_train),len(y_train)"
   ]
  },
  {
   "cell_type": "code",
   "execution_count": null,
   "metadata": {},
   "outputs": [],
   "source": [
    "len(X_test),len(y_test)"
   ]
  },
  {
   "cell_type": "code",
   "execution_count": null,
   "metadata": {},
   "outputs": [],
   "source": [
    "be_models = models.best_estimator_"
   ]
  },
  {
   "cell_type": "code",
   "execution_count": null,
   "metadata": {},
   "outputs": [],
   "source": [
    "be_models.score(X_train, y_train)"
   ]
  },
  {
   "cell_type": "code",
   "execution_count": null,
   "metadata": {},
   "outputs": [],
   "source": [
    "be_models.score(X_test, y_test)"
   ]
  },
  {
   "cell_type": "code",
   "execution_count": null,
   "metadata": {},
   "outputs": [],
   "source": []
  },
  {
   "cell_type": "code",
   "execution_count": null,
   "metadata": {},
   "outputs": [],
   "source": [
    "df2.columns"
   ]
  },
  {
   "cell_type": "code",
   "execution_count": null,
   "metadata": {},
   "outputs": [],
   "source": []
  },
  {
   "cell_type": "code",
   "execution_count": null,
   "metadata": {},
   "outputs": [],
   "source": []
  },
  {
   "cell_type": "code",
   "execution_count": null,
   "metadata": {},
   "outputs": [],
   "source": []
  },
  {
   "cell_type": "code",
   "execution_count": null,
   "metadata": {},
   "outputs": [],
   "source": []
  }
 ],
 "metadata": {
  "kernelspec": {
   "display_name": "Python 3",
   "language": "python",
   "name": "python3"
  },
  "language_info": {
   "codemirror_mode": {
    "name": "ipython",
    "version": 3
   },
   "file_extension": ".py",
   "mimetype": "text/x-python",
   "name": "python",
   "nbconvert_exporter": "python",
   "pygments_lexer": "ipython3",
   "version": "3.8.5"
  },
  "toc": {
   "base_numbering": 1,
   "nav_menu": {},
   "number_sections": true,
   "sideBar": true,
   "skip_h1_title": false,
   "title_cell": "Table of Contents",
   "title_sidebar": "Contents",
   "toc_cell": false,
   "toc_position": {},
   "toc_section_display": true,
   "toc_window_display": false
  },
  "varInspector": {
   "cols": {
    "lenName": 16,
    "lenType": 16,
    "lenVar": 40
   },
   "kernels_config": {
    "python": {
     "delete_cmd_postfix": "",
     "delete_cmd_prefix": "del ",
     "library": "var_list.py",
     "varRefreshCmd": "print(var_dic_list())"
    },
    "r": {
     "delete_cmd_postfix": ") ",
     "delete_cmd_prefix": "rm(",
     "library": "var_list.r",
     "varRefreshCmd": "cat(var_dic_list()) "
    }
   },
   "types_to_exclude": [
    "module",
    "function",
    "builtin_function_or_method",
    "instance",
    "_Feature"
   ],
   "window_display": false
  }
 },
 "nbformat": 4,
 "nbformat_minor": 4
}
