{
 "cells": [
  {
   "cell_type": "markdown",
   "metadata": {},
   "source": [
    "## Exploratory Data Analysis\n",
    "\n",
    "Use this notebook to get familiar with the datasets we have. There is 10 questions we need to answer during the EDA.\n",
    "\n",
    "\n",
    "We shouldn't limit our EDA to these 10 questions. Let's be creative :)."
   ]
  },
  {
   "cell_type": "code",
   "execution_count": 1,
   "metadata": {},
   "outputs": [],
   "source": [
    "import pandas as pd\n",
    "import numpy as np\n",
    "import matplotlib.pyplot as plt\n",
    "import warnings\n",
    "warnings.filterwarnings('ignore')\n",
    "import seaborn as sns\n",
    "from scipy import stats\n",
    "from statsmodels.stats import weightstats as stests"
   ]
  },
  {
   "cell_type": "code",
   "execution_count": 2,
   "metadata": {},
   "outputs": [],
   "source": [
    "# setting the option to allow for full viewing of columns in DFs\n",
    "pd.set_option(\"max_columns\", None)"
   ]
  },
  {
   "cell_type": "code",
   "execution_count": 3,
   "metadata": {},
   "outputs": [],
   "source": [
    "df = pd.read_csv(\"data/airline_sample_10k.csv\")"
   ]
  },
  {
   "cell_type": "code",
   "execution_count": 4,
   "metadata": {},
   "outputs": [
    {
     "data": {
      "text/html": [
       "<div>\n",
       "<style scoped>\n",
       "    .dataframe tbody tr th:only-of-type {\n",
       "        vertical-align: middle;\n",
       "    }\n",
       "\n",
       "    .dataframe tbody tr th {\n",
       "        vertical-align: top;\n",
       "    }\n",
       "\n",
       "    .dataframe thead th {\n",
       "        text-align: right;\n",
       "    }\n",
       "</style>\n",
       "<table border=\"1\" class=\"dataframe\">\n",
       "  <thead>\n",
       "    <tr style=\"text-align: right;\">\n",
       "      <th></th>\n",
       "      <th>fl_date</th>\n",
       "      <th>mkt_unique_carrier</th>\n",
       "      <th>branded_code_share</th>\n",
       "      <th>mkt_carrier</th>\n",
       "      <th>mkt_carrier_fl_num</th>\n",
       "      <th>op_unique_carrier</th>\n",
       "      <th>tail_num</th>\n",
       "      <th>op_carrier_fl_num</th>\n",
       "      <th>origin_airport_id</th>\n",
       "      <th>origin</th>\n",
       "      <th>origin_city_name</th>\n",
       "      <th>dest_airport_id</th>\n",
       "      <th>dest</th>\n",
       "      <th>dest_city_name</th>\n",
       "      <th>crs_dep_time</th>\n",
       "      <th>dep_time</th>\n",
       "      <th>dep_delay</th>\n",
       "      <th>taxi_out</th>\n",
       "      <th>wheels_off</th>\n",
       "      <th>wheels_on</th>\n",
       "      <th>taxi_in</th>\n",
       "      <th>crs_arr_time</th>\n",
       "      <th>arr_time</th>\n",
       "      <th>arr_delay</th>\n",
       "      <th>cancelled</th>\n",
       "      <th>cancellation_code</th>\n",
       "      <th>diverted</th>\n",
       "      <th>dup</th>\n",
       "      <th>crs_elapsed_time</th>\n",
       "      <th>actual_elapsed_time</th>\n",
       "      <th>air_time</th>\n",
       "      <th>flights</th>\n",
       "      <th>distance</th>\n",
       "      <th>carrier_delay</th>\n",
       "      <th>weather_delay</th>\n",
       "      <th>nas_delay</th>\n",
       "      <th>security_delay</th>\n",
       "      <th>late_aircraft_delay</th>\n",
       "      <th>first_dep_time</th>\n",
       "      <th>total_add_gtime</th>\n",
       "      <th>longest_add_gtime</th>\n",
       "      <th>no_name</th>\n",
       "    </tr>\n",
       "  </thead>\n",
       "  <tbody>\n",
       "    <tr>\n",
       "      <th>0</th>\n",
       "      <td>2019-08-17</td>\n",
       "      <td>DL</td>\n",
       "      <td>DL_CODESHARE</td>\n",
       "      <td>DL</td>\n",
       "      <td>3452</td>\n",
       "      <td>9E</td>\n",
       "      <td>N349PQ</td>\n",
       "      <td>3452</td>\n",
       "      <td>13487</td>\n",
       "      <td>MSP</td>\n",
       "      <td>Minneapolis, MN</td>\n",
       "      <td>11986</td>\n",
       "      <td>GRR</td>\n",
       "      <td>Grand Rapids, MI</td>\n",
       "      <td>710</td>\n",
       "      <td>705.0</td>\n",
       "      <td>-5.0</td>\n",
       "      <td>18.0</td>\n",
       "      <td>723.0</td>\n",
       "      <td>923.0</td>\n",
       "      <td>3.0</td>\n",
       "      <td>938</td>\n",
       "      <td>926.0</td>\n",
       "      <td>-12.0</td>\n",
       "      <td>0</td>\n",
       "      <td>NaN</td>\n",
       "      <td>0</td>\n",
       "      <td>N</td>\n",
       "      <td>88</td>\n",
       "      <td>81.0</td>\n",
       "      <td>60.0</td>\n",
       "      <td>1</td>\n",
       "      <td>408</td>\n",
       "      <td>NaN</td>\n",
       "      <td>NaN</td>\n",
       "      <td>NaN</td>\n",
       "      <td>NaN</td>\n",
       "      <td>NaN</td>\n",
       "      <td>NaN</td>\n",
       "      <td>NaN</td>\n",
       "      <td>NaN</td>\n",
       "      <td>NaN</td>\n",
       "    </tr>\n",
       "    <tr>\n",
       "      <th>1</th>\n",
       "      <td>2019-01-28</td>\n",
       "      <td>AA</td>\n",
       "      <td>AA_CODESHARE</td>\n",
       "      <td>AA</td>\n",
       "      <td>6002</td>\n",
       "      <td>YV</td>\n",
       "      <td>N933LR</td>\n",
       "      <td>6002</td>\n",
       "      <td>10599</td>\n",
       "      <td>BHM</td>\n",
       "      <td>Birmingham, AL</td>\n",
       "      <td>11298</td>\n",
       "      <td>DFW</td>\n",
       "      <td>Dallas/Fort Worth, TX</td>\n",
       "      <td>1251</td>\n",
       "      <td>1256.0</td>\n",
       "      <td>5.0</td>\n",
       "      <td>19.0</td>\n",
       "      <td>1315.0</td>\n",
       "      <td>1448.0</td>\n",
       "      <td>14.0</td>\n",
       "      <td>1500</td>\n",
       "      <td>1502.0</td>\n",
       "      <td>2.0</td>\n",
       "      <td>0</td>\n",
       "      <td>NaN</td>\n",
       "      <td>0</td>\n",
       "      <td>N</td>\n",
       "      <td>129</td>\n",
       "      <td>126.0</td>\n",
       "      <td>93.0</td>\n",
       "      <td>1</td>\n",
       "      <td>597</td>\n",
       "      <td>NaN</td>\n",
       "      <td>NaN</td>\n",
       "      <td>NaN</td>\n",
       "      <td>NaN</td>\n",
       "      <td>NaN</td>\n",
       "      <td>NaN</td>\n",
       "      <td>NaN</td>\n",
       "      <td>NaN</td>\n",
       "      <td>NaN</td>\n",
       "    </tr>\n",
       "  </tbody>\n",
       "</table>\n",
       "</div>"
      ],
      "text/plain": [
       "      fl_date mkt_unique_carrier branded_code_share mkt_carrier  \\\n",
       "0  2019-08-17                 DL       DL_CODESHARE          DL   \n",
       "1  2019-01-28                 AA       AA_CODESHARE          AA   \n",
       "\n",
       "   mkt_carrier_fl_num op_unique_carrier tail_num  op_carrier_fl_num  \\\n",
       "0                3452                9E   N349PQ               3452   \n",
       "1                6002                YV   N933LR               6002   \n",
       "\n",
       "   origin_airport_id origin origin_city_name  dest_airport_id dest  \\\n",
       "0              13487    MSP  Minneapolis, MN            11986  GRR   \n",
       "1              10599    BHM   Birmingham, AL            11298  DFW   \n",
       "\n",
       "          dest_city_name  crs_dep_time  dep_time  dep_delay  taxi_out  \\\n",
       "0       Grand Rapids, MI           710     705.0       -5.0      18.0   \n",
       "1  Dallas/Fort Worth, TX          1251    1256.0        5.0      19.0   \n",
       "\n",
       "   wheels_off  wheels_on  taxi_in  crs_arr_time  arr_time  arr_delay  \\\n",
       "0       723.0      923.0      3.0           938     926.0      -12.0   \n",
       "1      1315.0     1448.0     14.0          1500    1502.0        2.0   \n",
       "\n",
       "   cancelled cancellation_code  diverted dup  crs_elapsed_time  \\\n",
       "0          0               NaN         0   N                88   \n",
       "1          0               NaN         0   N               129   \n",
       "\n",
       "   actual_elapsed_time  air_time  flights  distance  carrier_delay  \\\n",
       "0                 81.0      60.0        1       408            NaN   \n",
       "1                126.0      93.0        1       597            NaN   \n",
       "\n",
       "   weather_delay  nas_delay  security_delay  late_aircraft_delay  \\\n",
       "0            NaN        NaN             NaN                  NaN   \n",
       "1            NaN        NaN             NaN                  NaN   \n",
       "\n",
       "   first_dep_time  total_add_gtime  longest_add_gtime  no_name  \n",
       "0             NaN              NaN                NaN      NaN  \n",
       "1             NaN              NaN                NaN      NaN  "
      ]
     },
     "execution_count": 4,
     "metadata": {},
     "output_type": "execute_result"
    }
   ],
   "source": [
    "df.head(2)"
   ]
  },
  {
   "cell_type": "code",
   "execution_count": null,
   "metadata": {},
   "outputs": [],
   "source": []
  },
  {
   "cell_type": "code",
   "execution_count": 5,
   "metadata": {},
   "outputs": [
    {
     "data": {
      "text/plain": [
       "True"
      ]
     },
     "execution_count": 5,
     "metadata": {},
     "output_type": "execute_result"
    }
   ],
   "source": [
    "# checking for null values\n",
    "df.isnull().values.any()"
   ]
  },
  {
   "cell_type": "code",
   "execution_count": 6,
   "metadata": {},
   "outputs": [
    {
     "data": {
      "text/plain": [
       "fl_date                    0\n",
       "mkt_unique_carrier         0\n",
       "branded_code_share         0\n",
       "mkt_carrier                0\n",
       "mkt_carrier_fl_num         0\n",
       "op_unique_carrier          0\n",
       "tail_num                  27\n",
       "op_carrier_fl_num          0\n",
       "origin_airport_id          0\n",
       "origin                     0\n",
       "origin_city_name           0\n",
       "dest_airport_id            0\n",
       "dest                       0\n",
       "dest_city_name             0\n",
       "crs_dep_time               0\n",
       "dep_time                 162\n",
       "dep_delay                167\n",
       "taxi_out                 175\n",
       "wheels_off               175\n",
       "wheels_on                180\n",
       "taxi_in                  180\n",
       "crs_arr_time               0\n",
       "arr_time                 176\n",
       "arr_delay                200\n",
       "cancelled                  0\n",
       "cancellation_code       9828\n",
       "diverted                   0\n",
       "dup                        0\n",
       "crs_elapsed_time           0\n",
       "actual_elapsed_time      199\n",
       "air_time                 203\n",
       "flights                    0\n",
       "distance                   0\n",
       "carrier_delay           8132\n",
       "weather_delay           8132\n",
       "nas_delay               8132\n",
       "security_delay          8132\n",
       "late_aircraft_delay     8132\n",
       "first_dep_time          9932\n",
       "total_add_gtime         9932\n",
       "longest_add_gtime       9932\n",
       "no_name                10000\n",
       "dtype: int64"
      ]
     },
     "execution_count": 6,
     "metadata": {},
     "output_type": "execute_result"
    }
   ],
   "source": [
    "df.isnull().sum()"
   ]
  },
  {
   "cell_type": "code",
   "execution_count": 7,
   "metadata": {},
   "outputs": [],
   "source": [
    "# dropping all cancelled flights since they will skew the model\n",
    "df = df[df['cancelled'] != 1]\n",
    "\n",
    "# same reasoning for dropping diverted flights\n",
    "df = df[df['diverted'] != 1]"
   ]
  },
  {
   "cell_type": "code",
   "execution_count": 8,
   "metadata": {},
   "outputs": [],
   "source": [
    "# dropping the no_name column comprised of commas since this is a csv\n",
    "df = df.drop('no_name', axis = 1)"
   ]
  },
  {
   "cell_type": "code",
   "execution_count": 9,
   "metadata": {},
   "outputs": [],
   "source": [
    "# getting rid of unimportant columns\n",
    "\n",
    "df = df.drop(axis = 1, labels = ['branded_code_share', 'mkt_carrier_fl_num', 'tail_num', 'op_carrier_fl_num', 'cancelled', 'cancellation_code', 'diverted', 'flights', 'first_dep_time', 'total_add_gtime', 'longest_add_gtime'])"
   ]
  },
  {
   "cell_type": "code",
   "execution_count": 10,
   "metadata": {},
   "outputs": [
    {
     "data": {
      "text/html": [
       "<div>\n",
       "<style scoped>\n",
       "    .dataframe tbody tr th:only-of-type {\n",
       "        vertical-align: middle;\n",
       "    }\n",
       "\n",
       "    .dataframe tbody tr th {\n",
       "        vertical-align: top;\n",
       "    }\n",
       "\n",
       "    .dataframe thead th {\n",
       "        text-align: right;\n",
       "    }\n",
       "</style>\n",
       "<table border=\"1\" class=\"dataframe\">\n",
       "  <thead>\n",
       "    <tr style=\"text-align: right;\">\n",
       "      <th></th>\n",
       "      <th>fl_date</th>\n",
       "      <th>mkt_unique_carrier</th>\n",
       "      <th>mkt_carrier</th>\n",
       "      <th>op_unique_carrier</th>\n",
       "      <th>origin_airport_id</th>\n",
       "      <th>origin</th>\n",
       "      <th>origin_city_name</th>\n",
       "      <th>dest_airport_id</th>\n",
       "      <th>dest</th>\n",
       "      <th>dest_city_name</th>\n",
       "      <th>crs_dep_time</th>\n",
       "      <th>dep_time</th>\n",
       "      <th>dep_delay</th>\n",
       "      <th>taxi_out</th>\n",
       "      <th>wheels_off</th>\n",
       "      <th>wheels_on</th>\n",
       "      <th>taxi_in</th>\n",
       "      <th>crs_arr_time</th>\n",
       "      <th>arr_time</th>\n",
       "      <th>arr_delay</th>\n",
       "      <th>dup</th>\n",
       "      <th>crs_elapsed_time</th>\n",
       "      <th>actual_elapsed_time</th>\n",
       "      <th>air_time</th>\n",
       "      <th>distance</th>\n",
       "      <th>carrier_delay</th>\n",
       "      <th>weather_delay</th>\n",
       "      <th>nas_delay</th>\n",
       "      <th>security_delay</th>\n",
       "      <th>late_aircraft_delay</th>\n",
       "    </tr>\n",
       "  </thead>\n",
       "  <tbody>\n",
       "    <tr>\n",
       "      <th>0</th>\n",
       "      <td>2019-08-17</td>\n",
       "      <td>DL</td>\n",
       "      <td>DL</td>\n",
       "      <td>9E</td>\n",
       "      <td>13487</td>\n",
       "      <td>MSP</td>\n",
       "      <td>Minneapolis, MN</td>\n",
       "      <td>11986</td>\n",
       "      <td>GRR</td>\n",
       "      <td>Grand Rapids, MI</td>\n",
       "      <td>710</td>\n",
       "      <td>705.0</td>\n",
       "      <td>-5.0</td>\n",
       "      <td>18.0</td>\n",
       "      <td>723.0</td>\n",
       "      <td>923.0</td>\n",
       "      <td>3.0</td>\n",
       "      <td>938</td>\n",
       "      <td>926.0</td>\n",
       "      <td>-12.0</td>\n",
       "      <td>N</td>\n",
       "      <td>88</td>\n",
       "      <td>81.0</td>\n",
       "      <td>60.0</td>\n",
       "      <td>408</td>\n",
       "      <td>NaN</td>\n",
       "      <td>NaN</td>\n",
       "      <td>NaN</td>\n",
       "      <td>NaN</td>\n",
       "      <td>NaN</td>\n",
       "    </tr>\n",
       "    <tr>\n",
       "      <th>1</th>\n",
       "      <td>2019-01-28</td>\n",
       "      <td>AA</td>\n",
       "      <td>AA</td>\n",
       "      <td>YV</td>\n",
       "      <td>10599</td>\n",
       "      <td>BHM</td>\n",
       "      <td>Birmingham, AL</td>\n",
       "      <td>11298</td>\n",
       "      <td>DFW</td>\n",
       "      <td>Dallas/Fort Worth, TX</td>\n",
       "      <td>1251</td>\n",
       "      <td>1256.0</td>\n",
       "      <td>5.0</td>\n",
       "      <td>19.0</td>\n",
       "      <td>1315.0</td>\n",
       "      <td>1448.0</td>\n",
       "      <td>14.0</td>\n",
       "      <td>1500</td>\n",
       "      <td>1502.0</td>\n",
       "      <td>2.0</td>\n",
       "      <td>N</td>\n",
       "      <td>129</td>\n",
       "      <td>126.0</td>\n",
       "      <td>93.0</td>\n",
       "      <td>597</td>\n",
       "      <td>NaN</td>\n",
       "      <td>NaN</td>\n",
       "      <td>NaN</td>\n",
       "      <td>NaN</td>\n",
       "      <td>NaN</td>\n",
       "    </tr>\n",
       "  </tbody>\n",
       "</table>\n",
       "</div>"
      ],
      "text/plain": [
       "      fl_date mkt_unique_carrier mkt_carrier op_unique_carrier  \\\n",
       "0  2019-08-17                 DL          DL                9E   \n",
       "1  2019-01-28                 AA          AA                YV   \n",
       "\n",
       "   origin_airport_id origin origin_city_name  dest_airport_id dest  \\\n",
       "0              13487    MSP  Minneapolis, MN            11986  GRR   \n",
       "1              10599    BHM   Birmingham, AL            11298  DFW   \n",
       "\n",
       "          dest_city_name  crs_dep_time  dep_time  dep_delay  taxi_out  \\\n",
       "0       Grand Rapids, MI           710     705.0       -5.0      18.0   \n",
       "1  Dallas/Fort Worth, TX          1251    1256.0        5.0      19.0   \n",
       "\n",
       "   wheels_off  wheels_on  taxi_in  crs_arr_time  arr_time  arr_delay dup  \\\n",
       "0       723.0      923.0      3.0           938     926.0      -12.0   N   \n",
       "1      1315.0     1448.0     14.0          1500    1502.0        2.0   N   \n",
       "\n",
       "   crs_elapsed_time  actual_elapsed_time  air_time  distance  carrier_delay  \\\n",
       "0                88                 81.0      60.0       408            NaN   \n",
       "1               129                126.0      93.0       597            NaN   \n",
       "\n",
       "   weather_delay  nas_delay  security_delay  late_aircraft_delay  \n",
       "0            NaN        NaN             NaN                  NaN  \n",
       "1            NaN        NaN             NaN                  NaN  "
      ]
     },
     "execution_count": 10,
     "metadata": {},
     "output_type": "execute_result"
    }
   ],
   "source": [
    "df.head(2)"
   ]
  },
  {
   "cell_type": "code",
   "execution_count": 11,
   "metadata": {},
   "outputs": [
    {
     "data": {
      "image/png": "[encoded data removed]",
      "text/plain": [
       "<Figure size 720x720 with 1 Axes>"
      ]
     },
     "metadata": {
      "needs_background": "light"
     },
     "output_type": "display_data"
    }
   ],
   "source": [
    "plt.figure(figsize=(10,10))\n",
    "plt.scatter(df['dep_delay'], df['arr_delay'], alpha = 0.4)\n",
    "plt.title('Departure Delay VS Arrival Delay')\n",
    "plt.xlabel('Departure Delay')\n",
    "plt.ylabel('Arrival Delay')\n",
    "\n",
    "plt.show()\n",
    "# this shows a strong correlation between dep_delay and arr_delay as expected"
   ]
  },
  {
   "cell_type": "markdown",
   "metadata": {},
   "source": [
    "#### **Task 1**: Test the hypothesis that the delay is from Normal distribution. and that **mean** of the delay is 0. Be careful about the outliers."
   ]
  },
  {
   "cell_type": "code",
   "execution_count": 12,
   "metadata": {},
   "outputs": [],
   "source": [
    "# checking for and dropping null values in arr_delay\n",
    "df[\"arr_delay\"].isnull().sum()\n",
    "df.dropna(subset = [\"arr_delay\"], inplace = True)"
   ]
  },
  {
   "cell_type": "code",
   "execution_count": 13,
   "metadata": {},
   "outputs": [],
   "source": [
    "arr_delay_zs = stats.zscore(df[\"arr_delay\"], nan_policy = 'omit')\n",
    "arr_delay_zs3 = arr_delay_zs < 3\n",
    "\n",
    "df['arr_delay_zs'] = df['arr_delay'][arr_delay_zs3]"
   ]
  },
  {
   "cell_type": "code",
   "execution_count": 14,
   "metadata": {},
   "outputs": [
    {
     "data": {
      "text/plain": [
       "0   -12.0\n",
       "1     2.0\n",
       "Name: arr_delay_zs, dtype: float64"
      ]
     },
     "execution_count": 14,
     "metadata": {},
     "output_type": "execute_result"
    }
   ],
   "source": [
    "df['arr_delay_zs'].head(2)"
   ]
  },
  {
   "cell_type": "code",
   "execution_count": 15,
   "metadata": {},
   "outputs": [
    {
     "data": {
      "text/plain": [
       "count    9647.000000\n",
       "mean        0.781383\n",
       "std        28.112275\n",
       "min       -64.000000\n",
       "25%       -15.000000\n",
       "50%        -6.000000\n",
       "75%         6.000000\n",
       "max       162.000000\n",
       "Name: arr_delay_zs, dtype: float64"
      ]
     },
     "execution_count": 15,
     "metadata": {},
     "output_type": "execute_result"
    }
   ],
   "source": [
    "df[\"arr_delay_zs\"].describe()"
   ]
  },
  {
   "cell_type": "code",
   "execution_count": 16,
   "metadata": {},
   "outputs": [
    {
     "data": {
      "image/png": "[encoded data removed]",
      "text/plain": [
       "<Figure size 432x288 with 1 Axes>"
      ]
     },
     "metadata": {
      "needs_background": "light"
     },
     "output_type": "display_data"
    }
   ],
   "source": [
    "histplot = sns.histplot(data = df[\"arr_delay_zs\"])"
   ]
  },
  {
   "cell_type": "code",
   "execution_count": 17,
   "metadata": {},
   "outputs": [
    {
     "data": {
      "text/plain": [
       "array([[-12.],\n",
       "       [  2.],\n",
       "       [ -6.],\n",
       "       ...,\n",
       "       [-18.],\n",
       "       [-21.],\n",
       "       [ -2.]])"
      ]
     },
     "execution_count": 17,
     "metadata": {},
     "output_type": "execute_result"
    }
   ],
   "source": [
    "delay_arr = df['arr_delay_zs'].fillna(0).to_numpy()\n",
    "\n",
    "# reshaping the data into an array to pass into Shapiro Test\n",
    "delay_arr.reshape(-1, 1)"
   ]
  },
  {
   "cell_type": "code",
   "execution_count": 18,
   "metadata": {},
   "outputs": [
    {
     "data": {
      "text/plain": [
       "ShapiroResult(statistic=0.7740926742553711, pvalue=0.0)"
      ]
     },
     "execution_count": 18,
     "metadata": {},
     "output_type": "execute_result"
    }
   ],
   "source": [
    "shapiro_test = stats.shapiro(delay_arr)\n",
    "shapiro_test"
   ]
  },
  {
   "cell_type": "code",
   "execution_count": 19,
   "metadata": {},
   "outputs": [],
   "source": [
    "# This was an attempt to remove 0's before log transformation by adding a constant slightly larger than the min value\n",
    "# in arr_delay\n",
    "\n",
    "#df[\"arr_delay\"].min()\n",
    "#df[\"arr_delay_const\"] = df[\"arr_delay\"] + 64.001"
   ]
  },
  {
   "cell_type": "code",
   "execution_count": 20,
   "metadata": {},
   "outputs": [],
   "source": [
    "# df[\"arr_delay_log\"] = df[\"arr_delay_zs\"].apply(np.log1p).fillna(0)"
   ]
  },
  {
   "cell_type": "code",
   "execution_count": 21,
   "metadata": {},
   "outputs": [],
   "source": [
    "# df[\"arr_delay_log\"].head()"
   ]
  },
  {
   "cell_type": "code",
   "execution_count": 22,
   "metadata": {},
   "outputs": [],
   "source": [
    "# Somehow getting Nan values in statistic here\n",
    "\n",
    "# shapiro_test = stats.shapiro(df['arr_delay_log'])\n",
    "# shapiro_test"
   ]
  },
  {
   "cell_type": "code",
   "execution_count": 23,
   "metadata": {},
   "outputs": [],
   "source": [
    "# histplot = sns.histplot(data = df[\"arr_delay_log\"])"
   ]
  },
  {
   "cell_type": "code",
   "execution_count": 24,
   "metadata": {},
   "outputs": [
    {
     "data": {
      "text/html": [
       "<div>\n",
       "<style scoped>\n",
       "    .dataframe tbody tr th:only-of-type {\n",
       "        vertical-align: middle;\n",
       "    }\n",
       "\n",
       "    .dataframe tbody tr th {\n",
       "        vertical-align: top;\n",
       "    }\n",
       "\n",
       "    .dataframe thead th {\n",
       "        text-align: right;\n",
       "    }\n",
       "</style>\n",
       "<table border=\"1\" class=\"dataframe\">\n",
       "  <thead>\n",
       "    <tr style=\"text-align: right;\">\n",
       "      <th></th>\n",
       "      <th>fl_date</th>\n",
       "      <th>mkt_unique_carrier</th>\n",
       "      <th>mkt_carrier</th>\n",
       "      <th>op_unique_carrier</th>\n",
       "      <th>origin_airport_id</th>\n",
       "      <th>origin</th>\n",
       "      <th>origin_city_name</th>\n",
       "      <th>dest_airport_id</th>\n",
       "      <th>dest</th>\n",
       "      <th>dest_city_name</th>\n",
       "      <th>crs_dep_time</th>\n",
       "      <th>dep_time</th>\n",
       "      <th>dep_delay</th>\n",
       "      <th>taxi_out</th>\n",
       "      <th>wheels_off</th>\n",
       "      <th>wheels_on</th>\n",
       "      <th>taxi_in</th>\n",
       "      <th>crs_arr_time</th>\n",
       "      <th>arr_time</th>\n",
       "      <th>arr_delay</th>\n",
       "      <th>dup</th>\n",
       "      <th>crs_elapsed_time</th>\n",
       "      <th>actual_elapsed_time</th>\n",
       "      <th>air_time</th>\n",
       "      <th>distance</th>\n",
       "      <th>carrier_delay</th>\n",
       "      <th>weather_delay</th>\n",
       "      <th>nas_delay</th>\n",
       "      <th>security_delay</th>\n",
       "      <th>late_aircraft_delay</th>\n",
       "      <th>arr_delay_zs</th>\n",
       "    </tr>\n",
       "  </thead>\n",
       "  <tbody>\n",
       "    <tr>\n",
       "      <th>0</th>\n",
       "      <td>2019-08-17</td>\n",
       "      <td>DL</td>\n",
       "      <td>DL</td>\n",
       "      <td>9E</td>\n",
       "      <td>13487</td>\n",
       "      <td>MSP</td>\n",
       "      <td>Minneapolis, MN</td>\n",
       "      <td>11986</td>\n",
       "      <td>GRR</td>\n",
       "      <td>Grand Rapids, MI</td>\n",
       "      <td>710</td>\n",
       "      <td>705.0</td>\n",
       "      <td>-5.0</td>\n",
       "      <td>18.0</td>\n",
       "      <td>723.0</td>\n",
       "      <td>923.0</td>\n",
       "      <td>3.0</td>\n",
       "      <td>938</td>\n",
       "      <td>926.0</td>\n",
       "      <td>-12.0</td>\n",
       "      <td>N</td>\n",
       "      <td>88</td>\n",
       "      <td>81.0</td>\n",
       "      <td>60.0</td>\n",
       "      <td>408</td>\n",
       "      <td>NaN</td>\n",
       "      <td>NaN</td>\n",
       "      <td>NaN</td>\n",
       "      <td>NaN</td>\n",
       "      <td>NaN</td>\n",
       "      <td>-12.0</td>\n",
       "    </tr>\n",
       "    <tr>\n",
       "      <th>1</th>\n",
       "      <td>2019-01-28</td>\n",
       "      <td>AA</td>\n",
       "      <td>AA</td>\n",
       "      <td>YV</td>\n",
       "      <td>10599</td>\n",
       "      <td>BHM</td>\n",
       "      <td>Birmingham, AL</td>\n",
       "      <td>11298</td>\n",
       "      <td>DFW</td>\n",
       "      <td>Dallas/Fort Worth, TX</td>\n",
       "      <td>1251</td>\n",
       "      <td>1256.0</td>\n",
       "      <td>5.0</td>\n",
       "      <td>19.0</td>\n",
       "      <td>1315.0</td>\n",
       "      <td>1448.0</td>\n",
       "      <td>14.0</td>\n",
       "      <td>1500</td>\n",
       "      <td>1502.0</td>\n",
       "      <td>2.0</td>\n",
       "      <td>N</td>\n",
       "      <td>129</td>\n",
       "      <td>126.0</td>\n",
       "      <td>93.0</td>\n",
       "      <td>597</td>\n",
       "      <td>NaN</td>\n",
       "      <td>NaN</td>\n",
       "      <td>NaN</td>\n",
       "      <td>NaN</td>\n",
       "      <td>NaN</td>\n",
       "      <td>2.0</td>\n",
       "    </tr>\n",
       "  </tbody>\n",
       "</table>\n",
       "</div>"
      ],
      "text/plain": [
       "      fl_date mkt_unique_carrier mkt_carrier op_unique_carrier  \\\n",
       "0  2019-08-17                 DL          DL                9E   \n",
       "1  2019-01-28                 AA          AA                YV   \n",
       "\n",
       "   origin_airport_id origin origin_city_name  dest_airport_id dest  \\\n",
       "0              13487    MSP  Minneapolis, MN            11986  GRR   \n",
       "1              10599    BHM   Birmingham, AL            11298  DFW   \n",
       "\n",
       "          dest_city_name  crs_dep_time  dep_time  dep_delay  taxi_out  \\\n",
       "0       Grand Rapids, MI           710     705.0       -5.0      18.0   \n",
       "1  Dallas/Fort Worth, TX          1251    1256.0        5.0      19.0   \n",
       "\n",
       "   wheels_off  wheels_on  taxi_in  crs_arr_time  arr_time  arr_delay dup  \\\n",
       "0       723.0      923.0      3.0           938     926.0      -12.0   N   \n",
       "1      1315.0     1448.0     14.0          1500    1502.0        2.0   N   \n",
       "\n",
       "   crs_elapsed_time  actual_elapsed_time  air_time  distance  carrier_delay  \\\n",
       "0                88                 81.0      60.0       408            NaN   \n",
       "1               129                126.0      93.0       597            NaN   \n",
       "\n",
       "   weather_delay  nas_delay  security_delay  late_aircraft_delay  arr_delay_zs  \n",
       "0            NaN        NaN             NaN                  NaN         -12.0  \n",
       "1            NaN        NaN             NaN                  NaN           2.0  "
      ]
     },
     "execution_count": 24,
     "metadata": {},
     "output_type": "execute_result"
    }
   ],
   "source": [
    "df.head(2)"
   ]
  },
  {
   "cell_type": "markdown",
   "metadata": {},
   "source": [
    "#### **Task 2**: Is average/median monthly delay different during the year? If yes, which are months with the biggest delays and what could be the reason?"
   ]
  },
  {
   "cell_type": "code",
   "execution_count": 25,
   "metadata": {},
   "outputs": [],
   "source": [
    "# splitting the date on the hyphen to easily access the month\n",
    "spl_date = [date.split('-')[1] for date in df['fl_date']]"
   ]
  },
  {
   "cell_type": "code",
   "execution_count": 26,
   "metadata": {},
   "outputs": [
    {
     "data": {
      "text/html": [
       "<div>\n",
       "<style scoped>\n",
       "    .dataframe tbody tr th:only-of-type {\n",
       "        vertical-align: middle;\n",
       "    }\n",
       "\n",
       "    .dataframe tbody tr th {\n",
       "        vertical-align: top;\n",
       "    }\n",
       "\n",
       "    .dataframe thead th {\n",
       "        text-align: right;\n",
       "    }\n",
       "</style>\n",
       "<table border=\"1\" class=\"dataframe\">\n",
       "  <thead>\n",
       "    <tr style=\"text-align: right;\">\n",
       "      <th></th>\n",
       "      <th>fl_date</th>\n",
       "      <th>mkt_unique_carrier</th>\n",
       "      <th>mkt_carrier</th>\n",
       "      <th>op_unique_carrier</th>\n",
       "      <th>origin_airport_id</th>\n",
       "      <th>origin</th>\n",
       "      <th>origin_city_name</th>\n",
       "      <th>dest_airport_id</th>\n",
       "      <th>dest</th>\n",
       "      <th>dest_city_name</th>\n",
       "      <th>crs_dep_time</th>\n",
       "      <th>dep_time</th>\n",
       "      <th>dep_delay</th>\n",
       "      <th>taxi_out</th>\n",
       "      <th>wheels_off</th>\n",
       "      <th>wheels_on</th>\n",
       "      <th>taxi_in</th>\n",
       "      <th>crs_arr_time</th>\n",
       "      <th>arr_time</th>\n",
       "      <th>arr_delay</th>\n",
       "      <th>dup</th>\n",
       "      <th>crs_elapsed_time</th>\n",
       "      <th>actual_elapsed_time</th>\n",
       "      <th>air_time</th>\n",
       "      <th>distance</th>\n",
       "      <th>carrier_delay</th>\n",
       "      <th>weather_delay</th>\n",
       "      <th>nas_delay</th>\n",
       "      <th>security_delay</th>\n",
       "      <th>late_aircraft_delay</th>\n",
       "      <th>arr_delay_zs</th>\n",
       "      <th>months</th>\n",
       "    </tr>\n",
       "  </thead>\n",
       "  <tbody>\n",
       "    <tr>\n",
       "      <th>0</th>\n",
       "      <td>2019-08-17</td>\n",
       "      <td>DL</td>\n",
       "      <td>DL</td>\n",
       "      <td>9E</td>\n",
       "      <td>13487</td>\n",
       "      <td>MSP</td>\n",
       "      <td>Minneapolis, MN</td>\n",
       "      <td>11986</td>\n",
       "      <td>GRR</td>\n",
       "      <td>Grand Rapids, MI</td>\n",
       "      <td>710</td>\n",
       "      <td>705.0</td>\n",
       "      <td>-5.0</td>\n",
       "      <td>18.0</td>\n",
       "      <td>723.0</td>\n",
       "      <td>923.0</td>\n",
       "      <td>3.0</td>\n",
       "      <td>938</td>\n",
       "      <td>926.0</td>\n",
       "      <td>-12.0</td>\n",
       "      <td>N</td>\n",
       "      <td>88</td>\n",
       "      <td>81.0</td>\n",
       "      <td>60.0</td>\n",
       "      <td>408</td>\n",
       "      <td>NaN</td>\n",
       "      <td>NaN</td>\n",
       "      <td>NaN</td>\n",
       "      <td>NaN</td>\n",
       "      <td>NaN</td>\n",
       "      <td>-12.0</td>\n",
       "      <td>08</td>\n",
       "    </tr>\n",
       "    <tr>\n",
       "      <th>1</th>\n",
       "      <td>2019-01-28</td>\n",
       "      <td>AA</td>\n",
       "      <td>AA</td>\n",
       "      <td>YV</td>\n",
       "      <td>10599</td>\n",
       "      <td>BHM</td>\n",
       "      <td>Birmingham, AL</td>\n",
       "      <td>11298</td>\n",
       "      <td>DFW</td>\n",
       "      <td>Dallas/Fort Worth, TX</td>\n",
       "      <td>1251</td>\n",
       "      <td>1256.0</td>\n",
       "      <td>5.0</td>\n",
       "      <td>19.0</td>\n",
       "      <td>1315.0</td>\n",
       "      <td>1448.0</td>\n",
       "      <td>14.0</td>\n",
       "      <td>1500</td>\n",
       "      <td>1502.0</td>\n",
       "      <td>2.0</td>\n",
       "      <td>N</td>\n",
       "      <td>129</td>\n",
       "      <td>126.0</td>\n",
       "      <td>93.0</td>\n",
       "      <td>597</td>\n",
       "      <td>NaN</td>\n",
       "      <td>NaN</td>\n",
       "      <td>NaN</td>\n",
       "      <td>NaN</td>\n",
       "      <td>NaN</td>\n",
       "      <td>2.0</td>\n",
       "      <td>01</td>\n",
       "    </tr>\n",
       "  </tbody>\n",
       "</table>\n",
       "</div>"
      ],
      "text/plain": [
       "      fl_date mkt_unique_carrier mkt_carrier op_unique_carrier  \\\n",
       "0  2019-08-17                 DL          DL                9E   \n",
       "1  2019-01-28                 AA          AA                YV   \n",
       "\n",
       "   origin_airport_id origin origin_city_name  dest_airport_id dest  \\\n",
       "0              13487    MSP  Minneapolis, MN            11986  GRR   \n",
       "1              10599    BHM   Birmingham, AL            11298  DFW   \n",
       "\n",
       "          dest_city_name  crs_dep_time  dep_time  dep_delay  taxi_out  \\\n",
       "0       Grand Rapids, MI           710     705.0       -5.0      18.0   \n",
       "1  Dallas/Fort Worth, TX          1251    1256.0        5.0      19.0   \n",
       "\n",
       "   wheels_off  wheels_on  taxi_in  crs_arr_time  arr_time  arr_delay dup  \\\n",
       "0       723.0      923.0      3.0           938     926.0      -12.0   N   \n",
       "1      1315.0     1448.0     14.0          1500    1502.0        2.0   N   \n",
       "\n",
       "   crs_elapsed_time  actual_elapsed_time  air_time  distance  carrier_delay  \\\n",
       "0                88                 81.0      60.0       408            NaN   \n",
       "1               129                126.0      93.0       597            NaN   \n",
       "\n",
       "   weather_delay  nas_delay  security_delay  late_aircraft_delay  \\\n",
       "0            NaN        NaN             NaN                  NaN   \n",
       "1            NaN        NaN             NaN                  NaN   \n",
       "\n",
       "   arr_delay_zs months  \n",
       "0         -12.0     08  \n",
       "1           2.0     01  "
      ]
     },
     "execution_count": 26,
     "metadata": {},
     "output_type": "execute_result"
    }
   ],
   "source": [
    "df['months'] = spl_date\n",
    "df.head(2)"
   ]
  },
  {
   "cell_type": "code",
   "execution_count": 27,
   "metadata": {},
   "outputs": [
    {
     "data": {
      "text/html": [
       "<div>\n",
       "<style scoped>\n",
       "    .dataframe tbody tr th:only-of-type {\n",
       "        vertical-align: middle;\n",
       "    }\n",
       "\n",
       "    .dataframe tbody tr th {\n",
       "        vertical-align: top;\n",
       "    }\n",
       "\n",
       "    .dataframe thead th {\n",
       "        text-align: right;\n",
       "    }\n",
       "</style>\n",
       "<table border=\"1\" class=\"dataframe\">\n",
       "  <thead>\n",
       "    <tr style=\"text-align: right;\">\n",
       "      <th></th>\n",
       "      <th>fl_date</th>\n",
       "      <th>months</th>\n",
       "      <th>mkt_unique_carrier</th>\n",
       "      <th>mkt_carrier</th>\n",
       "      <th>op_unique_carrier</th>\n",
       "      <th>origin_airport_id</th>\n",
       "      <th>origin</th>\n",
       "      <th>origin_city_name</th>\n",
       "      <th>dest_airport_id</th>\n",
       "      <th>dest</th>\n",
       "      <th>dest_city_name</th>\n",
       "      <th>crs_dep_time</th>\n",
       "      <th>dep_time</th>\n",
       "      <th>dep_delay</th>\n",
       "      <th>taxi_out</th>\n",
       "      <th>wheels_off</th>\n",
       "      <th>wheels_on</th>\n",
       "      <th>taxi_in</th>\n",
       "      <th>crs_arr_time</th>\n",
       "      <th>arr_time</th>\n",
       "      <th>arr_delay</th>\n",
       "      <th>dup</th>\n",
       "      <th>crs_elapsed_time</th>\n",
       "      <th>actual_elapsed_time</th>\n",
       "      <th>air_time</th>\n",
       "      <th>distance</th>\n",
       "      <th>carrier_delay</th>\n",
       "      <th>weather_delay</th>\n",
       "      <th>nas_delay</th>\n",
       "      <th>security_delay</th>\n",
       "      <th>late_aircraft_delay</th>\n",
       "      <th>arr_delay_zs</th>\n",
       "    </tr>\n",
       "  </thead>\n",
       "  <tbody>\n",
       "    <tr>\n",
       "      <th>0</th>\n",
       "      <td>2019-08-17</td>\n",
       "      <td>08</td>\n",
       "      <td>DL</td>\n",
       "      <td>DL</td>\n",
       "      <td>9E</td>\n",
       "      <td>13487</td>\n",
       "      <td>MSP</td>\n",
       "      <td>Minneapolis, MN</td>\n",
       "      <td>11986</td>\n",
       "      <td>GRR</td>\n",
       "      <td>Grand Rapids, MI</td>\n",
       "      <td>710</td>\n",
       "      <td>705.0</td>\n",
       "      <td>-5.0</td>\n",
       "      <td>18.0</td>\n",
       "      <td>723.0</td>\n",
       "      <td>923.0</td>\n",
       "      <td>3.0</td>\n",
       "      <td>938</td>\n",
       "      <td>926.0</td>\n",
       "      <td>-12.0</td>\n",
       "      <td>N</td>\n",
       "      <td>88</td>\n",
       "      <td>81.0</td>\n",
       "      <td>60.0</td>\n",
       "      <td>408</td>\n",
       "      <td>NaN</td>\n",
       "      <td>NaN</td>\n",
       "      <td>NaN</td>\n",
       "      <td>NaN</td>\n",
       "      <td>NaN</td>\n",
       "      <td>-12.0</td>\n",
       "    </tr>\n",
       "    <tr>\n",
       "      <th>1</th>\n",
       "      <td>2019-01-28</td>\n",
       "      <td>01</td>\n",
       "      <td>AA</td>\n",
       "      <td>AA</td>\n",
       "      <td>YV</td>\n",
       "      <td>10599</td>\n",
       "      <td>BHM</td>\n",
       "      <td>Birmingham, AL</td>\n",
       "      <td>11298</td>\n",
       "      <td>DFW</td>\n",
       "      <td>Dallas/Fort Worth, TX</td>\n",
       "      <td>1251</td>\n",
       "      <td>1256.0</td>\n",
       "      <td>5.0</td>\n",
       "      <td>19.0</td>\n",
       "      <td>1315.0</td>\n",
       "      <td>1448.0</td>\n",
       "      <td>14.0</td>\n",
       "      <td>1500</td>\n",
       "      <td>1502.0</td>\n",
       "      <td>2.0</td>\n",
       "      <td>N</td>\n",
       "      <td>129</td>\n",
       "      <td>126.0</td>\n",
       "      <td>93.0</td>\n",
       "      <td>597</td>\n",
       "      <td>NaN</td>\n",
       "      <td>NaN</td>\n",
       "      <td>NaN</td>\n",
       "      <td>NaN</td>\n",
       "      <td>NaN</td>\n",
       "      <td>2.0</td>\n",
       "    </tr>\n",
       "  </tbody>\n",
       "</table>\n",
       "</div>"
      ],
      "text/plain": [
       "      fl_date months mkt_unique_carrier mkt_carrier op_unique_carrier  \\\n",
       "0  2019-08-17     08                 DL          DL                9E   \n",
       "1  2019-01-28     01                 AA          AA                YV   \n",
       "\n",
       "   origin_airport_id origin origin_city_name  dest_airport_id dest  \\\n",
       "0              13487    MSP  Minneapolis, MN            11986  GRR   \n",
       "1              10599    BHM   Birmingham, AL            11298  DFW   \n",
       "\n",
       "          dest_city_name  crs_dep_time  dep_time  dep_delay  taxi_out  \\\n",
       "0       Grand Rapids, MI           710     705.0       -5.0      18.0   \n",
       "1  Dallas/Fort Worth, TX          1251    1256.0        5.0      19.0   \n",
       "\n",
       "   wheels_off  wheels_on  taxi_in  crs_arr_time  arr_time  arr_delay dup  \\\n",
       "0       723.0      923.0      3.0           938     926.0      -12.0   N   \n",
       "1      1315.0     1448.0     14.0          1500    1502.0        2.0   N   \n",
       "\n",
       "   crs_elapsed_time  actual_elapsed_time  air_time  distance  carrier_delay  \\\n",
       "0                88                 81.0      60.0       408            NaN   \n",
       "1               129                126.0      93.0       597            NaN   \n",
       "\n",
       "   weather_delay  nas_delay  security_delay  late_aircraft_delay  arr_delay_zs  \n",
       "0            NaN        NaN             NaN                  NaN         -12.0  \n",
       "1            NaN        NaN             NaN                  NaN           2.0  "
      ]
     },
     "execution_count": 27,
     "metadata": {},
     "output_type": "execute_result"
    }
   ],
   "source": [
    "# Reordering the DF by saving the columns and then adding them after the months column\n",
    "\n",
    "cols = list(df.columns)\n",
    "cols.pop(cols.index('fl_date'))\n",
    "cols.pop(cols.index('months'))\n",
    "df = df[['fl_date','months'] + cols]\n",
    "df.head(2)"
   ]
  },
  {
   "cell_type": "code",
   "execution_count": 28,
   "metadata": {},
   "outputs": [],
   "source": [
    "# Changing months dtype to int so that we can perform numerical operations on the values\n",
    "df['months'] = df['months'].astype(int)"
   ]
  },
  {
   "cell_type": "code",
   "execution_count": 29,
   "metadata": {},
   "outputs": [
    {
     "data": {
      "text/html": [
       "<div>\n",
       "<style scoped>\n",
       "    .dataframe tbody tr th:only-of-type {\n",
       "        vertical-align: middle;\n",
       "    }\n",
       "\n",
       "    .dataframe tbody tr th {\n",
       "        vertical-align: top;\n",
       "    }\n",
       "\n",
       "    .dataframe thead th {\n",
       "        text-align: right;\n",
       "    }\n",
       "</style>\n",
       "<table border=\"1\" class=\"dataframe\">\n",
       "  <thead>\n",
       "    <tr style=\"text-align: right;\">\n",
       "      <th></th>\n",
       "      <th>arr_delay</th>\n",
       "    </tr>\n",
       "    <tr>\n",
       "      <th>months</th>\n",
       "      <th></th>\n",
       "    </tr>\n",
       "  </thead>\n",
       "  <tbody>\n",
       "    <tr>\n",
       "      <th>1</th>\n",
       "      <td>4.556291</td>\n",
       "    </tr>\n",
       "    <tr>\n",
       "      <th>2</th>\n",
       "      <td>5.853916</td>\n",
       "    </tr>\n",
       "    <tr>\n",
       "      <th>3</th>\n",
       "      <td>3.261682</td>\n",
       "    </tr>\n",
       "    <tr>\n",
       "      <th>4</th>\n",
       "      <td>4.428212</td>\n",
       "    </tr>\n",
       "    <tr>\n",
       "      <th>5</th>\n",
       "      <td>4.883162</td>\n",
       "    </tr>\n",
       "    <tr>\n",
       "      <th>6</th>\n",
       "      <td>10.671429</td>\n",
       "    </tr>\n",
       "    <tr>\n",
       "      <th>7</th>\n",
       "      <td>9.182333</td>\n",
       "    </tr>\n",
       "    <tr>\n",
       "      <th>8</th>\n",
       "      <td>9.321143</td>\n",
       "    </tr>\n",
       "    <tr>\n",
       "      <th>9</th>\n",
       "      <td>3.279040</td>\n",
       "    </tr>\n",
       "    <tr>\n",
       "      <th>10</th>\n",
       "      <td>4.603912</td>\n",
       "    </tr>\n",
       "    <tr>\n",
       "      <th>11</th>\n",
       "      <td>-0.769039</td>\n",
       "    </tr>\n",
       "    <tr>\n",
       "      <th>12</th>\n",
       "      <td>4.906949</td>\n",
       "    </tr>\n",
       "  </tbody>\n",
       "</table>\n",
       "</div>"
      ],
      "text/plain": [
       "        arr_delay\n",
       "months           \n",
       "1        4.556291\n",
       "2        5.853916\n",
       "3        3.261682\n",
       "4        4.428212\n",
       "5        4.883162\n",
       "6       10.671429\n",
       "7        9.182333\n",
       "8        9.321143\n",
       "9        3.279040\n",
       "10       4.603912\n",
       "11      -0.769039\n",
       "12       4.906949"
      ]
     },
     "execution_count": 29,
     "metadata": {},
     "output_type": "execute_result"
    }
   ],
   "source": [
    "df.groupby(by = 'months').mean()[['arr_delay']]"
   ]
  },
  {
   "cell_type": "code",
   "execution_count": 30,
   "metadata": {},
   "outputs": [
    {
     "data": {
      "image/png": "[encoded data removed]",
      "text/plain": [
       "<Figure size 432x288 with 1 Axes>"
      ]
     },
     "metadata": {
      "needs_background": "light"
     },
     "output_type": "display_data"
    }
   ],
   "source": [
    "month_vs_delay = sns.barplot(x = df['months'], y = df['arr_delay'], ci = None)"
   ]
  },
  {
   "cell_type": "markdown",
   "metadata": {},
   "source": [
    "#### **Task 3**: Does the weather affect the delay? \n",
    "Use the API to pull the weather information for flights. There is no need to get weather for ALL flights. We can choose the right representative sample. Let's focus on four weather types:\n",
    "- sunny\n",
    "- cloudy\n",
    "- rainy\n",
    "- snow.\n",
    "Test the hypothesis that these 4 delays are from the same distribution. If they are not, which ones are significantly different?"
   ]
  },
  {
   "cell_type": "code",
   "execution_count": null,
   "metadata": {},
   "outputs": [],
   "source": []
  },
  {
   "cell_type": "code",
   "execution_count": null,
   "metadata": {},
   "outputs": [],
   "source": []
  },
  {
   "cell_type": "markdown",
   "metadata": {},
   "source": [
    "#### **Task 4**: How taxi times changing during the day? Does higher traffic lead to bigger taxi times?"
   ]
  },
  {
   "cell_type": "code",
   "execution_count": 31,
   "metadata": {},
   "outputs": [],
   "source": [
    "# getting zscore for taxi times to use for outlier omission\n",
    "taxi_zs = stats.zscore(df[\"taxi_out\"], nan_policy = 'omit')"
   ]
  },
  {
   "cell_type": "code",
   "execution_count": 32,
   "metadata": {},
   "outputs": [],
   "source": [
    "# assigning a variable to booleans where taxi_zs is less than 3\n",
    "taxi_zs_3 = taxi_zs < 3"
   ]
  },
  {
   "cell_type": "code",
   "execution_count": 33,
   "metadata": {},
   "outputs": [
    {
     "data": {
      "text/plain": [
       "(9800, 33)"
      ]
     },
     "execution_count": 33,
     "metadata": {},
     "output_type": "execute_result"
    }
   ],
   "source": [
    "df['taxi_out_zs'] = df['taxi_out'][taxi_zs_3]\n",
    "df.shape"
   ]
  },
  {
   "cell_type": "code",
   "execution_count": 34,
   "metadata": {},
   "outputs": [
    {
     "data": {
      "image/png": "[encoded data removed]",
      "text/plain": [
       "<Figure size 432x288 with 1 Axes>"
      ]
     },
     "metadata": {
      "needs_background": "light"
     },
     "output_type": "display_data"
    }
   ],
   "source": [
    "taxi_graph = sns.scatterplot(x = df['dep_time'], y = df['taxi_out_zs'])\n",
    "\n",
    "#consider binning times here\n",
    "#consider 2d distribution maps"
   ]
  },
  {
   "cell_type": "code",
   "execution_count": null,
   "metadata": {},
   "outputs": [],
   "source": []
  },
  {
   "cell_type": "markdown",
   "metadata": {},
   "source": [
    "#### **Task 5**: What is the average percentage of delays that is already created before departure? (aka are arrival delays caused by departure delays?) Are airlines able to lower the delay during the flights?"
   ]
  },
  {
   "cell_type": "code",
   "execution_count": 35,
   "metadata": {},
   "outputs": [
    {
     "data": {
      "text/plain": [
       "(2430, 3398)"
      ]
     },
     "execution_count": 35,
     "metadata": {},
     "output_type": "execute_result"
    }
   ],
   "source": [
    "# assuming that the question here is asking for proportion of delays caused by depratrue delays\n",
    "\n",
    "df.head()\n",
    "# we want to see proportion of dep_delay > 0 resulting in arr_delay > 0\n",
    "df_delarr = df.loc[(df['dep_delay'] > 0) & (df['arr_delay'] > 0)]\n",
    "df_delarr = df_delarr[['dep_delay', 'arr_delay']]\n",
    "len(df_delarr),len(df.loc[df['arr_delay'] > 0])"
   ]
  },
  {
   "cell_type": "code",
   "execution_count": 36,
   "metadata": {},
   "outputs": [],
   "source": [
    "# avg percentage of delays  = (2277/3245) * 100\n"
   ]
  },
  {
   "cell_type": "markdown",
   "metadata": {
    "tags": []
   },
   "source": [
    "#### **Task 6**: How many states cover 50% of US air traffic? "
   ]
  },
  {
   "cell_type": "code",
   "execution_count": 37,
   "metadata": {},
   "outputs": [
    {
     "data": {
      "text/html": [
       "<div>\n",
       "<style scoped>\n",
       "    .dataframe tbody tr th:only-of-type {\n",
       "        vertical-align: middle;\n",
       "    }\n",
       "\n",
       "    .dataframe tbody tr th {\n",
       "        vertical-align: top;\n",
       "    }\n",
       "\n",
       "    .dataframe thead th {\n",
       "        text-align: right;\n",
       "    }\n",
       "</style>\n",
       "<table border=\"1\" class=\"dataframe\">\n",
       "  <thead>\n",
       "    <tr style=\"text-align: right;\">\n",
       "      <th></th>\n",
       "      <th>fl_date</th>\n",
       "      <th>months</th>\n",
       "      <th>mkt_unique_carrier</th>\n",
       "      <th>mkt_carrier</th>\n",
       "      <th>op_unique_carrier</th>\n",
       "      <th>origin_airport_id</th>\n",
       "      <th>origin</th>\n",
       "      <th>origin_city_name</th>\n",
       "      <th>dest_airport_id</th>\n",
       "      <th>dest</th>\n",
       "      <th>dest_city_name</th>\n",
       "      <th>crs_dep_time</th>\n",
       "      <th>dep_time</th>\n",
       "      <th>dep_delay</th>\n",
       "      <th>taxi_out</th>\n",
       "      <th>wheels_off</th>\n",
       "      <th>wheels_on</th>\n",
       "      <th>taxi_in</th>\n",
       "      <th>crs_arr_time</th>\n",
       "      <th>arr_time</th>\n",
       "      <th>arr_delay</th>\n",
       "      <th>dup</th>\n",
       "      <th>crs_elapsed_time</th>\n",
       "      <th>actual_elapsed_time</th>\n",
       "      <th>air_time</th>\n",
       "      <th>distance</th>\n",
       "      <th>carrier_delay</th>\n",
       "      <th>weather_delay</th>\n",
       "      <th>nas_delay</th>\n",
       "      <th>security_delay</th>\n",
       "      <th>late_aircraft_delay</th>\n",
       "      <th>arr_delay_zs</th>\n",
       "      <th>taxi_out_zs</th>\n",
       "    </tr>\n",
       "  </thead>\n",
       "  <tbody>\n",
       "    <tr>\n",
       "      <th>0</th>\n",
       "      <td>2019-08-17</td>\n",
       "      <td>8</td>\n",
       "      <td>DL</td>\n",
       "      <td>DL</td>\n",
       "      <td>9E</td>\n",
       "      <td>13487</td>\n",
       "      <td>MSP</td>\n",
       "      <td>Minneapolis, MN</td>\n",
       "      <td>11986</td>\n",
       "      <td>GRR</td>\n",
       "      <td>Grand Rapids, MI</td>\n",
       "      <td>710</td>\n",
       "      <td>705.0</td>\n",
       "      <td>-5.0</td>\n",
       "      <td>18.0</td>\n",
       "      <td>723.0</td>\n",
       "      <td>923.0</td>\n",
       "      <td>3.0</td>\n",
       "      <td>938</td>\n",
       "      <td>926.0</td>\n",
       "      <td>-12.0</td>\n",
       "      <td>N</td>\n",
       "      <td>88</td>\n",
       "      <td>81.0</td>\n",
       "      <td>60.0</td>\n",
       "      <td>408</td>\n",
       "      <td>NaN</td>\n",
       "      <td>NaN</td>\n",
       "      <td>NaN</td>\n",
       "      <td>NaN</td>\n",
       "      <td>NaN</td>\n",
       "      <td>-12.0</td>\n",
       "      <td>18.0</td>\n",
       "    </tr>\n",
       "    <tr>\n",
       "      <th>1</th>\n",
       "      <td>2019-01-28</td>\n",
       "      <td>1</td>\n",
       "      <td>AA</td>\n",
       "      <td>AA</td>\n",
       "      <td>YV</td>\n",
       "      <td>10599</td>\n",
       "      <td>BHM</td>\n",
       "      <td>Birmingham, AL</td>\n",
       "      <td>11298</td>\n",
       "      <td>DFW</td>\n",
       "      <td>Dallas/Fort Worth, TX</td>\n",
       "      <td>1251</td>\n",
       "      <td>1256.0</td>\n",
       "      <td>5.0</td>\n",
       "      <td>19.0</td>\n",
       "      <td>1315.0</td>\n",
       "      <td>1448.0</td>\n",
       "      <td>14.0</td>\n",
       "      <td>1500</td>\n",
       "      <td>1502.0</td>\n",
       "      <td>2.0</td>\n",
       "      <td>N</td>\n",
       "      <td>129</td>\n",
       "      <td>126.0</td>\n",
       "      <td>93.0</td>\n",
       "      <td>597</td>\n",
       "      <td>NaN</td>\n",
       "      <td>NaN</td>\n",
       "      <td>NaN</td>\n",
       "      <td>NaN</td>\n",
       "      <td>NaN</td>\n",
       "      <td>2.0</td>\n",
       "      <td>19.0</td>\n",
       "    </tr>\n",
       "  </tbody>\n",
       "</table>\n",
       "</div>"
      ],
      "text/plain": [
       "      fl_date  months mkt_unique_carrier mkt_carrier op_unique_carrier  \\\n",
       "0  2019-08-17       8                 DL          DL                9E   \n",
       "1  2019-01-28       1                 AA          AA                YV   \n",
       "\n",
       "   origin_airport_id origin origin_city_name  dest_airport_id dest  \\\n",
       "0              13487    MSP  Minneapolis, MN            11986  GRR   \n",
       "1              10599    BHM   Birmingham, AL            11298  DFW   \n",
       "\n",
       "          dest_city_name  crs_dep_time  dep_time  dep_delay  taxi_out  \\\n",
       "0       Grand Rapids, MI           710     705.0       -5.0      18.0   \n",
       "1  Dallas/Fort Worth, TX          1251    1256.0        5.0      19.0   \n",
       "\n",
       "   wheels_off  wheels_on  taxi_in  crs_arr_time  arr_time  arr_delay dup  \\\n",
       "0       723.0      923.0      3.0           938     926.0      -12.0   N   \n",
       "1      1315.0     1448.0     14.0          1500    1502.0        2.0   N   \n",
       "\n",
       "   crs_elapsed_time  actual_elapsed_time  air_time  distance  carrier_delay  \\\n",
       "0                88                 81.0      60.0       408            NaN   \n",
       "1               129                126.0      93.0       597            NaN   \n",
       "\n",
       "   weather_delay  nas_delay  security_delay  late_aircraft_delay  \\\n",
       "0            NaN        NaN             NaN                  NaN   \n",
       "1            NaN        NaN             NaN                  NaN   \n",
       "\n",
       "   arr_delay_zs  taxi_out_zs  \n",
       "0         -12.0         18.0  \n",
       "1           2.0         19.0  "
      ]
     },
     "execution_count": 37,
     "metadata": {},
     "output_type": "execute_result"
    }
   ],
   "source": [
    "df.head(2)"
   ]
  },
  {
   "cell_type": "code",
   "execution_count": 38,
   "metadata": {},
   "outputs": [],
   "source": [
    "#ploot = sns.scatterplot(x = df[\"dep_delay\"], y = )"
   ]
  },
  {
   "cell_type": "markdown",
   "metadata": {},
   "source": [
    "#### **Task 7**: Test the hypothesis whether planes fly faster when there is the departure delay? "
   ]
  },
  {
   "cell_type": "code",
   "execution_count": 39,
   "metadata": {},
   "outputs": [],
   "source": [
    "#df[\"dep_delay\"] = df[\"dep_delay\"][(np.abs(stats.zscore(df[\"dep_delay\"])) < 3)]\n",
    "\n",
    "df['speed'] = df['distance'] / df['air_time']\n",
    "\n",
    "#ztest ,pval = stests.ztest(df['bp_before'], x2=None, value=156)\n",
    "#print(float(pval))\n",
    "#if pval<0.05:\n",
    "#    print(\"reject null hypothesis\")\n",
    "#else:\n",
    "#    print(\"accept null hypothesis\")"
   ]
  },
  {
   "cell_type": "code",
   "execution_count": 40,
   "metadata": {},
   "outputs": [],
   "source": [
    "#df_w_delay = df.loc[(df['dep_delay'] > 0)]\n",
    "#df_w_delay = df_w_delay[['dep_delay', 'speed']]\n",
    "\n",
    "#df_no_delay = df.loc[(df['dep_delay'] <= 0)]\n",
    "#df_no_delay = df_no_delay[['dep_delay', 'speed']]"
   ]
  },
  {
   "cell_type": "code",
   "execution_count": 41,
   "metadata": {
    "tags": []
   },
   "outputs": [],
   "source": [
    "#fig, ax = plt.subplots(figsize=(8, 8))\n",
    "\n",
    "# add the plots for each dataframe\n",
    "#sns.regplot(y='dep_delay', x='speed', data=df_w_delay, fit_reg=True, ci=None, ax=ax, label='Speed with delay')\n",
    "#sns.regplot(y='dep_delay', x='speed', data=df_no_delay, fit_reg=True, ci=None, ax=ax, label='Speed without delay')\n",
    "#ax.set(xlabel='Speed', ylabel='Departure Delay')\n",
    "#ax.legend()\n",
    "#plt.show()"
   ]
  },
  {
   "cell_type": "markdown",
   "metadata": {},
   "source": [
    "#### **Task 8**: When (which hour) do most 'LONG', 'SHORT', 'MEDIUM' haul flights take off?"
   ]
  },
  {
   "cell_type": "code",
   "execution_count": null,
   "metadata": {},
   "outputs": [],
   "source": []
  },
  {
   "cell_type": "code",
   "execution_count": 42,
   "metadata": {},
   "outputs": [
    {
     "data": {
      "image/png": "[encoded data removed]",
      "text/plain": [
       "<Figure size 432x288 with 1 Axes>"
      ]
     },
     "metadata": {
      "needs_background": "light"
     },
     "output_type": "display_data"
    }
   ],
   "source": [
    "# we want to bin the data based on air_time feature\n",
    "# i will take 0-3 hours to be SHORT, 3-6 hours to be MEDIUM and 6+ hours to be long\n",
    "\n",
    "bins = [0, 180, 360, np.inf]\n",
    "labels = ['SHORT', 'MEDIUM', 'LONG']\n",
    "df['time_bins'] = pd.cut(df['air_time'], bins=bins, labels=labels)\n",
    "#df.head()\n",
    "#df['time_bins']\n",
    "plot = sns.scatterplot(data = df, x = 'air_time', y = 'dep_time', hue = df['time_bins'], ci = None)"
   ]
  },
  {
   "cell_type": "code",
   "execution_count": null,
   "metadata": {},
   "outputs": [],
   "source": []
  },
  {
   "cell_type": "markdown",
   "metadata": {},
   "source": [
    "#### **Task 9**: Find the top 10 the bussiest airports. Does the biggest number of flights mean that the biggest number of passengers went through the particular airport? How much traffic do these 10 airports cover?"
   ]
  },
  {
   "cell_type": "code",
   "execution_count": null,
   "metadata": {},
   "outputs": [],
   "source": []
  },
  {
   "cell_type": "code",
   "execution_count": null,
   "metadata": {},
   "outputs": [],
   "source": []
  },
  {
   "cell_type": "markdown",
   "metadata": {},
   "source": [
    "#### **Task 10**: Do bigger delays lead to bigger fuel comsumption per passenger? \n",
    "We need to do four things to answer this as accurate as possible:\n",
    "- Find out average monthly delay per air carrier (monthly delay is sum of all delays in 1 month)\n",
    "- Find out distance covered monthly by different air carriers\n",
    "- Find out number of passengers that were carried by different air carriers\n",
    "- Find out total fuel comsumption per air carrier.\n",
    "\n",
    "Use this information to get the average fuel comsumption per passenger per km. Is this higher for the airlines with bigger average delays?"
   ]
  },
  {
   "cell_type": "code",
   "execution_count": null,
   "metadata": {},
   "outputs": [],
   "source": []
  },
  {
   "cell_type": "code",
   "execution_count": null,
   "metadata": {},
   "outputs": [],
   "source": []
  },
  {
   "cell_type": "code",
   "execution_count": 43,
   "metadata": {},
   "outputs": [
    {
     "data": {
      "text/plain": [
       "11"
      ]
     },
     "execution_count": 43,
     "metadata": {},
     "output_type": "execute_result"
    }
   ],
   "source": [
    "df['mkt_unique_carrier'].nunique()"
   ]
  },
  {
   "cell_type": "code",
   "execution_count": null,
   "metadata": {},
   "outputs": [],
   "source": []
  },
  {
   "cell_type": "code",
   "execution_count": 44,
   "metadata": {},
   "outputs": [
    {
     "data": {
      "text/html": [
       "<div>\n",
       "<style scoped>\n",
       "    .dataframe tbody tr th:only-of-type {\n",
       "        vertical-align: middle;\n",
       "    }\n",
       "\n",
       "    .dataframe tbody tr th {\n",
       "        vertical-align: top;\n",
       "    }\n",
       "\n",
       "    .dataframe thead th {\n",
       "        text-align: right;\n",
       "    }\n",
       "</style>\n",
       "<table border=\"1\" class=\"dataframe\">\n",
       "  <thead>\n",
       "    <tr style=\"text-align: right;\">\n",
       "      <th></th>\n",
       "      <th>fl_date</th>\n",
       "      <th>months</th>\n",
       "      <th>mkt_unique_carrier</th>\n",
       "      <th>mkt_carrier</th>\n",
       "      <th>op_unique_carrier</th>\n",
       "      <th>origin_airport_id</th>\n",
       "      <th>origin</th>\n",
       "      <th>origin_city_name</th>\n",
       "      <th>dest_airport_id</th>\n",
       "      <th>dest</th>\n",
       "      <th>dest_city_name</th>\n",
       "      <th>crs_dep_time</th>\n",
       "      <th>dep_time</th>\n",
       "      <th>dep_delay</th>\n",
       "      <th>taxi_out</th>\n",
       "      <th>wheels_off</th>\n",
       "      <th>wheels_on</th>\n",
       "      <th>taxi_in</th>\n",
       "      <th>crs_arr_time</th>\n",
       "      <th>arr_time</th>\n",
       "      <th>arr_delay</th>\n",
       "      <th>dup</th>\n",
       "      <th>crs_elapsed_time</th>\n",
       "      <th>actual_elapsed_time</th>\n",
       "      <th>air_time</th>\n",
       "      <th>distance</th>\n",
       "      <th>carrier_delay</th>\n",
       "      <th>weather_delay</th>\n",
       "      <th>nas_delay</th>\n",
       "      <th>security_delay</th>\n",
       "      <th>late_aircraft_delay</th>\n",
       "      <th>arr_delay_zs</th>\n",
       "      <th>taxi_out_zs</th>\n",
       "      <th>speed</th>\n",
       "      <th>time_bins</th>\n",
       "    </tr>\n",
       "  </thead>\n",
       "  <tbody>\n",
       "    <tr>\n",
       "      <th>0</th>\n",
       "      <td>2019-08-17</td>\n",
       "      <td>8</td>\n",
       "      <td>DL</td>\n",
       "      <td>DL</td>\n",
       "      <td>9E</td>\n",
       "      <td>13487</td>\n",
       "      <td>MSP</td>\n",
       "      <td>Minneapolis, MN</td>\n",
       "      <td>11986</td>\n",
       "      <td>GRR</td>\n",
       "      <td>Grand Rapids, MI</td>\n",
       "      <td>710</td>\n",
       "      <td>705.0</td>\n",
       "      <td>-5.0</td>\n",
       "      <td>18.0</td>\n",
       "      <td>723.0</td>\n",
       "      <td>923.0</td>\n",
       "      <td>3.0</td>\n",
       "      <td>938</td>\n",
       "      <td>926.0</td>\n",
       "      <td>-12.0</td>\n",
       "      <td>N</td>\n",
       "      <td>88</td>\n",
       "      <td>81.0</td>\n",
       "      <td>60.0</td>\n",
       "      <td>408</td>\n",
       "      <td>NaN</td>\n",
       "      <td>NaN</td>\n",
       "      <td>NaN</td>\n",
       "      <td>NaN</td>\n",
       "      <td>NaN</td>\n",
       "      <td>-12.0</td>\n",
       "      <td>18.0</td>\n",
       "      <td>6.800000</td>\n",
       "      <td>SHORT</td>\n",
       "    </tr>\n",
       "    <tr>\n",
       "      <th>1</th>\n",
       "      <td>2019-01-28</td>\n",
       "      <td>1</td>\n",
       "      <td>AA</td>\n",
       "      <td>AA</td>\n",
       "      <td>YV</td>\n",
       "      <td>10599</td>\n",
       "      <td>BHM</td>\n",
       "      <td>Birmingham, AL</td>\n",
       "      <td>11298</td>\n",
       "      <td>DFW</td>\n",
       "      <td>Dallas/Fort Worth, TX</td>\n",
       "      <td>1251</td>\n",
       "      <td>1256.0</td>\n",
       "      <td>5.0</td>\n",
       "      <td>19.0</td>\n",
       "      <td>1315.0</td>\n",
       "      <td>1448.0</td>\n",
       "      <td>14.0</td>\n",
       "      <td>1500</td>\n",
       "      <td>1502.0</td>\n",
       "      <td>2.0</td>\n",
       "      <td>N</td>\n",
       "      <td>129</td>\n",
       "      <td>126.0</td>\n",
       "      <td>93.0</td>\n",
       "      <td>597</td>\n",
       "      <td>NaN</td>\n",
       "      <td>NaN</td>\n",
       "      <td>NaN</td>\n",
       "      <td>NaN</td>\n",
       "      <td>NaN</td>\n",
       "      <td>2.0</td>\n",
       "      <td>19.0</td>\n",
       "      <td>6.419355</td>\n",
       "      <td>SHORT</td>\n",
       "    </tr>\n",
       "  </tbody>\n",
       "</table>\n",
       "</div>"
      ],
      "text/plain": [
       "      fl_date  months mkt_unique_carrier mkt_carrier op_unique_carrier  \\\n",
       "0  2019-08-17       8                 DL          DL                9E   \n",
       "1  2019-01-28       1                 AA          AA                YV   \n",
       "\n",
       "   origin_airport_id origin origin_city_name  dest_airport_id dest  \\\n",
       "0              13487    MSP  Minneapolis, MN            11986  GRR   \n",
       "1              10599    BHM   Birmingham, AL            11298  DFW   \n",
       "\n",
       "          dest_city_name  crs_dep_time  dep_time  dep_delay  taxi_out  \\\n",
       "0       Grand Rapids, MI           710     705.0       -5.0      18.0   \n",
       "1  Dallas/Fort Worth, TX          1251    1256.0        5.0      19.0   \n",
       "\n",
       "   wheels_off  wheels_on  taxi_in  crs_arr_time  arr_time  arr_delay dup  \\\n",
       "0       723.0      923.0      3.0           938     926.0      -12.0   N   \n",
       "1      1315.0     1448.0     14.0          1500    1502.0        2.0   N   \n",
       "\n",
       "   crs_elapsed_time  actual_elapsed_time  air_time  distance  carrier_delay  \\\n",
       "0                88                 81.0      60.0       408            NaN   \n",
       "1               129                126.0      93.0       597            NaN   \n",
       "\n",
       "   weather_delay  nas_delay  security_delay  late_aircraft_delay  \\\n",
       "0            NaN        NaN             NaN                  NaN   \n",
       "1            NaN        NaN             NaN                  NaN   \n",
       "\n",
       "   arr_delay_zs  taxi_out_zs     speed time_bins  \n",
       "0         -12.0         18.0  6.800000     SHORT  \n",
       "1           2.0         19.0  6.419355     SHORT  "
      ]
     },
     "execution_count": 44,
     "metadata": {},
     "output_type": "execute_result"
    }
   ],
   "source": [
    "df.head(2)"
   ]
  },
  {
   "cell_type": "code",
   "execution_count": 45,
   "metadata": {},
   "outputs": [
    {
     "data": {
      "text/plain": [
       "0     0.0\n",
       "1     0.0\n",
       "2     0.0\n",
       "3    81.0\n",
       "4    16.0\n",
       "Name: total_delay, dtype: float64"
      ]
     },
     "execution_count": 45,
     "metadata": {},
     "output_type": "execute_result"
    }
   ],
   "source": [
    "df['total_delay'] = (df['carrier_delay'] + df['weather_delay']\n",
    "             + df['nas_delay'] + df['security_delay'] + df['late_aircraft_delay'])\n",
    "\n",
    "df_delays = df.loc[(df['total_delay'] != np.NaN)]\n",
    "df['total_delay'].fillna(0, inplace=True)\n",
    "df['total_delay'].head()"
   ]
  },
  {
   "cell_type": "code",
   "execution_count": 46,
   "metadata": {},
   "outputs": [
    {
     "data": {
      "image/png": "[encoded data removed]",
      "text/plain": [
       "<Figure size 864x432 with 1 Axes>"
      ]
     },
     "metadata": {
      "needs_background": "light"
     },
     "output_type": "display_data"
    }
   ],
   "source": [
    "carrier_group = df_delays['carrier_delay'].groupby(df_delays['mkt_unique_carrier']).mean()\n",
    "weather_group = df_delays['weather_delay'].groupby(df_delays['mkt_unique_carrier']).mean()\n",
    "nas_group = df_delays['nas_delay'].groupby(df_delays['mkt_unique_carrier']).mean()\n",
    "security_group = df_delays['security_delay'].groupby(df_delays['mkt_unique_carrier']).mean()\n",
    "late_group = df_delays['late_aircraft_delay'].groupby(df_delays['mkt_unique_carrier']).mean()\n",
    "\n",
    "w_bottom = carrier_group.values\n",
    "n_bottom = w_bottom + weather_group.values\n",
    "s_bottom = n_bottom + nas_group.values\n",
    "l_bottom = s_bottom + security_group.values\n",
    "\n",
    "x = carrier_group.index.values\n",
    "\n",
    "fig, ax = plt.subplots(figsize = (12,6))\n",
    "\n",
    "ax.set_xticks(np.arange(len(x)))\n",
    "ax.set_xticklabels(x, rotation = 45)\n",
    "ax.bar(np.arange(len(x)),carrier_group.values, align='center', label='Carrier Delay')\n",
    "ax.bar(np.arange(len(x)),weather_group.values, align='center', bottom=w_bottom, label='Weather Delay')\n",
    "ax.bar(np.arange(len(x)),nas_group.values, align='center', bottom=n_bottom, label='NAS Delay')\n",
    "ax.bar(np.arange(len(x)),security_group.values, align='center', bottom=s_bottom, label='Security Delay')\n",
    "ax.bar(np.arange(len(x)),late_group.values, align='center', bottom=l_bottom, label='Late Aircraft Delay')\n",
    "\n",
    "ax.set_xlabel('Aircraft Carrier Code')\n",
    "ax.set_ylabel('Departure Delay in minutes')\n",
    "\n",
    "plt.legend()\n",
    "plt.show()"
   ]
  },
  {
   "cell_type": "code",
   "execution_count": 47,
   "metadata": {},
   "outputs": [],
   "source": [
    "df_delays = df_delays[df_delays['total_delay'] > 0]"
   ]
  },
  {
   "cell_type": "code",
   "execution_count": 48,
   "metadata": {},
   "outputs": [],
   "source": [
    "carrier_flights = df['mkt_unique_carrier'].groupby(df['mkt_unique_carrier']).count()\n",
    "carrier_delays = df_delays['total_delay'].groupby(df_delays['mkt_unique_carrier']).count()\n",
    "carrier_avg_time = df['air_time'].groupby(df['mkt_unique_carrier']).mean()\n",
    "carrier_avg_dist = df['distance'].groupby(df['mkt_unique_carrier']).mean()\n",
    "carrier_avg_delay = df['total_delay'].groupby(df['mkt_unique_carrier']).mean()\n",
    "carrier_avg_taxiIn = df['taxi_in'].groupby(df['mkt_unique_carrier']).mean()\n",
    "carrier_avg_taxiOut = df['taxi_out'].groupby(df['mkt_unique_carrier']).mean()"
   ]
  },
  {
   "cell_type": "code",
   "execution_count": 49,
   "metadata": {},
   "outputs": [
    {
     "data": {
      "text/html": [
       "<div>\n",
       "<style scoped>\n",
       "    .dataframe tbody tr th:only-of-type {\n",
       "        vertical-align: middle;\n",
       "    }\n",
       "\n",
       "    .dataframe tbody tr th {\n",
       "        vertical-align: top;\n",
       "    }\n",
       "\n",
       "    .dataframe thead th {\n",
       "        text-align: right;\n",
       "    }\n",
       "</style>\n",
       "<table border=\"1\" class=\"dataframe\">\n",
       "  <thead>\n",
       "    <tr style=\"text-align: right;\">\n",
       "      <th></th>\n",
       "      <th>Total Flights</th>\n",
       "      <th>Total Delays</th>\n",
       "      <th>Avg Flight Time (mins)</th>\n",
       "      <th>Avg Flight Distance</th>\n",
       "      <th>Avg Flight Delay (mins)</th>\n",
       "      <th>Avg Taxi-In (mins)</th>\n",
       "      <th>Avg Taxi-Out (mins)</th>\n",
       "    </tr>\n",
       "    <tr>\n",
       "      <th>mkt_unique_carrier</th>\n",
       "      <th></th>\n",
       "      <th></th>\n",
       "      <th></th>\n",
       "      <th></th>\n",
       "      <th></th>\n",
       "      <th></th>\n",
       "      <th></th>\n",
       "    </tr>\n",
       "  </thead>\n",
       "  <tbody>\n",
       "    <tr>\n",
       "      <th>AA</th>\n",
       "      <td>2525</td>\n",
       "      <td>515.0</td>\n",
       "      <td>100.752475</td>\n",
       "      <td>700.957228</td>\n",
       "      <td>12.518020</td>\n",
       "      <td>9.058218</td>\n",
       "      <td>18.782178</td>\n",
       "    </tr>\n",
       "    <tr>\n",
       "      <th>AS</th>\n",
       "      <td>545</td>\n",
       "      <td>92.0</td>\n",
       "      <td>132.097248</td>\n",
       "      <td>960.801835</td>\n",
       "      <td>9.014679</td>\n",
       "      <td>7.370642</td>\n",
       "      <td>17.484404</td>\n",
       "    </tr>\n",
       "    <tr>\n",
       "      <th>B6</th>\n",
       "      <td>371</td>\n",
       "      <td>106.0</td>\n",
       "      <td>144.676550</td>\n",
       "      <td>1070.164420</td>\n",
       "      <td>22.690027</td>\n",
       "      <td>6.865229</td>\n",
       "      <td>18.110512</td>\n",
       "    </tr>\n",
       "    <tr>\n",
       "      <th>DL</th>\n",
       "      <td>2192</td>\n",
       "      <td>336.0</td>\n",
       "      <td>98.822993</td>\n",
       "      <td>693.317974</td>\n",
       "      <td>11.727646</td>\n",
       "      <td>7.280566</td>\n",
       "      <td>18.449818</td>\n",
       "    </tr>\n",
       "    <tr>\n",
       "      <th>F9</th>\n",
       "      <td>144</td>\n",
       "      <td>37.0</td>\n",
       "      <td>135.236111</td>\n",
       "      <td>1021.708333</td>\n",
       "      <td>16.965278</td>\n",
       "      <td>11.576389</td>\n",
       "      <td>17.111111</td>\n",
       "    </tr>\n",
       "    <tr>\n",
       "      <th>G4</th>\n",
       "      <td>126</td>\n",
       "      <td>24.0</td>\n",
       "      <td>117.023810</td>\n",
       "      <td>871.214286</td>\n",
       "      <td>26.587302</td>\n",
       "      <td>6.722222</td>\n",
       "      <td>12.920635</td>\n",
       "    </tr>\n",
       "    <tr>\n",
       "      <th>HA</th>\n",
       "      <td>126</td>\n",
       "      <td>13.0</td>\n",
       "      <td>78.655738</td>\n",
       "      <td>564.888889</td>\n",
       "      <td>6.388889</td>\n",
       "      <td>6.590164</td>\n",
       "      <td>11.737705</td>\n",
       "    </tr>\n",
       "    <tr>\n",
       "      <th>NK</th>\n",
       "      <td>224</td>\n",
       "      <td>47.0</td>\n",
       "      <td>137.709821</td>\n",
       "      <td>1013.875000</td>\n",
       "      <td>16.245536</td>\n",
       "      <td>10.482143</td>\n",
       "      <td>16.120536</td>\n",
       "    </tr>\n",
       "    <tr>\n",
       "      <th>UA</th>\n",
       "      <td>1914</td>\n",
       "      <td>413.0</td>\n",
       "      <td>108.470219</td>\n",
       "      <td>774.241379</td>\n",
       "      <td>17.555904</td>\n",
       "      <td>8.208986</td>\n",
       "      <td>20.416405</td>\n",
       "    </tr>\n",
       "    <tr>\n",
       "      <th>VX</th>\n",
       "      <td>6</td>\n",
       "      <td>NaN</td>\n",
       "      <td>176.000000</td>\n",
       "      <td>1394.166667</td>\n",
       "      <td>0.000000</td>\n",
       "      <td>6.333333</td>\n",
       "      <td>18.833333</td>\n",
       "    </tr>\n",
       "    <tr>\n",
       "      <th>WN</th>\n",
       "      <td>1627</td>\n",
       "      <td>285.0</td>\n",
       "      <td>107.242163</td>\n",
       "      <td>770.902274</td>\n",
       "      <td>8.346036</td>\n",
       "      <td>5.298709</td>\n",
       "      <td>12.143823</td>\n",
       "    </tr>\n",
       "  </tbody>\n",
       "</table>\n",
       "</div>"
      ],
      "text/plain": [
       "                    Total Flights  Total Delays  Avg Flight Time (mins)  \\\n",
       "mkt_unique_carrier                                                        \n",
       "AA                           2525         515.0              100.752475   \n",
       "AS                            545          92.0              132.097248   \n",
       "B6                            371         106.0              144.676550   \n",
       "DL                           2192         336.0               98.822993   \n",
       "F9                            144          37.0              135.236111   \n",
       "G4                            126          24.0              117.023810   \n",
       "HA                            126          13.0               78.655738   \n",
       "NK                            224          47.0              137.709821   \n",
       "UA                           1914         413.0              108.470219   \n",
       "VX                              6           NaN              176.000000   \n",
       "WN                           1627         285.0              107.242163   \n",
       "\n",
       "                    Avg Flight Distance  Avg Flight Delay (mins)  \\\n",
       "mkt_unique_carrier                                                 \n",
       "AA                           700.957228                12.518020   \n",
       "AS                           960.801835                 9.014679   \n",
       "B6                          1070.164420                22.690027   \n",
       "DL                           693.317974                11.727646   \n",
       "F9                          1021.708333                16.965278   \n",
       "G4                           871.214286                26.587302   \n",
       "HA                           564.888889                 6.388889   \n",
       "NK                          1013.875000                16.245536   \n",
       "UA                           774.241379                17.555904   \n",
       "VX                          1394.166667                 0.000000   \n",
       "WN                           770.902274                 8.346036   \n",
       "\n",
       "                    Avg Taxi-In (mins)  Avg Taxi-Out (mins)  \n",
       "mkt_unique_carrier                                           \n",
       "AA                            9.058218            18.782178  \n",
       "AS                            7.370642            17.484404  \n",
       "B6                            6.865229            18.110512  \n",
       "DL                            7.280566            18.449818  \n",
       "F9                           11.576389            17.111111  \n",
       "G4                            6.722222            12.920635  \n",
       "HA                            6.590164            11.737705  \n",
       "NK                           10.482143            16.120536  \n",
       "UA                            8.208986            20.416405  \n",
       "VX                            6.333333            18.833333  \n",
       "WN                            5.298709            12.143823  "
      ]
     },
     "execution_count": 49,
     "metadata": {},
     "output_type": "execute_result"
    }
   ],
   "source": [
    "summary_table_carrier = pd.concat([carrier_flights, carrier_delays, carrier_avg_time, carrier_avg_dist,\n",
    "                                   carrier_avg_delay, carrier_avg_taxiIn, carrier_avg_taxiOut], axis=1)\n",
    "\n",
    "summary_table_carrier.columns = ['Total Flights', 'Total Delays', 'Avg Flight Time (mins)',\n",
    "                         'Avg Flight Distance', 'Avg Flight Delay (mins)', \n",
    "                         'Avg Taxi-In (mins)', 'Avg Taxi-Out (mins)']\n",
    "\n",
    "summary_table_carrier"
   ]
  },
  {
   "cell_type": "code",
   "execution_count": null,
   "metadata": {},
   "outputs": [],
   "source": []
  },
  {
   "cell_type": "code",
   "execution_count": null,
   "metadata": {},
   "outputs": [],
   "source": []
  },
  {
   "cell_type": "code",
   "execution_count": null,
   "metadata": {},
   "outputs": [],
   "source": []
  },
  {
   "cell_type": "code",
   "execution_count": null,
   "metadata": {},
   "outputs": [],
   "source": []
  },
  {
   "cell_type": "code",
   "execution_count": null,
   "metadata": {},
   "outputs": [],
   "source": []
  },
  {
   "cell_type": "code",
   "execution_count": null,
   "metadata": {},
   "outputs": [],
   "source": []
  },
  {
   "cell_type": "code",
   "execution_count": null,
   "metadata": {},
   "outputs": [],
   "source": [
    "from sklearn.ensemble import RandomForestClassifier\n",
    "from sklearn.metrics import accuracy_score, precision_score, recall_score, f1_score, confusion_matrix\n",
    "\n",
    "clf = RandomForestClassifier(n_estimators=50, random_state=47).fit(X_train, y_train)\n",
    "\n",
    "# sum(y_test)\n",
    "# clf.score(X_test, y_test)\n",
    "\n",
    "y_predicted = clf.predict(X_test)\n",
    "confusion = confusion_matrix(y_test, y_predicted)\n",
    "#confusion\n",
    "#sum(y_predicted)\n",
    "\n",
    "print('Recall: {:.3f}'.format(recall_score(y_test, y_predicted)))\n",
    "print('Precision: {:.3f}'.format(precision_score(y_test, y_predicted)))\n",
    "print('Accuracy: {:.3f}'.format(accuracy_score(y_test, y_predicted)))\n",
    "print('F1: {:.3f}'.format(f1_score(y_test, y_predicted)))\n",
    "confusion = confusion_matrix(y_test, y_predicted)\n",
    "print(confusion)\n",
    "print('Feature importances: {}'.format(clf.feature_importances_))"
   ]
  }
 ],
 "metadata": {
  "kernelspec": {
   "display_name": "Python 3",
   "language": "python",
   "name": "python3"
  },
  "language_info": {
   "codemirror_mode": {
    "name": "ipython",
    "version": 3
   },
   "file_extension": ".py",
   "mimetype": "text/x-python",
   "name": "python",
   "nbconvert_exporter": "python",
   "pygments_lexer": "ipython3",
   "version": "3.8.5"
  },
  "toc": {
   "base_numbering": 1,
   "nav_menu": {},
   "number_sections": true,
   "sideBar": true,
   "skip_h1_title": false,
   "title_cell": "Table of Contents",
   "title_sidebar": "Contents",
   "toc_cell": false,
   "toc_position": {},
   "toc_section_display": true,
   "toc_window_display": false
  },
  "varInspector": {
   "cols": {
    "lenName": 16,
    "lenType": 16,
    "lenVar": 40
   },
   "kernels_config": {
    "python": {
     "delete_cmd_postfix": "",
     "delete_cmd_prefix": "del ",
     "library": "var_list.py",
     "varRefreshCmd": "print(var_dic_list())"
    },
    "r": {
     "delete_cmd_postfix": ") ",
     "delete_cmd_prefix": "rm(",
     "library": "var_list.r",
     "varRefreshCmd": "cat(var_dic_list()) "
    }
   },
   "types_to_exclude": [
    "module",
    "function",
    "builtin_function_or_method",
    "instance",
    "_Feature"
   ],
   "window_display": false
  }
 },
 "nbformat": 4,
 "nbformat_minor": 4
}
